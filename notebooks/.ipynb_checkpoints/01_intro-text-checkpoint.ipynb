{
 "cells": [
  {
   "cell_type": "markdown",
   "metadata": {
    "toc": true
   },
   "source": [
    "<h1>Week 01. Text Data Essentials<span class=\"tocSkip\"></span></h1>\n",
    "<div class=\"toc\"><ul class=\"toc-item\"><li><span><a href=\"#Week-01.-Introduction-to-Text-Data\" data-toc-modified-id=\"Week-01.-Introduction-to-Text-Data-1\"><span class=\"toc-item-num\">1&nbsp;&nbsp;</span>Week 01. Introduction to Text Data</a></span></li><li><span><a href=\"#Loading-and-Inspecting-Data-with-Pandas\" data-toc-modified-id=\"Loading-and-Inspecting-Data-with-Pandas-2\"><span class=\"toc-item-num\">2&nbsp;&nbsp;</span>Loading and Inspecting Data with Pandas</a></span><ul class=\"toc-item\"><li><span><a href=\"#Iterating-over-documents-in-a-dataframe\" data-toc-modified-id=\"Iterating-over-documents-in-a-dataframe-2.1\"><span class=\"toc-item-num\">2.1&nbsp;&nbsp;</span>Iterating over documents in a dataframe</a></span></li><li><span><a href=\"#Saving-data\" data-toc-modified-id=\"Saving-data-2.2\"><span class=\"toc-item-num\">2.2&nbsp;&nbsp;</span>Saving data</a></span></li></ul></li><li><span><a href=\"#Web-Scraping\" data-toc-modified-id=\"Web-Scraping-3\"><span class=\"toc-item-num\">3&nbsp;&nbsp;</span>Web Scraping</a></span><ul class=\"toc-item\"><li><span><a href=\"#Downloading-URL's\" data-toc-modified-id=\"Downloading-URL's-3.1\"><span class=\"toc-item-num\">3.1&nbsp;&nbsp;</span>Downloading URL's</a></span></li><li><span><a href=\"#Parsing-HTML\" data-toc-modified-id=\"Parsing-HTML-3.2\"><span class=\"toc-item-num\">3.2&nbsp;&nbsp;</span>Parsing HTML</a></span></li><li><span><a href=\"#Removing-unicode-characters\" data-toc-modified-id=\"Removing-unicode-characters-3.3\"><span class=\"toc-item-num\">3.3&nbsp;&nbsp;</span>Removing unicode characters</a></span></li></ul></li><li><span><a href=\"#Quantity-of-Text\" data-toc-modified-id=\"Quantity-of-Text-4\"><span class=\"toc-item-num\">4&nbsp;&nbsp;</span>Quantity of Text</a></span></li><li><span><a href=\"#Dictionary-/-Matching-Methods\" data-toc-modified-id=\"Dictionary-/-Matching-Methods-5\"><span class=\"toc-item-num\">5&nbsp;&nbsp;</span>Dictionary / Matching Methods</a></span><ul class=\"toc-item\"><li><span><a href=\"#Sentiment-Analysis\" data-toc-modified-id=\"Sentiment-Analysis-5.1\"><span class=\"toc-item-num\">5.1&nbsp;&nbsp;</span>Sentiment Analysis</a></span></li><li><span><a href=\"#Sentiment-Analysis-with-Huggingface\" data-toc-modified-id=\"Sentiment-Analysis-with-Huggingface-5.2\"><span class=\"toc-item-num\">5.2&nbsp;&nbsp;</span>Sentiment Analysis with Huggingface</a></span></li><li><span><a href=\"#StopWords\" data-toc-modified-id=\"StopWords-5.3\"><span class=\"toc-item-num\">5.3&nbsp;&nbsp;</span>StopWords</a></span></li><li><span><a href=\"#RegEx\" data-toc-modified-id=\"RegEx-5.4\"><span class=\"toc-item-num\">5.4&nbsp;&nbsp;</span>RegEx</a></span></li><li><span><a href=\"#WordNet\" data-toc-modified-id=\"WordNet-5.5\"><span class=\"toc-item-num\">5.5&nbsp;&nbsp;</span>WordNet</a></span></li></ul></li></ul></div>"
   ]
  },
  {
   "cell_type": "markdown",
   "metadata": {},
   "source": [
    "# Week 01. Introduction to Text Data\n",
    "\n",
    "Natural Language Processing for Law and Social Science<br>\n",
    "Elliott Ash, ETH Zurich"
   ]
  },
  {
   "cell_type": "code",
   "execution_count": 4,
   "metadata": {
    "ExecuteTime": {
     "end_time": "2022-02-21T10:00:17.481599Z",
     "start_time": "2022-02-21T10:00:17.479614Z"
    }
   },
   "outputs": [],
   "source": [
    "# set random seed\n",
    "import numpy as np\n",
    "np.random.seed(4)"
   ]
  },
  {
   "cell_type": "markdown",
   "metadata": {},
   "source": [
    "# Loading and Inspecting Data with Pandas"
   ]
  },
  {
   "cell_type": "code",
   "execution_count": 5,
   "metadata": {
    "ExecuteTime": {
     "end_time": "2022-02-21T10:00:18.090647Z",
     "start_time": "2022-02-21T10:00:17.755953Z"
    }
   },
   "outputs": [],
   "source": [
    "#import warnings; warnings.simplefilter('ignore')\n",
    "# !pip install pandas\n",
    "import pandas as pd\n",
    "df = pd.read_csv('sc_cases.zip',compression='gzip')"
   ]
  },
  {
   "cell_type": "code",
   "execution_count": 6,
   "metadata": {
    "ExecuteTime": {
     "end_time": "2022-02-21T10:00:18.096783Z",
     "start_time": "2022-02-21T10:00:18.091674Z"
    }
   },
   "outputs": [
    {
     "name": "stdout",
     "output_type": "stream",
     "text": [
      "<class 'pandas.core.frame.DataFrame'>\n",
      "RangeIndex: 820 entries, 0 to 819\n",
      "Data columns (total 10 columns):\n",
      " #   Column          Non-Null Count  Dtype  \n",
      "---  ------          --------------  -----  \n",
      " 0   case_name       786 non-null    object \n",
      " 1   opinion_type    820 non-null    object \n",
      " 2   date_standard   820 non-null    object \n",
      " 3   authorship      820 non-null    object \n",
      " 4   x_republican    803 non-null    float64\n",
      " 5   maj_judges      786 non-null    object \n",
      " 6   dissent_judges  786 non-null    object \n",
      " 7   topic_id        786 non-null    float64\n",
      " 8   cite_count      812 non-null    float64\n",
      " 9   opinion_text    820 non-null    object \n",
      "dtypes: float64(3), object(7)\n",
      "memory usage: 64.2+ KB\n"
     ]
    }
   ],
   "source": [
    "df.info() "
   ]
  },
  {
   "cell_type": "code",
   "execution_count": 7,
   "metadata": {
    "ExecuteTime": {
     "end_time": "2022-02-21T10:00:18.106182Z",
     "start_time": "2022-02-21T10:00:18.097689Z"
    }
   },
   "outputs": [
    {
     "data": {
      "text/html": [
       "<div>\n",
       "<style scoped>\n",
       "    .dataframe tbody tr th:only-of-type {\n",
       "        vertical-align: middle;\n",
       "    }\n",
       "\n",
       "    .dataframe tbody tr th {\n",
       "        vertical-align: top;\n",
       "    }\n",
       "\n",
       "    .dataframe thead th {\n",
       "        text-align: right;\n",
       "    }\n",
       "</style>\n",
       "<table border=\"1\" class=\"dataframe\">\n",
       "  <thead>\n",
       "    <tr style=\"text-align: right;\">\n",
       "      <th></th>\n",
       "      <th>case_name</th>\n",
       "      <th>opinion_type</th>\n",
       "      <th>date_standard</th>\n",
       "      <th>authorship</th>\n",
       "      <th>x_republican</th>\n",
       "      <th>maj_judges</th>\n",
       "      <th>dissent_judges</th>\n",
       "      <th>topic_id</th>\n",
       "      <th>cite_count</th>\n",
       "      <th>opinion_text</th>\n",
       "    </tr>\n",
       "  </thead>\n",
       "  <tbody>\n",
       "    <tr>\n",
       "      <th>0</th>\n",
       "      <td>ERICK CORNELL CLAY v. UNITED STATES</td>\n",
       "      <td>majority</td>\n",
       "      <td>2003-03-04</td>\n",
       "      <td>GINSBURG</td>\n",
       "      <td>0.0</td>\n",
       "      <td>['BREYER, STEPHEN', 'GINSBURG, RUTH', 'KENNEDY...</td>\n",
       "      <td>[]</td>\n",
       "      <td>1.0</td>\n",
       "      <td>2926.0</td>\n",
       "      <td>JUSTICE GINSBURG delivered the opinion of the ...</td>\n",
       "    </tr>\n",
       "    <tr>\n",
       "      <th>1</th>\n",
       "      <td>HILLSIDE DAIRY INC., A&amp;A DAIRY, L&amp;S DAIRY, AND...</td>\n",
       "      <td>majority</td>\n",
       "      <td>2003-06-09</td>\n",
       "      <td>STEVENS</td>\n",
       "      <td>1.0</td>\n",
       "      <td>['BREYER, STEPHEN', 'GINSBURG, RUTH', 'KENNEDY...</td>\n",
       "      <td>['THOMAS, CLARENCE']</td>\n",
       "      <td>8.0</td>\n",
       "      <td>117.0</td>\n",
       "      <td>Justice Stevens delivered the opinion of the C...</td>\n",
       "    </tr>\n",
       "    <tr>\n",
       "      <th>2</th>\n",
       "      <td>CHARLES RUSSELL RHINES v. DOUGLAS WEBER, WARDEN</td>\n",
       "      <td>majority</td>\n",
       "      <td>2005-03-30</td>\n",
       "      <td>O'CONNOR</td>\n",
       "      <td>1.0</td>\n",
       "      <td>['BREYER, STEPHEN', 'GINSBURG, RUTH', 'KENNEDY...</td>\n",
       "      <td>[]</td>\n",
       "      <td>1.0</td>\n",
       "      <td>23364.0</td>\n",
       "      <td>Justice O'Connor delivered the opinion of the ...</td>\n",
       "    </tr>\n",
       "    <tr>\n",
       "      <th>3</th>\n",
       "      <td>NaN</td>\n",
       "      <td>majority</td>\n",
       "      <td>2005-04-15</td>\n",
       "      <td>KENNEDY</td>\n",
       "      <td>1.0</td>\n",
       "      <td>NaN</td>\n",
       "      <td>NaN</td>\n",
       "      <td>NaN</td>\n",
       "      <td>6.0</td>\n",
       "      <td>Justice Kennedy, Circuit Justice. \\n\\n This is...</td>\n",
       "    </tr>\n",
       "    <tr>\n",
       "      <th>4</th>\n",
       "      <td>STATE OF ALASKA v. UNITED STATES OF AMERICA</td>\n",
       "      <td>majority</td>\n",
       "      <td>2005-06-06</td>\n",
       "      <td>KENNEDY</td>\n",
       "      <td>1.0</td>\n",
       "      <td>['BREYER, STEPHEN', 'GINSBURG, RUTH', 'KENNEDY...</td>\n",
       "      <td>['REHNQUIST, WILLIAM', 'SCALIA, ANTONIN', 'THO...</td>\n",
       "      <td>10.0</td>\n",
       "      <td>84.0</td>\n",
       "      <td>Justice Kennedy delivered the opinion of the C...</td>\n",
       "    </tr>\n",
       "  </tbody>\n",
       "</table>\n",
       "</div>"
      ],
      "text/plain": [
       "                                           case_name opinion_type  \\\n",
       "0                ERICK CORNELL CLAY v. UNITED STATES     majority   \n",
       "1  HILLSIDE DAIRY INC., A&A DAIRY, L&S DAIRY, AND...     majority   \n",
       "2    CHARLES RUSSELL RHINES v. DOUGLAS WEBER, WARDEN     majority   \n",
       "3                                                NaN     majority   \n",
       "4        STATE OF ALASKA v. UNITED STATES OF AMERICA     majority   \n",
       "\n",
       "  date_standard authorship  x_republican  \\\n",
       "0    2003-03-04   GINSBURG           0.0   \n",
       "1    2003-06-09    STEVENS           1.0   \n",
       "2    2005-03-30   O'CONNOR           1.0   \n",
       "3    2005-04-15    KENNEDY           1.0   \n",
       "4    2005-06-06    KENNEDY           1.0   \n",
       "\n",
       "                                          maj_judges  \\\n",
       "0  ['BREYER, STEPHEN', 'GINSBURG, RUTH', 'KENNEDY...   \n",
       "1  ['BREYER, STEPHEN', 'GINSBURG, RUTH', 'KENNEDY...   \n",
       "2  ['BREYER, STEPHEN', 'GINSBURG, RUTH', 'KENNEDY...   \n",
       "3                                                NaN   \n",
       "4  ['BREYER, STEPHEN', 'GINSBURG, RUTH', 'KENNEDY...   \n",
       "\n",
       "                                      dissent_judges  topic_id  cite_count  \\\n",
       "0                                                 []       1.0      2926.0   \n",
       "1                               ['THOMAS, CLARENCE']       8.0       117.0   \n",
       "2                                                 []       1.0     23364.0   \n",
       "3                                                NaN       NaN         6.0   \n",
       "4  ['REHNQUIST, WILLIAM', 'SCALIA, ANTONIN', 'THO...      10.0        84.0   \n",
       "\n",
       "                                        opinion_text  \n",
       "0  JUSTICE GINSBURG delivered the opinion of the ...  \n",
       "1  Justice Stevens delivered the opinion of the C...  \n",
       "2  Justice O'Connor delivered the opinion of the ...  \n",
       "3  Justice Kennedy, Circuit Justice. \\n\\n This is...  \n",
       "4  Justice Kennedy delivered the opinion of the C...  "
      ]
     },
     "execution_count": 7,
     "metadata": {},
     "output_type": "execute_result"
    }
   ],
   "source": [
    "df.head()"
   ]
  },
  {
   "cell_type": "code",
   "execution_count": 8,
   "metadata": {
    "ExecuteTime": {
     "end_time": "2022-02-21T10:00:18.114089Z",
     "start_time": "2022-02-21T10:00:18.107965Z"
    }
   },
   "outputs": [
    {
     "data": {
      "text/html": [
       "<div>\n",
       "<style scoped>\n",
       "    .dataframe tbody tr th:only-of-type {\n",
       "        vertical-align: middle;\n",
       "    }\n",
       "\n",
       "    .dataframe tbody tr th {\n",
       "        vertical-align: top;\n",
       "    }\n",
       "\n",
       "    .dataframe thead th {\n",
       "        text-align: right;\n",
       "    }\n",
       "</style>\n",
       "<table border=\"1\" class=\"dataframe\">\n",
       "  <thead>\n",
       "    <tr style=\"text-align: right;\">\n",
       "      <th></th>\n",
       "      <th>case_name</th>\n",
       "      <th>opinion_type</th>\n",
       "      <th>date_standard</th>\n",
       "      <th>authorship</th>\n",
       "      <th>x_republican</th>\n",
       "      <th>maj_judges</th>\n",
       "      <th>dissent_judges</th>\n",
       "      <th>topic_id</th>\n",
       "      <th>cite_count</th>\n",
       "      <th>opinion_text</th>\n",
       "    </tr>\n",
       "  </thead>\n",
       "  <tbody>\n",
       "    <tr>\n",
       "      <th>0</th>\n",
       "      <td>ERICK CORNELL CLAY v. UNITED STATES</td>\n",
       "      <td>majority</td>\n",
       "      <td>2003-03-04</td>\n",
       "      <td>GINSBURG</td>\n",
       "      <td>0.0</td>\n",
       "      <td>['BREYER, STEPHEN', 'GINSBURG, RUTH', 'KENNEDY...</td>\n",
       "      <td>[]</td>\n",
       "      <td>1.0</td>\n",
       "      <td>2926.0</td>\n",
       "      <td>JUSTICE GINSBURG delivered the opinion of the ...</td>\n",
       "    </tr>\n",
       "    <tr>\n",
       "      <th>1</th>\n",
       "      <td>HILLSIDE DAIRY INC., A&amp;A DAIRY, L&amp;S DAIRY, AND...</td>\n",
       "      <td>majority</td>\n",
       "      <td>2003-06-09</td>\n",
       "      <td>STEVENS</td>\n",
       "      <td>1.0</td>\n",
       "      <td>['BREYER, STEPHEN', 'GINSBURG, RUTH', 'KENNEDY...</td>\n",
       "      <td>['THOMAS, CLARENCE']</td>\n",
       "      <td>8.0</td>\n",
       "      <td>117.0</td>\n",
       "      <td>Justice Stevens delivered the opinion of the C...</td>\n",
       "    </tr>\n",
       "    <tr>\n",
       "      <th>2</th>\n",
       "      <td>CHARLES RUSSELL RHINES v. DOUGLAS WEBER, WARDEN</td>\n",
       "      <td>majority</td>\n",
       "      <td>2005-03-30</td>\n",
       "      <td>O'CONNOR</td>\n",
       "      <td>1.0</td>\n",
       "      <td>['BREYER, STEPHEN', 'GINSBURG, RUTH', 'KENNEDY...</td>\n",
       "      <td>[]</td>\n",
       "      <td>1.0</td>\n",
       "      <td>23364.0</td>\n",
       "      <td>Justice O'Connor delivered the opinion of the ...</td>\n",
       "    </tr>\n",
       "    <tr>\n",
       "      <th>4</th>\n",
       "      <td>STATE OF ALASKA v. UNITED STATES OF AMERICA</td>\n",
       "      <td>majority</td>\n",
       "      <td>2005-06-06</td>\n",
       "      <td>KENNEDY</td>\n",
       "      <td>1.0</td>\n",
       "      <td>['BREYER, STEPHEN', 'GINSBURG, RUTH', 'KENNEDY...</td>\n",
       "      <td>['REHNQUIST, WILLIAM', 'SCALIA, ANTONIN', 'THO...</td>\n",
       "      <td>10.0</td>\n",
       "      <td>84.0</td>\n",
       "      <td>Justice Kennedy delivered the opinion of the C...</td>\n",
       "    </tr>\n",
       "    <tr>\n",
       "      <th>5</th>\n",
       "      <td>REGINALD A. WILKINSON, DIRECTOR, OHIO DEPARTME...</td>\n",
       "      <td>majority</td>\n",
       "      <td>2005-06-13</td>\n",
       "      <td>KENNEDY</td>\n",
       "      <td>1.0</td>\n",
       "      <td>['BREYER, STEPHEN', 'GINSBURG, RUTH', 'KENNEDY...</td>\n",
       "      <td>[]</td>\n",
       "      <td>4.0</td>\n",
       "      <td>4230.0</td>\n",
       "      <td>Justice Kennedy delivered the opinion of the C...</td>\n",
       "    </tr>\n",
       "  </tbody>\n",
       "</table>\n",
       "</div>"
      ],
      "text/plain": [
       "                                           case_name opinion_type  \\\n",
       "0                ERICK CORNELL CLAY v. UNITED STATES     majority   \n",
       "1  HILLSIDE DAIRY INC., A&A DAIRY, L&S DAIRY, AND...     majority   \n",
       "2    CHARLES RUSSELL RHINES v. DOUGLAS WEBER, WARDEN     majority   \n",
       "4        STATE OF ALASKA v. UNITED STATES OF AMERICA     majority   \n",
       "5  REGINALD A. WILKINSON, DIRECTOR, OHIO DEPARTME...     majority   \n",
       "\n",
       "  date_standard authorship  x_republican  \\\n",
       "0    2003-03-04   GINSBURG           0.0   \n",
       "1    2003-06-09    STEVENS           1.0   \n",
       "2    2005-03-30   O'CONNOR           1.0   \n",
       "4    2005-06-06    KENNEDY           1.0   \n",
       "5    2005-06-13    KENNEDY           1.0   \n",
       "\n",
       "                                          maj_judges  \\\n",
       "0  ['BREYER, STEPHEN', 'GINSBURG, RUTH', 'KENNEDY...   \n",
       "1  ['BREYER, STEPHEN', 'GINSBURG, RUTH', 'KENNEDY...   \n",
       "2  ['BREYER, STEPHEN', 'GINSBURG, RUTH', 'KENNEDY...   \n",
       "4  ['BREYER, STEPHEN', 'GINSBURG, RUTH', 'KENNEDY...   \n",
       "5  ['BREYER, STEPHEN', 'GINSBURG, RUTH', 'KENNEDY...   \n",
       "\n",
       "                                      dissent_judges  topic_id  cite_count  \\\n",
       "0                                                 []       1.0      2926.0   \n",
       "1                               ['THOMAS, CLARENCE']       8.0       117.0   \n",
       "2                                                 []       1.0     23364.0   \n",
       "4  ['REHNQUIST, WILLIAM', 'SCALIA, ANTONIN', 'THO...      10.0        84.0   \n",
       "5                                                 []       4.0      4230.0   \n",
       "\n",
       "                                        opinion_text  \n",
       "0  JUSTICE GINSBURG delivered the opinion of the ...  \n",
       "1  Justice Stevens delivered the opinion of the C...  \n",
       "2  Justice O'Connor delivered the opinion of the ...  \n",
       "4  Justice Kennedy delivered the opinion of the C...  \n",
       "5  Justice Kennedy delivered the opinion of the C...  "
      ]
     },
     "execution_count": 8,
     "metadata": {},
     "output_type": "execute_result"
    }
   ],
   "source": [
    "# drop missing\n",
    "df = df.dropna()\n",
    "df.head()"
   ]
  },
  {
   "cell_type": "code",
   "execution_count": 9,
   "metadata": {
    "ExecuteTime": {
     "end_time": "2022-02-21T10:00:18.399603Z",
     "start_time": "2022-02-21T10:00:18.387140Z"
    }
   },
   "outputs": [
    {
     "data": {
      "text/plain": [
       "count        781\n",
       "unique        27\n",
       "top       SCALIA\n",
       "freq          86\n",
       "Name: authorship, dtype: object"
      ]
     },
     "execution_count": 9,
     "metadata": {},
     "output_type": "execute_result"
    }
   ],
   "source": [
    "# Number of label categories (e.g. judges)\n",
    "df['authorship'].describe()"
   ]
  },
  {
   "cell_type": "code",
   "execution_count": 10,
   "metadata": {
    "ExecuteTime": {
     "end_time": "2022-02-21T10:00:18.549716Z",
     "start_time": "2022-02-21T10:00:18.539240Z"
    }
   },
   "outputs": [
    {
     "data": {
      "text/plain": [
       "SCALIA                                           86\n",
       "GINSBURG                                         81\n",
       "THOMAS                                           79\n",
       "KENNEDY                                          79\n",
       "BREYER                                           73\n",
       "SOUTER                                           72\n",
       "STEVENS                                          72\n",
       "O'CONNOR                                         52\n",
       "REHNQUIST                                        49\n",
       "ROBERTS                                          28\n",
       "ALITO                                            23\n",
       "Breyer                                           12\n",
       "Roberts                                          10\n",
       "Alito                                             9\n",
       "Scalia                                            8\n",
       "Thomas                                            8\n",
       "Ginsburg                                          8\n",
       "Stevens                                           7\n",
       "Kennedy                                           7\n",
       "SOTOMAYOR                                         6\n",
       "Souter                                            5\n",
       "STEVENS  AND  O'CONNOR ;  REHNQUIST ;  BREYER     2\n",
       "STEVENS  (IN PART),  BREYER  (IN PART)            1\n",
       "JUSTICE  ALITO                                    1\n",
       "BREYER ;                                          1\n",
       "ROBERTS ,  SCALIA ,  THOMAS ,  ALITO              1\n",
       "Sotomayor                                         1\n",
       "Name: authorship, dtype: int64"
      ]
     },
     "execution_count": 10,
     "metadata": {},
     "output_type": "execute_result"
    }
   ],
   "source": [
    "# tabulations of label categories \n",
    "df['authorship'].value_counts()"
   ]
  },
  {
   "cell_type": "code",
   "execution_count": 11,
   "metadata": {
    "ExecuteTime": {
     "end_time": "2022-02-21T10:00:18.668672Z",
     "start_time": "2022-02-21T10:00:18.662445Z"
    }
   },
   "outputs": [],
   "source": [
    "df['authorship'] = df['authorship'].str.upper()"
   ]
  },
  {
   "cell_type": "code",
   "execution_count": 12,
   "metadata": {
    "ExecuteTime": {
     "end_time": "2022-02-21T10:00:18.801274Z",
     "start_time": "2022-02-21T10:00:18.793458Z"
    }
   },
   "outputs": [
    {
     "data": {
      "text/plain": [
       "SCALIA                                           94\n",
       "GINSBURG                                         89\n",
       "THOMAS                                           87\n",
       "KENNEDY                                          86\n",
       "BREYER                                           85\n",
       "STEVENS                                          79\n",
       "SOUTER                                           77\n",
       "O'CONNOR                                         52\n",
       "REHNQUIST                                        49\n",
       "ROBERTS                                          38\n",
       "ALITO                                            32\n",
       "SOTOMAYOR                                         7\n",
       "STEVENS  AND  O'CONNOR ;  REHNQUIST ;  BREYER     2\n",
       "STEVENS  (IN PART),  BREYER  (IN PART)            1\n",
       "JUSTICE  ALITO                                    1\n",
       "BREYER ;                                          1\n",
       "ROBERTS ,  SCALIA ,  THOMAS ,  ALITO              1\n",
       "Name: authorship, dtype: int64"
      ]
     },
     "execution_count": 12,
     "metadata": {},
     "output_type": "execute_result"
    }
   ],
   "source": [
    "df['authorship'].value_counts()"
   ]
  },
  {
   "cell_type": "code",
   "execution_count": 13,
   "metadata": {
    "ExecuteTime": {
     "end_time": "2022-02-21T10:00:18.934021Z",
     "start_time": "2022-02-21T10:00:18.927074Z"
    }
   },
   "outputs": [
    {
     "name": "stdout",
     "output_type": "stream",
     "text": [
      "Index(['SCALIA', 'GINSBURG', 'THOMAS', 'KENNEDY', 'BREYER', 'STEVENS',\n",
      "       'SOUTER', 'O'CONNOR', 'REHNQUIST', 'ROBERTS', 'ALITO'],\n",
      "      dtype='object')\n"
     ]
    }
   ],
   "source": [
    "# keep all judges through ALITO\n",
    "keep_judges = df['authorship'].value_counts().index[:11]\n",
    "print(keep_judges)"
   ]
  },
  {
   "cell_type": "code",
   "execution_count": 14,
   "metadata": {
    "ExecuteTime": {
     "end_time": "2022-02-21T10:00:19.088971Z",
     "start_time": "2022-02-21T10:00:19.078813Z"
    }
   },
   "outputs": [
    {
     "data": {
      "text/plain": [
       "SCALIA       94\n",
       "GINSBURG     89\n",
       "THOMAS       87\n",
       "KENNEDY      86\n",
       "BREYER       85\n",
       "STEVENS      79\n",
       "SOUTER       77\n",
       "O'CONNOR     52\n",
       "REHNQUIST    49\n",
       "ROBERTS      38\n",
       "ALITO        32\n",
       "Name: authorship, dtype: int64"
      ]
     },
     "execution_count": 14,
     "metadata": {},
     "output_type": "execute_result"
    }
   ],
   "source": [
    "df = df[df['authorship'].isin(keep_judges)]\n",
    "df['authorship'].value_counts()"
   ]
  },
  {
   "cell_type": "code",
   "execution_count": 15,
   "metadata": {
    "ExecuteTime": {
     "end_time": "2022-02-21T10:00:19.223647Z",
     "start_time": "2022-02-21T10:00:19.214366Z"
    }
   },
   "outputs": [
    {
     "data": {
      "text/plain": [
       "0      2003-03-04\n",
       "1      2003-06-09\n",
       "2      2005-03-30\n",
       "4      2005-06-06\n",
       "5      2005-06-13\n",
       "          ...    \n",
       "815    2001-04-18\n",
       "816    2001-04-24\n",
       "817    2001-04-24\n",
       "818    2001-05-14\n",
       "819    2001-05-14\n",
       "Name: date_standard, Length: 768, dtype: object"
      ]
     },
     "execution_count": 15,
     "metadata": {},
     "output_type": "execute_result"
    }
   ],
   "source": [
    "df.date_standard"
   ]
  },
  {
   "cell_type": "code",
   "execution_count": 16,
   "metadata": {
    "ExecuteTime": {
     "end_time": "2022-02-21T10:00:19.372467Z",
     "start_time": "2022-02-21T10:00:19.358818Z"
    }
   },
   "outputs": [
    {
     "data": {
      "text/plain": [
       "0     2003-03-04\n",
       "1     2003-06-09\n",
       "2     2005-03-30\n",
       "4     2005-06-06\n",
       "5     2005-06-13\n",
       "         ...    \n",
       "815   2001-04-18\n",
       "816   2001-04-24\n",
       "817   2001-04-24\n",
       "818   2001-05-14\n",
       "819   2001-05-14\n",
       "Name: date_standard, Length: 768, dtype: datetime64[ns]"
      ]
     },
     "execution_count": 16,
     "metadata": {},
     "output_type": "execute_result"
    }
   ],
   "source": [
    "df['date_standard'] = pd.to_datetime(df['date_standard'])\n",
    "df['date_standard']"
   ]
  },
  {
   "cell_type": "code",
   "execution_count": 17,
   "metadata": {
    "ExecuteTime": {
     "end_time": "2022-02-21T10:00:19.508463Z",
     "start_time": "2022-02-21T10:00:19.500655Z"
    }
   },
   "outputs": [
    {
     "data": {
      "text/plain": [
       "2001    77\n",
       "2000    76\n",
       "2009    74\n",
       "2002    74\n",
       "2004    73\n",
       "2003    70\n",
       "2005    70\n",
       "2007    65\n",
       "2010    64\n",
       "2006    63\n",
       "2008    62\n",
       "Name: year, dtype: int64"
      ]
     },
     "execution_count": 17,
     "metadata": {},
     "output_type": "execute_result"
    }
   ],
   "source": [
    "df['year'] = df['date_standard'].dt.year\n",
    "df['year'].value_counts()"
   ]
  },
  {
   "cell_type": "code",
   "execution_count": 18,
   "metadata": {
    "ExecuteTime": {
     "end_time": "2022-02-21T10:00:20.410551Z",
     "start_time": "2022-02-21T10:00:19.630223Z"
    }
   },
   "outputs": [
    {
     "data": {
      "text/plain": [
       "<AxesSubplot:>"
      ]
     },
     "execution_count": 18,
     "metadata": {},
     "output_type": "execute_result"
    },
    {
     "data": {
      "image/png": "[encoded data removed]",
      "text/plain": [
       "<Figure size 432x288 with 1 Axes>"
      ]
     },
     "metadata": {
      "needs_background": "light"
     },
     "output_type": "display_data"
    }
   ],
   "source": [
    "df['cite_count'].hist()"
   ]
  },
  {
   "cell_type": "code",
   "execution_count": 19,
   "metadata": {
    "ExecuteTime": {
     "end_time": "2022-02-21T10:00:20.525929Z",
     "start_time": "2022-02-21T10:00:20.420551Z"
    }
   },
   "outputs": [
    {
     "data": {
      "text/plain": [
       "<AxesSubplot:>"
      ]
     },
     "execution_count": 19,
     "metadata": {},
     "output_type": "execute_result"
    },
    {
     "data": {
      "image/png": "[encoded data removed]",
      "text/plain": [
       "<Figure size 432x288 with 1 Axes>"
      ]
     },
     "metadata": {
      "needs_background": "light"
     },
     "output_type": "display_data"
    }
   ],
   "source": [
    "import numpy as np\n",
    "df['log_cite_count'] = np.log(df['cite_count'])\n",
    "df['log_cite_count'].hist()"
   ]
  },
  {
   "cell_type": "markdown",
   "metadata": {},
   "source": [
    "Save what we have done so far."
   ]
  },
  {
   "cell_type": "code",
   "execution_count": 20,
   "metadata": {
    "ExecuteTime": {
     "end_time": "2022-02-21T10:00:21.806176Z",
     "start_time": "2022-02-21T10:00:20.538770Z"
    }
   },
   "outputs": [
    {
     "name": "stdout",
     "output_type": "stream",
     "text": [
      "                                             case_name opinion_type  \\\n",
      "0                  ERICK CORNELL CLAY v. UNITED STATES     majority   \n",
      "1    HILLSIDE DAIRY INC., A&A DAIRY, L&S DAIRY, AND...     majority   \n",
      "2      CHARLES RUSSELL RHINES v. DOUGLAS WEBER, WARDEN     majority   \n",
      "4          STATE OF ALASKA v. UNITED STATES OF AMERICA     majority   \n",
      "5    REGINALD A. WILKINSON, DIRECTOR, OHIO DEPARTME...     majority   \n",
      "..                                                 ...          ...   \n",
      "815  MICHAEL F. EASLEY, * GOVERNOR OF NORTH CAROLIN...     majority   \n",
      "816  GAIL ATWATER, et al. v. CITY OF LAGO VISTA et al.     majority   \n",
      "817  JAMES ALEXANDER, DIRECTOR, ALABAMA DEPARTMENT ...     majority   \n",
      "818  UNITED STATES v. OAKLAND CANNABIS BUYERS' COOP...     majority   \n",
      "819                     WILBERT K. ROGERS v. TENNESSEE     majority   \n",
      "\n",
      "    date_standard authorship  x_republican  \\\n",
      "0      2003-03-04   GINSBURG           0.0   \n",
      "1      2003-06-09    STEVENS           1.0   \n",
      "2      2005-03-30   O'CONNOR           1.0   \n",
      "4      2005-06-06    KENNEDY           1.0   \n",
      "5      2005-06-13    KENNEDY           1.0   \n",
      "..            ...        ...           ...   \n",
      "815    2001-04-18     BREYER           0.0   \n",
      "816    2001-04-24     SOUTER           1.0   \n",
      "817    2001-04-24     SCALIA           1.0   \n",
      "818    2001-05-14     THOMAS           1.0   \n",
      "819    2001-05-14   O'CONNOR           1.0   \n",
      "\n",
      "                                            maj_judges  \\\n",
      "0    ['BREYER, STEPHEN', 'GINSBURG, RUTH', 'KENNEDY...   \n",
      "1    ['BREYER, STEPHEN', 'GINSBURG, RUTH', 'KENNEDY...   \n",
      "2    ['BREYER, STEPHEN', 'GINSBURG, RUTH', 'KENNEDY...   \n",
      "4    ['BREYER, STEPHEN', 'GINSBURG, RUTH', 'KENNEDY...   \n",
      "5    ['BREYER, STEPHEN', 'GINSBURG, RUTH', 'KENNEDY...   \n",
      "..                                                 ...   \n",
      "815  ['BREYER, STEPHEN', 'GINSBURG, RUTH', \"O'CONNO...   \n",
      "816  ['KENNEDY, ANTHONY', 'REHNQUIST, WILLIAM', 'SC...   \n",
      "817  ['KENNEDY, ANTHONY', \"O'CONNOR, SANDRA\", 'REHN...   \n",
      "818  ['BREYER, STEPHEN', 'GINSBURG, RUTH', 'KENNEDY...   \n",
      "819  ['GINSBURG, RUTH', 'KENNEDY, ANTHONY', \"O'CONN...   \n",
      "\n",
      "                                        dissent_judges  topic_id  cite_count  \\\n",
      "0                                                   []       1.0      2926.0   \n",
      "1                                 ['THOMAS, CLARENCE']       8.0       117.0   \n",
      "2                                                   []       1.0     23364.0   \n",
      "4    ['REHNQUIST, WILLIAM', 'SCALIA, ANTONIN', 'THO...      10.0        84.0   \n",
      "5                                                   []       4.0      4230.0   \n",
      "..                                                 ...       ...         ...   \n",
      "815  ['KENNEDY, ANTHONY', 'REHNQUIST, WILLIAM', 'SC...       2.0      1236.0   \n",
      "816  ['BREYER, STEPHEN', 'GINSBURG, RUTH', \"O'CONNO...       1.0      3120.0   \n",
      "817  ['BREYER, STEPHEN', 'GINSBURG, RUTH', 'SOUTER,...       9.0      4986.0   \n",
      "818                                                 []       1.0       736.0   \n",
      "819  ['BREYER, STEPHEN', 'SCALIA, ANTONIN', 'STEVEN...       4.0      2100.0   \n",
      "\n",
      "                                          opinion_text  year  log_cite_count  \n",
      "0    JUSTICE GINSBURG delivered the opinion of the ...  2003        7.981392  \n",
      "1    Justice Stevens delivered the opinion of the C...  2003        4.762174  \n",
      "2    Justice O'Connor delivered the opinion of the ...  2005       10.058952  \n",
      "4    Justice Kennedy delivered the opinion of the C...  2005        4.430817  \n",
      "5    Justice Kennedy delivered the opinion of the C...  2005        8.349957  \n",
      "..                                                 ...   ...             ...  \n",
      "815  JUSTICE BREYER delivered the opinion of the Co...  2001        7.119636  \n",
      "816  JUSTICE SOUTER delivered the opinion of the Co...  2001        8.045588  \n",
      "817  JUSTICE SCALIA delivered the opinion of the Co...  2001        8.514389  \n",
      "818  JUSTICE THOMAS delivered the opinion of the Co...  2001        6.601230  \n",
      "819  JUSTICE O'CONNOR delivered the opinion of the ...  2001        7.649693  \n",
      "\n",
      "[768 rows x 12 columns]\n"
     ]
    }
   ],
   "source": [
    "df.to_pickle('sc_cases_cleaned.pkl',compression='gzip')\n",
    "print (df)"
   ]
  },
  {
   "cell_type": "markdown",
   "metadata": {},
   "source": [
    "## Iterating over documents in a dataframe"
   ]
  },
  {
   "cell_type": "markdown",
   "metadata": {},
   "source": [
    "In the following, we show how to iterate over a dataframe and three different ways of how to tokenize documents."
   ]
  },
  {
   "cell_type": "code",
   "execution_count": 21,
   "metadata": {
    "ExecuteTime": {
     "end_time": "2022-02-21T10:00:22.939652Z",
     "start_time": "2022-02-21T10:00:21.845650Z"
    }
   },
   "outputs": [],
   "source": [
    "import spacy\n",
    "# more infos at https://spacy.io/\n",
    "nlp = spacy.load('en_core_web_sm')"
   ]
  },
  {
   "cell_type": "code",
   "execution_count": 22,
   "metadata": {
    "ExecuteTime": {
     "end_time": "2022-02-21T10:00:33.110230Z",
     "start_time": "2022-02-21T10:00:22.940665Z"
    }
   },
   "outputs": [],
   "source": [
    "processed = {} # empty python dictionary for processed data\n",
    "# iterate over rows\n",
    "for i, row in df.iterrows():\n",
    "    if i >= 10:\n",
    "        break\n",
    "    docid = i # make document identifier\n",
    "    text = row['opinion_text']     # get text snippet\n",
    "    document = nlp(text) # get sentences/tokens\n",
    "    processed[docid] = document # add to dictionary    "
   ]
  },
  {
   "cell_type": "code",
   "execution_count": 23,
   "metadata": {
    "ExecuteTime": {
     "end_time": "2022-02-21T10:00:33.112913Z",
     "start_time": "2022-02-21T10:00:33.111165Z"
    }
   },
   "outputs": [
    {
     "name": "stdout",
     "output_type": "stream",
     "text": [
      "opinion 1: JUSTICE GINSBURG delivered the opinion of the Court.\n",
      "\n",
      " A motion by a federal prisoner for postconviction relief under 28 U.S.C. § 2255 is subject to a one-year time limitation that generally runs from \"the date on which the judgment of conviction becomes final.\" \n",
      "\n",
      " opinion 2: Justice Stevens delivered the opinion of the Court. \n",
      "\n",
      "In most of the United States, not including California, the minimum price paid to dairy farmers producing raw milk is regulated pursuant to federal marketing orders.  Those orders guarantee a uniform price for the producers,\n"
     ]
    }
   ],
   "source": [
    "# first and second opinions\n",
    "print (\"opinion 1:\", processed[0][:50], \"\\n\\n\", \"opinion 2:\", processed[1][:50])"
   ]
  },
  {
   "cell_type": "markdown",
   "metadata": {},
   "source": [
    "Let's see in more detail what information we can extract from documents procesesd using spaCy: "
   ]
  },
  {
   "cell_type": "code",
   "execution_count": 24,
   "metadata": {
    "ExecuteTime": {
     "end_time": "2022-02-21T10:00:33.117334Z",
     "start_time": "2022-02-21T10:00:33.114138Z"
    }
   },
   "outputs": [
    {
     "name": "stdout",
     "output_type": "stream",
     "text": [
      "JUSTICE PROPN compound\n",
      "GINSBURG PROPN nsubj\n",
      "delivered VERB ROOT\n",
      "the DET det\n",
      "opinion NOUN dobj\n",
      "of ADP prep\n",
      "the DET det\n",
      "Court PROPN pobj\n",
      ". PUNCT punct\n",
      "\n",
      "\n",
      "  SPACE dep\n",
      "A DET det\n",
      "motion NOUN nsubj\n",
      "by ADP prep\n",
      "a DET det\n",
      "federal ADJ amod\n",
      "prisoner NOUN pobj\n",
      "for ADP prep\n",
      "postconviction NOUN compound\n",
      "relief NOUN pobj\n",
      "under ADP prep\n",
      "28 NUM nummod\n",
      "U.S.C. PROPN compound\n",
      "§ PROPN pobj\n",
      "2255 NUM nummod\n",
      "is AUX ROOT\n",
      "subject ADJ acomp\n",
      "to ADP prep\n",
      "a DET det\n",
      "one NUM nummod\n",
      "- PUNCT punct\n",
      "year NOUN compound\n",
      "time NOUN compound\n",
      "limitation NOUN pobj\n",
      "that PRON nsubj\n",
      "generally ADV advmod\n",
      "runs VERB relcl\n",
      "from ADP prep\n",
      "\" PUNCT punct\n",
      "the DET det\n",
      "date NOUN pobj\n",
      "on ADP prep\n",
      "which PRON pobj\n",
      "the DET det\n",
      "judgment NOUN nsubj\n",
      "of ADP prep\n",
      "conviction NOUN pobj\n",
      "becomes VERB relcl\n",
      "final ADJ acomp\n",
      ". PUNCT punct\n",
      "\" PUNCT punct\n"
     ]
    }
   ],
   "source": [
    "for token in processed[0][:50]:\n",
    "       print(token.text, token.pos_, token.dep_)"
   ]
  },
  {
   "cell_type": "markdown",
   "metadata": {},
   "source": [
    "alternatively, we can preprocess with gensim"
   ]
  },
  {
   "cell_type": "code",
   "execution_count": 25,
   "metadata": {
    "ExecuteTime": {
     "end_time": "2022-02-21T10:00:33.750426Z",
     "start_time": "2022-02-21T10:00:33.118057Z"
    }
   },
   "outputs": [
    {
     "name": "stdout",
     "output_type": "stream",
     "text": [
      "opinion 1: ['justice', 'ginsburg', 'delivered', 'the', 'opinion', 'of', 'the', 'court', 'motion', 'by', 'federal', 'prisoner', 'for', 'postconviction', 'relief', 'under', 'is', 'subject', 'to', 'one', 'year', 'time', 'limitation', 'that', 'generally', 'runs', 'from', 'the', 'date', 'on', 'which', 'the', 'judgment', 'of', 'conviction', 'becomes', 'final', 'this', 'case', 'concerns', 'the', 'starting', 'date', 'for', 'the', 'one', 'year', 'limitation', 'it', 'presents'] \n",
      "\n",
      " opinion 2: ['justice', 'stevens', 'delivered', 'the', 'opinion', 'of', 'the', 'court', 'in', 'most', 'of', 'the', 'united', 'states', 'not', 'including', 'california', 'the', 'minimum', 'price', 'paid', 'to', 'dairy', 'farmers', 'producing', 'raw', 'milk', 'is', 'regulated', 'pursuant', 'to', 'federal', 'marketing', 'orders', 'those', 'orders', 'guarantee', 'uniform', 'price', 'for', 'the', 'producers', 'but', 'through', 'pooling', 'mechanisms', 'require', 'the', 'processors', 'of']\n"
     ]
    }
   ],
   "source": [
    "from gensim.utils import simple_preprocess\n",
    "\n",
    "processed = {} # empty python dictionary for processed data\n",
    "# iterate over rows\n",
    "for i, row in df.iterrows():\n",
    "    docid = i # make document identifier\n",
    "    text = row['opinion_text']     # get text snippet\n",
    "    document = simple_preprocess(text) # get sentences/tokens\n",
    "    processed[docid] = document # add to dictionary    \n",
    "    if i > 100:\n",
    "        break\n",
    "# first and second opinions\n",
    "print (\"opinion 1:\", processed[0][:50], \"\\n\\n\", \"opinion 2:\", processed[1][:50]) # note how simple preprocess drops punctuation"
   ]
  },
  {
   "cell_type": "markdown",
   "metadata": {},
   "source": [
    "or with nltk"
   ]
  },
  {
   "cell_type": "code",
   "execution_count": 26,
   "metadata": {
    "ExecuteTime": {
     "end_time": "2022-02-21T10:00:36.109926Z",
     "start_time": "2022-02-21T10:00:33.751232Z"
    }
   },
   "outputs": [
    {
     "name": "stdout",
     "output_type": "stream",
     "text": [
      "opinion 1: ['justice', 'ginsburg', 'delivered', 'the', 'opinion', 'of', 'the', 'court', '.', 'a', 'motion', 'by', 'a', 'federal', 'prisoner', 'for', 'postconviction', 'relief', 'under', '28', 'u.s.c', '.', '§', '2255', 'is', 'subject', 'to', 'a', 'one-year', 'time', 'limitation', 'that', 'generally', 'runs', 'from', '``', 'the', 'date', 'on', 'which', 'the', 'judgment', 'of', 'conviction', 'becomes', 'final', '.', \"''\", '§', '2255'] \n",
      "\n",
      " opinion 2: ['justice', 'stevens', 'delivered', 'the', 'opinion', 'of', 'the', 'court', '.', 'in', 'most', 'of', 'the', 'united', 'states', ',', 'not', 'including', 'california', ',', 'the', 'minimum', 'price', 'paid', 'to', 'dairy', 'farmers', 'producing', 'raw', 'milk', 'is', 'regulated', 'pursuant', 'to', 'federal', 'marketing', 'orders', '.', 'those', 'orders', 'guarantee', 'a', 'uniform', 'price', 'for', 'the', 'producers', ',', 'but', 'through']\n"
     ]
    }
   ],
   "source": [
    "from nltk.tokenize import word_tokenize\n",
    "processed = {} # empty python dictionary for processed data\n",
    "# iterate over rows\n",
    "for i, row in df.iterrows():\n",
    "    docid = i # make document identifier\n",
    "    text = row['opinion_text']     # get text snippet\n",
    "    document = word_tokenize(text.lower()) # get sentences/tokens\n",
    "    processed[docid] = document # add to dictionary    \n",
    "    if i > 100:\n",
    "        break\n",
    "# first and second opinions\n",
    "print (\"opinion 1:\", processed[0][:50], \"\\n\\n\", \"opinion 2:\", processed[1][:50]) # note that we just tokenize and keep all tokens\n"
   ]
  },
  {
   "cell_type": "markdown",
   "metadata": {},
   "source": [
    "## Saving data"
   ]
  },
  {
   "cell_type": "code",
   "execution_count": 27,
   "metadata": {
    "ExecuteTime": {
     "end_time": "2022-02-21T10:00:36.166002Z",
     "start_time": "2022-02-21T10:00:36.110701Z"
    }
   },
   "outputs": [],
   "source": [
    "# save as python pickle\n",
    "pd.to_pickle(processed, 'processed_corpus.pkl')\n",
    "# delete it\n",
    "import os \n",
    "os.remove('processed_corpus.pkl')"
   ]
  },
  {
   "cell_type": "code",
   "execution_count": 28,
   "metadata": {
    "ExecuteTime": {
     "end_time": "2022-02-21T10:00:36.168077Z",
     "start_time": "2022-02-21T10:00:36.166895Z"
    }
   },
   "outputs": [],
   "source": [
    "# Merging Data-frames Example\n",
    "# Perform a left join:\n",
    "# df_merged = pd.merge(df1,df2,on='id', how='left', validation='m:1')"
   ]
  },
  {
   "cell_type": "markdown",
   "metadata": {},
   "source": [
    "# Web Scraping"
   ]
  },
  {
   "cell_type": "markdown",
   "metadata": {},
   "source": [
    "## Downloading URL's"
   ]
  },
  {
   "cell_type": "code",
   "execution_count": 29,
   "metadata": {
    "ExecuteTime": {
     "end_time": "2022-02-21T10:00:37.511559Z",
     "start_time": "2022-02-21T10:00:36.170185Z"
    }
   },
   "outputs": [
    {
     "name": "stdout",
     "output_type": "stream",
     "text": [
      "b'\\n<!DOCTYPE html>\\n<html lang=\"en\">\\n<head>\\n  <meta charset=\"utf-8\"/>\\n  <meta http-equiv=\"Content-Language\" content=\"en\"/>\\n  <meta name=\"language\" content=\"en_us\"/>\\n  <meta name=\"viewport\" content=\"width=device-width,initial-scale=1\"/>\\n\\n  \\n  <meta name=\"description\" content=\"Opinion for People v. Germany, 674 P.2d 345 \\xe2\\x80\\x94 Brought to you by Free Law Project, a non-profit dedicated to creating high qua'\n",
      "\n",
      "b'    s = d.getElementsByTagName(\\'script\\')[0];\\n      g.type = \\'text/javascript\\';\\n      g.async = true;\\n      g.defer = true;\\n      g.src = u + \\'matomo.js\\';\\n      s.parentNode.insertBefore(g, s);\\n    })();\\n  </script>\\n  <noscript><p><img src=\"//matomo.courtlistener.com//piwik.php?idsite=1&rec=1\"\\n                    style=\"border:0;\" alt=\"\"/></p></noscript>\\n  <!-- End Matomo Code -->\\n\\n</body>\\n</html>\\n'\n",
      "\n",
      "78512 characters in string.\n"
     ]
    }
   ],
   "source": [
    "import urllib.request as urllib # Python's module for accessing web pages\n",
    "url = 'https://goo.gl/VRF8Xs' # shortened URL for court case\n",
    "page = urllib.urlopen(url) # open the web page\n",
    "\n",
    "html = page.read() # read web page contents as a string\n",
    "print(html[:400])  # print first 400 characters\n",
    "print()\n",
    "print(html[-400:]) # print last 400 characters\n",
    "print()\n",
    "print(len(html),'characters in string.')   # print length of string"
   ]
  },
  {
   "cell_type": "markdown",
   "metadata": {},
   "source": [
    "## Parsing HTML"
   ]
  },
  {
   "cell_type": "code",
   "execution_count": 30,
   "metadata": {
    "ExecuteTime": {
     "end_time": "2022-02-21T10:00:37.619993Z",
     "start_time": "2022-02-21T10:00:37.529459Z"
    }
   },
   "outputs": [
    {
     "name": "stdout",
     "output_type": "stream",
     "text": [
      "<title>People v. Germany, 674 P.2d 345 – CourtListener.com</title>\n"
     ]
    }
   ],
   "source": [
    "# Parse raw HTML\n",
    "# !pip install beautifulsoup4\n",
    "from bs4 import BeautifulSoup # package for parsing HTML\n",
    "soup = BeautifulSoup(html, 'lxml') # parse html of web page\n",
    "print(soup.title) # example usage: print title item"
   ]
  },
  {
   "cell_type": "code",
   "execution_count": 31,
   "metadata": {
    "ExecuteTime": {
     "end_time": "2022-02-21T10:00:37.624401Z",
     "start_time": "2022-02-21T10:00:37.620746Z"
    }
   },
   "outputs": [
    {
     "name": "stdout",
     "output_type": "stream",
     "text": [
      "519\n"
     ]
    }
   ],
   "source": [
    "# extract text\n",
    "text = soup.get_text() # get text (remove HTML markup)\n",
    "lines = text.splitlines() # split string into separate lines\n",
    "print(len(lines)) # print number of lines"
   ]
  },
  {
   "cell_type": "code",
   "execution_count": 32,
   "metadata": {
    "ExecuteTime": {
     "end_time": "2022-02-21T10:00:37.627015Z",
     "start_time": "2022-02-21T10:00:37.625246Z"
    }
   },
   "outputs": [
    {
     "name": "stdout",
     "output_type": "stream",
     "text": [
      "187\n"
     ]
    }
   ],
   "source": [
    "lines = [line for line in lines if line != ''] # drop empty lines\n",
    "print(len(lines)) # print number of lines"
   ]
  },
  {
   "cell_type": "code",
   "execution_count": 33,
   "metadata": {
    "ExecuteTime": {
     "end_time": "2022-02-21T10:00:37.629435Z",
     "start_time": "2022-02-21T10:00:37.627772Z"
    }
   },
   "outputs": [
    {
     "name": "stdout",
     "output_type": "stream",
     "text": [
      "['People v. Germany, 674 P.2d 345 – CourtListener.com', 'Toggle navigation', 'About', 'FAQ', 'Donate', 'Sign in / Register', 'From Free Law Project, a 501(c)(3) non-profit.', 'Opinions\\xa0', 'Advanced Search', 'Citation Look Up', 'Citation Visualizations', 'RECAP Archive', 'Oral Arguments', 'Judges', 'Financial Disclosures', '\\xa0Donate', 'Your Notes', '                    (edit)', '                     ', '                    (none)']\n"
     ]
    }
   ],
   "source": [
    "print(lines[:20]) # print first 20 lines"
   ]
  },
  {
   "cell_type": "markdown",
   "metadata": {},
   "source": [
    "## Removing unicode characters"
   ]
  },
  {
   "cell_type": "code",
   "execution_count": 34,
   "metadata": {
    "ExecuteTime": {
     "end_time": "2022-02-21T10:00:37.633928Z",
     "start_time": "2022-02-21T10:00:37.630296Z"
    }
   },
   "outputs": [
    {
     "name": "stdout",
     "output_type": "stream",
     "text": [
      "['Visualizations\\xa0'] ['Visualizations ']\n"
     ]
    }
   ],
   "source": [
    "# !pip install unidecode\n",
    "from unidecode import unidecode # package for removing unicode\n",
    "uncode_str = 'Visualizations\\xa0'\n",
    "fixed = unidecode(uncode_str) # example usage\n",
    "print([uncode_str],[fixed]) # print cleaned string (replaced with a space)"
   ]
  },
  {
   "cell_type": "markdown",
   "metadata": {},
   "source": [
    "# Quantity of Text"
   ]
  },
  {
   "cell_type": "markdown",
   "metadata": {},
   "source": [
    "Count words per document."
   ]
  },
  {
   "cell_type": "code",
   "execution_count": 35,
   "metadata": {
    "ExecuteTime": {
     "end_time": "2022-02-21T10:00:37.860698Z",
     "start_time": "2022-02-21T10:00:37.634776Z"
    }
   },
   "outputs": [
    {
     "data": {
      "text/plain": [
       "<AxesSubplot:>"
      ]
     },
     "execution_count": 35,
     "metadata": {},
     "output_type": "execute_result"
    },
    {
     "data": {
      "image/png": "[encoded data removed]",
      "text/plain": [
       "<Figure size 432x288 with 1 Axes>"
      ]
     },
     "metadata": {
      "needs_background": "light"
     },
     "output_type": "display_data"
    }
   ],
   "source": [
    "def get_words_per_doc(txt):\n",
    "    # split text into words and count them.\n",
    "    return len(txt.split()) \n",
    "\n",
    "# apply to our dataframe\n",
    "df['num_words'] = df['opinion_text'].apply(get_words_per_doc)\n",
    "df['num_words'].hist()"
   ]
  },
  {
   "cell_type": "code",
   "execution_count": 36,
   "metadata": {
    "ExecuteTime": {
     "end_time": "2022-02-21T10:00:37.915240Z",
     "start_time": "2022-02-21T10:00:37.861729Z"
    }
   },
   "outputs": [
    {
     "data": {
      "image/png": "[encoded data removed]",
      "text/plain": [
       "<Figure size 432x288 with 1 Axes>"
      ]
     },
     "metadata": {
      "needs_background": "light"
     },
     "output_type": "display_data"
    }
   ],
   "source": [
    "# plot length by year\n",
    "ax = df.groupby('year')['num_words'].mean().plot()\n",
    "ax.set_ylabel('Average Opinion Length')\n",
    "import matplotlib.pyplot as plt\n",
    "plt.show()"
   ]
  },
  {
   "cell_type": "code",
   "execution_count": 37,
   "metadata": {
    "ExecuteTime": {
     "end_time": "2022-02-21T10:00:38.089132Z",
     "start_time": "2022-02-21T10:00:37.916113Z"
    }
   },
   "outputs": [
    {
     "data": {
      "text/plain": [
       "<seaborn.axisgrid.JointGrid at 0x2f3783dc0>"
      ]
     },
     "execution_count": 37,
     "metadata": {},
     "output_type": "execute_result"
    },
    {
     "data": {
      "image/png": "[encoded data removed]",
      "text/plain": [
       "<Figure size 432x432 with 3 Axes>"
      ]
     },
     "metadata": {
      "needs_background": "light"
     },
     "output_type": "display_data"
    }
   ],
   "source": [
    "df['log_words'] = np.log(df['num_words'])\n",
    "import seaborn as sns\n",
    "sns.jointplot(data=df,x='year', y='log_words',kind='hex')"
   ]
  },
  {
   "cell_type": "markdown",
   "metadata": {},
   "source": [
    "Build a frequency distribution over words with `Counter`."
   ]
  },
  {
   "cell_type": "code",
   "execution_count": 38,
   "metadata": {
    "ExecuteTime": {
     "end_time": "2022-02-21T10:00:38.181309Z",
     "start_time": "2022-02-21T10:00:38.090087Z"
    }
   },
   "outputs": [
    {
     "data": {
      "text/plain": [
       "[('the', 31600),\n",
       " ('of', 15978),\n",
       " ('to', 12330),\n",
       " ('a', 8954),\n",
       " ('that', 8521),\n",
       " ('in', 8324),\n",
       " ('and', 7619),\n",
       " ('at', 5044),\n",
       " ('for', 4496),\n",
       " ('is', 4032),\n",
       " ('not', 3577),\n",
       " ('l.', 3216),\n",
       " ('ed.', 3190),\n",
       " ('as', 3048),\n",
       " ('or', 2904),\n",
       " ('s.', 2828),\n",
       " ('§', 2738),\n",
       " ('ct.', 2735),\n",
       " ('court', 2615),\n",
       " ('on', 2587)]"
      ]
     },
     "execution_count": 38,
     "metadata": {},
     "output_type": "execute_result"
    }
   ],
   "source": [
    "from collections import Counter\n",
    "freqs = Counter()\n",
    "for i, row in df.iterrows():\n",
    "    freqs.update(row['opinion_text'].lower().split())\n",
    "    if i > 100:\n",
    "        break\n",
    "freqs.most_common()[:20] # can use most frequent words as style/function words"
   ]
  },
  {
   "cell_type": "markdown",
   "metadata": {},
   "source": [
    "Compute (Number of documents) / (number of words per document). The google text classification guide recommends using N-Grams if this number is below 1500, or embedded sequences if this number is above 1500:"
   ]
  },
  {
   "cell_type": "code",
   "execution_count": 39,
   "metadata": {
    "ExecuteTime": {
     "end_time": "2022-02-21T10:00:38.184275Z",
     "start_time": "2022-02-21T10:00:38.182079Z"
    }
   },
   "outputs": [
    {
     "name": "stdout",
     "output_type": "stream",
     "text": [
      "0.14378176483594116\n"
     ]
    }
   ],
   "source": [
    "print(df.shape[0] / df['num_words'].mean())"
   ]
  },
  {
   "cell_type": "markdown",
   "metadata": {
    "toc-hr-collapsed": false
   },
   "source": [
    "# Dictionary / Matching Methods"
   ]
  },
  {
   "cell_type": "markdown",
   "metadata": {},
   "source": [
    "## Sentiment Analysis"
   ]
  },
  {
   "cell_type": "code",
   "execution_count": 40,
   "metadata": {
    "ExecuteTime": {
     "end_time": "2022-02-21T10:00:38.201317Z",
     "start_time": "2022-02-21T10:00:38.185161Z"
    }
   },
   "outputs": [
    {
     "name": "stdout",
     "output_type": "stream",
     "text": [
      "3.2.2\n"
     ]
    }
   ],
   "source": [
    "import spacy\n",
    "from spacytextblob.spacytextblob import SpacyTextBlob\n",
    "print (spacy.__version__)"
   ]
  },
  {
   "cell_type": "code",
   "execution_count": 41,
   "metadata": {
    "ExecuteTime": {
     "end_time": "2022-02-21T10:00:42.488182Z",
     "start_time": "2022-02-21T10:00:41.377135Z"
    }
   },
   "outputs": [
    {
     "name": "stdout",
     "output_type": "stream",
     "text": [
      "polarity 0.05404135338345859\n",
      "subjectivity 0.5065358709273183\n"
     ]
    }
   ],
   "source": [
    "# Dictionary-Based Sentiment Analysis\n",
    "# nltk.download('vader_lexicon')\n",
    "\n",
    "# textblob sentiment analysis: https://github.com/sloria/TextBlob\n",
    "# pip install spacytextblob\n",
    "\n",
    "import spacy\n",
    "from spacytextblob.spacytextblob import SpacyTextBlob\n",
    "\n",
    "\n",
    "nlp = spacy.load('en_core_web_sm')\n",
    "# spacy_text_blob = SpacyTextBlob()\n",
    "nlp.add_pipe('spacytextblob')\n",
    "doc = nlp(df.iloc[0][\"opinion_text\"])\n",
    "#from nltk.sentiment.vader import SentimentIntensityAnalyzer\n",
    "#sid = SentimentIntensityAnalyzer()\n",
    "#polarity = sid.polarity_scores(text)\n",
    "print(\"polarity\", doc._.polarity) # sentimentintensityanalayzer nltk: {'neg': 0.134, 'neu': 0.785, 'pos': 0.081, 'compound': -0.9999}\n",
    "print (\"subjectivity\", doc._.subjectivity)"
   ]
  },
  {
   "cell_type": "code",
   "execution_count": 54,
   "metadata": {
    "ExecuteTime": {
     "end_time": "2022-02-21T09:54:45.043434Z",
     "start_time": "2022-02-21T09:53:12.874031Z"
    }
   },
   "outputs": [],
   "source": [
    "# sample 10% of the dataset\n",
    "dfs = df.sample(frac=.1) \n",
    "# apply compound sentiment score to data-frame\n",
    "def get_sentiment(snippet):\n",
    "    #return sid.polarity_scores(snippet)['compound']\n",
    "    return nlp(snippet)._.polarity\n",
    "dfs['sentiment'] = dfs['opinion_text'].apply(get_sentiment)"
   ]
  },
  {
   "cell_type": "code",
   "execution_count": 55,
   "metadata": {
    "ExecuteTime": {
     "end_time": "2022-02-21T09:54:53.865313Z",
     "start_time": "2022-02-21T09:54:53.850805Z"
    }
   },
   "outputs": [
    {
     "data": {
      "text/plain": [
       "[' \\n\\n This case presents the question whether uses of patented inventions in preclinical research, the',\n",
       " 't. \\n\\n This case requires us to decide whether the use of race as a factor in student admissions by t',\n",
       " ' \\n\\n  The State of Washington prohibits labor unions from using the agency-shop fees of a nonmember f',\n",
       " ' \\n\\n The question is whether the provision of the Fair Labor Standards Act of 1938 (FLSA or Act), tha',\n",
       " \"t. \\n\\n We granted certiorari to resolve whether the Nevada Supreme Court's refusal to extend full fai\"]"
      ]
     },
     "execution_count": 55,
     "metadata": {},
     "output_type": "execute_result"
    }
   ],
   "source": [
    "dfs.sort_values('sentiment',inplace=True)\n",
    "# print beginning of most positive documents\n",
    "[x[50:150] for x  in dfs[-5:]['opinion_text']]"
   ]
  },
  {
   "cell_type": "code",
   "execution_count": 58,
   "metadata": {
    "ExecuteTime": {
     "end_time": "2022-02-21T09:56:06.731557Z",
     "start_time": "2022-02-21T09:56:06.720385Z"
    }
   },
   "outputs": [
    {
     "data": {
      "text/plain": [
       "['\\n\\nThe False Claims Act (FCA) imposes civil liability on any person who knowingly uses a \"false recor',\n",
       " ' \\n\\nWhen an alien is found ineligible to remain in the United States, the process for selecting the c',\n",
       " 'he Court. \\n\\n Petitioner Josue Leocal, a Haitian citizen who is a lawful permanent resident of the Un',\n",
       " \" \\n\\n Respondent Arturo Recuenco was convicted of assault in the second degree based on the jury's fin\",\n",
       " 'he Court. \\n\\n InTotten v. United States,92 U.S. 105, 23 L. Ed. 605 (1876), we held that public policy']"
      ]
     },
     "execution_count": 58,
     "metadata": {},
     "output_type": "execute_result"
    }
   ],
   "source": [
    "# print beginning of most negative documents\n",
    "[x[50:150] for x  in dfs[:5]['opinion_text']]"
   ]
  },
  {
   "cell_type": "code",
   "execution_count": 60,
   "metadata": {
    "ExecuteTime": {
     "end_time": "2022-02-21T09:57:00.069942Z",
     "start_time": "2022-02-21T09:56:55.794866Z"
    }
   },
   "outputs": [
    {
     "data": {
      "text/plain": [
       "[' Court. \\n\\n  Under the Internal Revenue Code, individuals may subtract from their adjusted gross inco',\n",
       " 't and delivered an opinion, in which Justice Souter, Justice Ginsburg, and Justice Breyer join. \\n\\n T',\n",
       " '.\\n\\nA citizen of Hawaii comes before us claiming that an explicit, race-based voting qualification ha',\n",
       " 't and delivered the opinion of the Court with respect to Parts I, II, III, and VI, an opinion with r',\n",
       " 't. \\n\\n  For private actions brought under 42 U.S.C. § 1983 and other specified measures designed to s']"
      ]
     },
     "execution_count": 60,
     "metadata": {},
     "output_type": "execute_result"
    }
   ],
   "source": [
    "from nltk.sentiment.vader import SentimentIntensityAnalyzer\n",
    "sid = SentimentIntensityAnalyzer()\n",
    "# sample 20% of the dataset\n",
    "dfs = df.sample(frac=.1) \n",
    "\n",
    "# apply compound sentiment score to data-frame\n",
    "def get_sentiment(snippet):\n",
    "    return sid.polarity_scores(snippet)['compound']\n",
    "dfs['sentiment_vader'] = dfs['opinion_text'].apply(get_sentiment)\n",
    "dfs.sort_values('sentiment_vader',inplace=True)\n",
    "# print beginning of most positive documents\n",
    "[x[50:150] for x  in dfs[-5:]['opinion_text']]"
   ]
  },
  {
   "cell_type": "markdown",
   "metadata": {},
   "source": [
    "## Sentiment Analysis with Huggingface "
   ]
  },
  {
   "cell_type": "code",
   "execution_count": 42,
   "metadata": {
    "ExecuteTime": {
     "end_time": "2022-02-21T10:00:58.233109Z",
     "start_time": "2022-02-21T10:00:51.265742Z"
    }
   },
   "outputs": [
    {
     "name": "stderr",
     "output_type": "stream",
     "text": [
      "No model was supplied, defaulted to distilbert-base-uncased-finetuned-sst-2-english (https://huggingface.co/distilbert-base-uncased-finetuned-sst-2-english)\n"
     ]
    }
   ],
   "source": [
    "from transformers import pipeline, AutoModelForTokenClassification, AutoTokenizer\n",
    "pipe = pipeline(\"sentiment-analysis\")"
   ]
  },
  {
   "cell_type": "code",
   "execution_count": 48,
   "metadata": {
    "ExecuteTime": {
     "end_time": "2022-02-21T10:05:34.818719Z",
     "start_time": "2022-02-21T10:05:34.808330Z"
    }
   },
   "outputs": [
    {
     "data": {
      "text/plain": [
       "'Chief Justice Roberts delivered the opinion of the Court. \\n\\n  A federal habeas court will not review a claim rejected by a state court \"if the decision of [the state] court rests on a state law ground that is independent of the federal question and adequate to support the judgment.\"  Coleman v. Thompson, 501 U.S. 722, 729, 111 S. Ct. 2546, 115 L. Ed. 2d 640 (1991).  We granted certiorari to decide the following question:   \"Is a state procedural rule automatically \\'inadequate\\' under the adequate-state-grounds doctrine--and therefore unenforceable on federal habeas corpus review--because the state rule is discretionary rather than mandatory?\" Pet. for Cert. i.  Petitioners argue the correct answer is \"no.\"  At oral argument, respondent--consistent with his position below--expressly agreed.  We do too, and accordingly vacate the judgment of the Court of Appeals. \\n\\nI \\n\\nIn 1982, Joseph Kindler, along with Scott Shaw and David Bernstein, burglarized a music store in Bucks County, Pennsylvania.  Police stopped the getaway car and arrested Shaw and Bernstein.  In a harbinger of things to come, Kindler escaped.  Commonwealth v. Kindler, 536 Pa. 228, 236, 639 A.2d 1, 5, cert. denied, 513 U.S. 933, 115 S. Ct. 327, 130 L. Ed. 2d 287 (1994). \\n\\n Police later arrested Kindler and charged him with burglary.  He was released on bail.  Bernstein agreed to testify against Kindler, but Kindler had other plans.  At about 2:30 a.m. on July 25, 1982, Kindler and Shaw attacked Bernstein outside his apartment.  Kindler beat Bernstein with a baseball bat approximately 20 times, and Shaw shocked Bernstein 5 times with an electric prod.  Bernstein at that point was still alive but unable to move, and Kindler and Shaw dragged their victim to their nearby car, loaded him in the trunk, and drove to the Delaware River.  At the river, Kindler tied a cinder block around Bernstein\\'s neck and dumped him in the water.  A forensic examiner later determined that Bernstein died of drowning and massive head injuries.  536 Pa., at 236-239, 639 A.2d, at 5-6. \\n\\nKindler was brought to trial and convicted of capital murder.  The jury recommended a death sentence, and Kindler filed postverdict motions.  Id., at 230-231, 639 A.2d, at 2. \\n\\nBut on September 19, 1984, before the trial court could consider the motions or the jury\\'s death recommendation, Kindler escaped. Ibid.  In an organized effort to saw through the external prison bars with smuggled tools, Kindler broke out of the maximum-security wing of the prison and headed for Canada.  See Commonwealth v. Kindler, 554 Pa. 513, 517-518, and n. 4, 722 A.2d 143, 145 (1998). \\n\\nKindler remained a fugitive in Canada until April 26, 1985, when he was arrested in Quebec for separate burglary offenses.  The United States sought Kindler\\'s return, but an extradition treaty allowed Canada to refuse to hand over anyone likely to face execution.  See Kindler v. Canada (Minister of Justice), [1991] 2 S. C. R. 779, 84 D.L.R. (4th) 438. \\n\\nKindler turned into something of a local celebrity.  He even appeared on Canadian television, explaining, among other things, how he had escaped and why he chose Canada:  \"I knew there was no death penalty here.\"  CTV National News:  Joseph Kindler\\'s Fate Unresolved (Canadian television broadcast Sept. 22, 1985) (videos available in Clerk of Court\\'s case file).  Canadian authorities ultimately acquiesced to overtures from the United States and agreed to extradite Kindler.  Kindler, 536 Pa., at 231, 639 A.2d, at 2. \\n\\nBut before Kindler could be transferred from Canadian custody, he escaped again.  On the night of October 23, 1986, Kindler broke through a skylight on the 13th floor of the jail (his fellow inmates had hoisted him up to the skylight 15 feet above the floor) and escaped to the roof, where he stood 175 feet above ground.  Armed with 13 stories\\' worth of bedsheets tied together, Kindler safely rappelled down the side of the jail.  (A fellow escapee was not as lucky--the sheets ripped on his way down, causing him to fall 50 feet to his death.)  Kindler, 554 Pa., at 517-519, 722 A.2d, at 145. \\n\\nThis time, Kindler remained on the lam for nearly two years, until he was featured on the popular television show, \"America\\'s Most Wanted.\"  Characterizing Kindler as \"an above average criminal\" and \"a chess player who understands when to make his move,\" the show asked viewers for information to help capture him.  America\\'s Most Wanted, Sept. 4, 1988, Season 1, Episode 30, at 10:01.  Several viewers recognized Kindler and notified Canadian authorities, who arrested him in September 1988.  554 Pa., at 519, 722 A.2d, at 145. \\n\\nKindler again fought extradition.  On September 16, 1991, after three years of litigation, the Supreme Court of Canada rejected Kindler\\'s efforts.  See Kindler, [1991] 2 S.C.R. 779, 84 D.L.R. (4th) 438.  That same day, Canadian officials extradited Kindler to the United States.  Kindler v. Horn, 291 F. Supp. 2d 323, 334 (ED Pa. 2003). \\n\\nIn the meantime, in 1984, the Pennsylvania trial court had dismissed Kindler\\'s postverdict motions because of his original escape.  Once back in the United States, Kindler filed a motion to reinstate those challenges to his conviction and sentence.  The trial court denied the reinstatement motion, holding that the trial court judge who had dismissed the postverdict motions in 1984 had not abused his discretion.  In October 1991--more than seven years after the jury\\'s death recommendation--the court formally imposed the death sentence.  Commonwealth v. Kindler, No. 2747 etc. (Ct. Common Pleas, Feb. 28, 1992), App. 66-70. \\n\\nKindler appealed, arguing that the trial court erred in declining to address the merits of his postverdict motions.  The Pennsylvania Supreme Court affirmed. Kindler, 536 Pa., at 232-234, 639 A.2d, at 3.  That court recognized that \"trial courts, when faced with a defendant in fugitive status, . . . have every right to fashion an appropriate response[,] which can include the dismissal of pending post-verdict motions.\"  Id., at 233, 639 A.2d, at 3.  The court then determined that the trial court\\'s decision to dismiss Kindler\\'s claims fell within its authority:  The \"dismiss[al] [of] the post-verdict motions was a reasonable response to Appellant\\'s \\'flouting\\' of the authority of the court.\"  Id., at 233-234, 639 A.2d, at 3.  Under Pennsylvania\\'s fugitive forfeiture law, the court concluded, Kindler\\'s case therefore came to it \"without any allegations of error (direct or collateral) preserved.\"  Id., at 234, 639 A.2d, at 4. \\n\\nThe Pennsylvania Supreme Court nonetheless conducted the \"limited review\" mandated for death sentences under Pennsylvanialaw.  Under that review, the court was required to confirm that the evidence was sufficient to support the conviction of first-degree murder and at least one aggravating factor, and that the sentence was not excessive, disproportionate, or the product of passion or prejudice.  Id., at 234-235, 639 A.2d, at 4.  Satisfied that Kindler\\'s conviction met these standards, the court affirmed his conviction and sentence.  We denied certiorari.  Kindler v. Pennsylvania, 513 U.S. 933, 115 S. Ct. 327, 130 L. Ed. 2d 287 (1994). \\n\\nOn state habeas, the Court of Common Pleas rejected Kindler\\'s claims.  That court held that the Pennsylvania Supreme Court had already ruled that Kindler\\'s escape forfeited all claims challenging his conviction and sentence that Kindler may once have been entitled to bring. Commonwealth v. Kindler, No. 2747 etc. (July 23, 1997), App. 183, 187-188.  The Pennsylvania Supreme Court affirmed.  Kindler, 554 Pa., at 514, 722 A.2d, at 143. \\n\\nKindler then sought federal habeas relief. The District Court determined that the fugitive forfeiture rule did not provide an adequate basis to bar federal review of Kindler\\'s habeas claims.  291 F. Supp. 2d at 340-343. The District Court then proceeded to address the merits, granting Kindler\\'s petition on the grounds that he was sentenced based on jury instructions that were unconstitutional under Mills v. Maryland, 486 U.S. 367, 108 S. Ct. 1860, 100 L. Ed. 2d 384 (1988), and that the prosecutor improperly introduced an aggravating factor at sentencing. 291 F. Supp. 2d at 346-351, 357-358.  The court rejected Kindler\\'s ineffective assistance of counsel claim. Id., at 356. \\n\\nThe Third Circuit affirmed.  That court began by recognizing that \"[a] procedural rule that is consistently applied in the vast majority of cases is adequate to bar federal habeas review even if state courts are willing to occasionally overlook it and review the merits of a claim for relief where the rule would otherwise apply.\"  Kindler v. Horn, 542 F.3d 70, 79 (2008).  The Court of Appeals then considered the Pennsylvania fugitive forfeiture rule in place at the time of Kindler\\'s first escape:  \"Pennsylvania courts had discretion to hear an appeal filed by a fugitive who had been returned to custody before an appeal was initiated or dismissed. . . .  Accordingly, the fugitive forfeiture rule was not \\'firmly established\\' and therefore was not an independent and adequate procedural rule sufficient to bar review of the merits of a habeas petition in federal court.\"  Ibid. (citing Doctor v. Walters, 96 F.3d 675, 684-686 (CA3 1996)).  The court thus determined that \"the state trial court still had discretion to reinstate his post-verdict motions.  Accordingly, we conclude that, under Doctor, Pennsylvania\\'s fugitive waiver law did not preclude the district court from reviewing the merits of the claims raised in Kindler\\'s habeas petition.\"542 F.3d, at 80.  Turning to the merits, the Court of Appeals disagreed with the District Court on the improper aggravating factor claim, but held that Kindler was entitled to relief based on his Mills and ineffective assistance of counsel claims.  542 F.3d, at 80-87. \\n\\nThe Commonwealth petitioned for certiorari, arguing that the Court of Appeals\\' determination that state discretionary rules are automatically inadequate conflicted with the holdings of other Courts of Appeals and warranted this Court\\'s review.  Pet. for Cert. 6-11.  Kindler countered that the Commonwealth had mischaracterized the Third Circuit\\'s holding.  Relying on the court\\'s citation of the Doctor opinion, Kindler argued that the Third Circuit did not hold that discretionary state rules are automatically inadequate; rather the court determined that the state courts applied \"a new and different rule from that in existence at the time of the alleged default.\"  Brief in Opposition 3.  It was that new rule, Kindler maintained, that the Third Circuit found inadequate.  Ibid.\\n\\nWe granted the Commonwealth\\'s petition for certiorari.  556 U.S. 1234, 129 S. Ct. 2381, 173 L. Ed. 2d 1292 (2009).  That petition asks us to decide whether discretionary procedural rulings are automatically inadequate to bar federal court review on habeas. \\n\\nII \\n\\n  The question whether a state procedural ruling is adequate is itself a question of federal law.  Lee v. Kemna, 534 U.S. 362, 375, 122 S. Ct. 877, 151 L. Ed. 2d 820 (2002).  We have framed the adequacy inquiry by asking whether the state rule in question was \"\\'firmly established and regularly followed.\\'\"  Id., at 376, 122 S. Ct. 877, 151 L. Ed. 2d 820 (quoting James v. Kentucky, 466 U.S. 341, 348, 104 S. Ct. 1830, 80 L. Ed. 2d 346 (1984)). \\n\\nWe hold that  a discretionary state procedural rule can serve as an adequate ground to bar federal habeas review.  Nothing inherent in such a rule renders it inadequate for purposes of the adequate state ground doctrine.  To the contrary, a discretionary rule can be \"firmly established\" and \"regularly followed\"--even if the appropriate exercise of discretion may permit consideration of a federal claim in some cases but not others.  See Meltzer, State Court Forfeitures of Federal Rights, 99 Harv. L. Rev. 1128, 1140 (1986) (\"[R]efusals to exercise discretion do not form an important independent category under the inadequate state ground doctrine\"). \\n\\nA contrary holding would pose an unnecessary dilemma for the States:  States could preserve flexibility by granting courts discretion to excuse procedural errors, but only at the cost of undermining the finality of state court judgments.  Or States could preserve the finality of their judgments by withholding such discretion, but only at the cost of precluding any flexibility in applying the rules. \\n\\nWe are told that, if forced to choose, many States would opt for mandatory rules to avoid the high costs that come with plenary federal review.  See, e.g., Brief for State of California et al. as Amici Curiae 19; Brief for Criminal Justice Legal Foundation as Amicus Curiae 14.  That would be unfortunate in many cases, as discretionary rules are often desirable.  In some circumstances, for example, the factors facing trial courts \"are so numerous, variable and subtle that the fashioning of rigid rules would be more likely to impair [the trial judge\\'s] ability to deal fairly with a particular problem than to lead to a just result.\"  United States v. McCoy, 517 F.2d 41, 44 (CA7) (Stevens, J.), cert. denied, 423 U.S. 895, 96 S. Ct. 195, 46 L. Ed. 2d 127 (1975); see also Friendly, Indiscretion About Discretion, 31 Emory L. J. 747, 760-761 (1982).  The result would be particularly unfortunate for criminal defendants, who would lose the opportunity to argue that a procedural default should be excused through the exercise of judicial discretion.  See Henry v. Mississippi, 379 U.S. 443, 463, n. 3, 85 S. Ct. 564, 13 L. Ed. 2d 408 (1965) (Harlan, J., dissenting) (\"If, in order to insulate its decisions from reversal by this Court, a state court must strip itself of the discretionary power to differentiate between different sets of circumstances, the [adequate state ground] rule operates in a most perverse way\"). \\n\\nIt is perhaps unsurprising, then, that  the federal system often grants broad discretion to the trial judge when his ringside perspective at the \"\\'main event\\'\" offers him a comparative advantage in decisionmaking. Wainwright v. Sykes, 433 U.S. 72, 90, 97 S. Ct. 2497, 53 L. Ed. 2d 594 (1977); cf. United States v.  Poynter, 495 F.3d 349, 351-352 (CA6 2007).  The States seem to value discretionary rules as much as the Federal Government does.  See Brief for State of California et al. as Amici Curiae 16-17 (citing various state discretionary procedural rules).  In light of the federalism and comity concerns that motivate the adequate state ground doctrine in the habeas context, see Coleman, 501 U.S. at 730, 111 S. Ct. 2546, 115 L. Ed. 2d 640, it would seem particularly strange to disregard state procedural rules that are substantially similar to those to which we give full force in our own courts.  Cf. Francis v. Henderson, 425 U.S. 536, 541-542, 96 S. Ct. 1708, 48 L. Ed. 2d 149 (1976).  Even stranger to do so with respect to rules in place in nearly every State, and all at one fell swoop. \\n\\nWe take our holding in this case to be uncontroversial--so uncontroversial, in fact, that both parties agreed to the point before this Court.  See Tr. of Oral Arg. 29-31.  Rather than defending the question on which we granted certiorari--whether discretionary rules are automatically inadequate--Kindler argues that the Pennsylvania courts did not apply a discretionary rule at all, but instead applied a new rule mandating dismissal.  Such a mandatory dismissal, Kindler contends, constituted a break from past discretionary practice, and thus does not provide an adequate state ground to bar his federal claims.  We leave it to the Court of Appeals to address that argument, and any others Kindler may have preserved, on remand. \\n\\nFor its part, the Commonwealth urges us not only to reject a per se rule about discretionary rulings, but also to undertake \"[a] new effort to state a standard for inadequacy.\"  Brief for Petitioners 25.  Amici supporting the Commonwealth join in that request.  See Brief for Criminal Justice Legal Foundation as Amicus Curiae 6-10.  We decline that invitation as well.  The procedural default at issue here--escape from prison--is hardly a typical procedural default, making this case an unsuitable vehicle for providing broad guidance on the adequate state ground doctrine. \\n\\nIf our holding in this case is narrow, it is because the question we granted certiorari to decide is narrow.  Answering that question is sufficient unto the day. \\n\\nThe judgment of the Court of Appeals for the Third Circuit is vacated, and the case is remanded for further proceedings consistent with this opinion. \\n\\nIt is so ordered. \\n\\nJustice Alito took no part in the consideration or decision of this case. \\n\\n'"
      ]
     },
     "execution_count": 48,
     "metadata": {},
     "output_type": "execute_result"
    }
   ],
   "source": []
  },
  {
   "cell_type": "code",
   "execution_count": 43,
   "metadata": {
    "ExecuteTime": {
     "end_time": "2022-02-21T10:02:54.084735Z",
     "start_time": "2022-02-21T10:02:49.820758Z"
    }
   },
   "outputs": [
    {
     "name": "stdout",
     "output_type": "stream",
     "text": [
      "------------------------------\n",
      "Streaming batch_size=1\n"
     ]
    },
    {
     "data": {
      "application/vnd.jupyter.widget-view+json": {
       "model_id": "f9a248db903f4a9cb2f290af9bcb1845",
       "version_major": 2,
       "version_minor": 0
      },
      "text/plain": [
       "  0%|          | 0/5000 [00:00<?, ?it/s]"
      ]
     },
     "metadata": {},
     "output_type": "display_data"
    },
    {
     "ename": "KeyboardInterrupt",
     "evalue": "",
     "output_type": "error",
     "traceback": [
      "\u001b[0;31m---------------------------------------------------------------------------\u001b[0m",
      "\u001b[0;31mKeyboardInterrupt\u001b[0m                         Traceback (most recent call last)",
      "Input \u001b[0;32mIn [43]\u001b[0m, in \u001b[0;36m<module>\u001b[0;34m\u001b[0m\n\u001b[1;32m     15\u001b[0m \u001b[38;5;28mprint\u001b[39m(\u001b[38;5;124m\"\u001b[39m\u001b[38;5;124m-\u001b[39m\u001b[38;5;124m\"\u001b[39m \u001b[38;5;241m*\u001b[39m \u001b[38;5;241m30\u001b[39m)\n\u001b[1;32m     16\u001b[0m \u001b[38;5;28mprint\u001b[39m(\u001b[38;5;124mf\u001b[39m\u001b[38;5;124m\"\u001b[39m\u001b[38;5;124mStreaming batch_size=\u001b[39m\u001b[38;5;132;01m{\u001b[39;00mbatch_size\u001b[38;5;132;01m}\u001b[39;00m\u001b[38;5;124m\"\u001b[39m)\n\u001b[0;32m---> 17\u001b[0m \u001b[38;5;28;01mfor\u001b[39;00m out \u001b[38;5;129;01min\u001b[39;00m tqdm(pipe(dataset, batch_size\u001b[38;5;241m=\u001b[39mbatch_size), total\u001b[38;5;241m=\u001b[39m\u001b[38;5;28mlen\u001b[39m(dataset)):\n\u001b[1;32m     18\u001b[0m     \u001b[38;5;28;01mpass\u001b[39;00m\n",
      "File \u001b[0;32m~/University/NLP-LSS/.venv/lib/python3.8/site-packages/tqdm/notebook.py:257\u001b[0m, in \u001b[0;36mtqdm_notebook.__iter__\u001b[0;34m(self)\u001b[0m\n\u001b[1;32m    255\u001b[0m \u001b[38;5;28;01mdef\u001b[39;00m \u001b[38;5;21m__iter__\u001b[39m(\u001b[38;5;28mself\u001b[39m):\n\u001b[1;32m    256\u001b[0m     \u001b[38;5;28;01mtry\u001b[39;00m:\n\u001b[0;32m--> 257\u001b[0m         \u001b[38;5;28;01mfor\u001b[39;00m obj \u001b[38;5;129;01min\u001b[39;00m \u001b[38;5;28msuper\u001b[39m(tqdm_notebook, \u001b[38;5;28mself\u001b[39m)\u001b[38;5;241m.\u001b[39m\u001b[38;5;21m__iter__\u001b[39m():\n\u001b[1;32m    258\u001b[0m             \u001b[38;5;66;03m# return super(tqdm...) will not catch exception\u001b[39;00m\n\u001b[1;32m    259\u001b[0m             \u001b[38;5;28;01myield\u001b[39;00m obj\n\u001b[1;32m    260\u001b[0m     \u001b[38;5;66;03m# NB: except ... [ as ...] breaks IPython async KeyboardInterrupt\u001b[39;00m\n",
      "File \u001b[0;32m~/University/NLP-LSS/.venv/lib/python3.8/site-packages/tqdm/std.py:1180\u001b[0m, in \u001b[0;36mtqdm.__iter__\u001b[0;34m(self)\u001b[0m\n\u001b[1;32m   1177\u001b[0m time \u001b[38;5;241m=\u001b[39m \u001b[38;5;28mself\u001b[39m\u001b[38;5;241m.\u001b[39m_time\n\u001b[1;32m   1179\u001b[0m \u001b[38;5;28;01mtry\u001b[39;00m:\n\u001b[0;32m-> 1180\u001b[0m     \u001b[38;5;28;01mfor\u001b[39;00m obj \u001b[38;5;129;01min\u001b[39;00m iterable:\n\u001b[1;32m   1181\u001b[0m         \u001b[38;5;28;01myield\u001b[39;00m obj\n\u001b[1;32m   1182\u001b[0m         \u001b[38;5;66;03m# Update and possibly print the progressbar.\u001b[39;00m\n\u001b[1;32m   1183\u001b[0m         \u001b[38;5;66;03m# Note: does not call self.update(1) for speed optimisation.\u001b[39;00m\n",
      "File \u001b[0;32m~/University/NLP-LSS/.venv/lib/python3.8/site-packages/transformers/pipelines/pt_utils.py:111\u001b[0m, in \u001b[0;36mPipelineIterator.__next__\u001b[0;34m(self)\u001b[0m\n\u001b[1;32m    108\u001b[0m     \u001b[38;5;28;01mreturn\u001b[39;00m \u001b[38;5;28mself\u001b[39m\u001b[38;5;241m.\u001b[39mloader_batch_item()\n\u001b[1;32m    110\u001b[0m \u001b[38;5;66;03m# We're out of items within a batch\u001b[39;00m\n\u001b[0;32m--> 111\u001b[0m item \u001b[38;5;241m=\u001b[39m \u001b[38;5;28;43mnext\u001b[39;49m\u001b[43m(\u001b[49m\u001b[38;5;28;43mself\u001b[39;49m\u001b[38;5;241;43m.\u001b[39;49m\u001b[43miterator\u001b[49m\u001b[43m)\u001b[49m\n\u001b[1;32m    112\u001b[0m processed \u001b[38;5;241m=\u001b[39m \u001b[38;5;28mself\u001b[39m\u001b[38;5;241m.\u001b[39minfer(item, \u001b[38;5;241m*\u001b[39m\u001b[38;5;241m*\u001b[39m\u001b[38;5;28mself\u001b[39m\u001b[38;5;241m.\u001b[39mparams)\n\u001b[1;32m    113\u001b[0m \u001b[38;5;66;03m# We now have a batch of \"inferred things\".\u001b[39;00m\n",
      "File \u001b[0;32m~/University/NLP-LSS/.venv/lib/python3.8/site-packages/transformers/pipelines/pt_utils.py:112\u001b[0m, in \u001b[0;36mPipelineIterator.__next__\u001b[0;34m(self)\u001b[0m\n\u001b[1;32m    110\u001b[0m \u001b[38;5;66;03m# We're out of items within a batch\u001b[39;00m\n\u001b[1;32m    111\u001b[0m item \u001b[38;5;241m=\u001b[39m \u001b[38;5;28mnext\u001b[39m(\u001b[38;5;28mself\u001b[39m\u001b[38;5;241m.\u001b[39miterator)\n\u001b[0;32m--> 112\u001b[0m processed \u001b[38;5;241m=\u001b[39m \u001b[38;5;28;43mself\u001b[39;49m\u001b[38;5;241;43m.\u001b[39;49m\u001b[43minfer\u001b[49m\u001b[43m(\u001b[49m\u001b[43mitem\u001b[49m\u001b[43m,\u001b[49m\u001b[43m \u001b[49m\u001b[38;5;241;43m*\u001b[39;49m\u001b[38;5;241;43m*\u001b[39;49m\u001b[38;5;28;43mself\u001b[39;49m\u001b[38;5;241;43m.\u001b[39;49m\u001b[43mparams\u001b[49m\u001b[43m)\u001b[49m\n\u001b[1;32m    113\u001b[0m \u001b[38;5;66;03m# We now have a batch of \"inferred things\".\u001b[39;00m\n\u001b[1;32m    114\u001b[0m \u001b[38;5;28;01mif\u001b[39;00m \u001b[38;5;28mself\u001b[39m\u001b[38;5;241m.\u001b[39mloader_batch_size \u001b[38;5;129;01mis\u001b[39;00m \u001b[38;5;129;01mnot\u001b[39;00m \u001b[38;5;28;01mNone\u001b[39;00m:\n\u001b[1;32m    115\u001b[0m     \u001b[38;5;66;03m# Try to infer the size of the batch\u001b[39;00m\n",
      "File \u001b[0;32m~/University/NLP-LSS/.venv/lib/python3.8/site-packages/transformers/pipelines/base.py:923\u001b[0m, in \u001b[0;36mPipeline.forward\u001b[0;34m(self, model_inputs, **forward_params)\u001b[0m\n\u001b[1;32m    921\u001b[0m     \u001b[38;5;28;01mwith\u001b[39;00m inference_context():\n\u001b[1;32m    922\u001b[0m         model_inputs \u001b[38;5;241m=\u001b[39m \u001b[38;5;28mself\u001b[39m\u001b[38;5;241m.\u001b[39m_ensure_tensor_on_device(model_inputs, device\u001b[38;5;241m=\u001b[39m\u001b[38;5;28mself\u001b[39m\u001b[38;5;241m.\u001b[39mdevice)\n\u001b[0;32m--> 923\u001b[0m         model_outputs \u001b[38;5;241m=\u001b[39m \u001b[38;5;28;43mself\u001b[39;49m\u001b[38;5;241;43m.\u001b[39;49m\u001b[43m_forward\u001b[49m\u001b[43m(\u001b[49m\u001b[43mmodel_inputs\u001b[49m\u001b[43m,\u001b[49m\u001b[43m \u001b[49m\u001b[38;5;241;43m*\u001b[39;49m\u001b[38;5;241;43m*\u001b[39;49m\u001b[43mforward_params\u001b[49m\u001b[43m)\u001b[49m\n\u001b[1;32m    924\u001b[0m         model_outputs \u001b[38;5;241m=\u001b[39m \u001b[38;5;28mself\u001b[39m\u001b[38;5;241m.\u001b[39m_ensure_tensor_on_device(model_outputs, device\u001b[38;5;241m=\u001b[39mtorch\u001b[38;5;241m.\u001b[39mdevice(\u001b[38;5;124m\"\u001b[39m\u001b[38;5;124mcpu\u001b[39m\u001b[38;5;124m\"\u001b[39m))\n\u001b[1;32m    925\u001b[0m \u001b[38;5;28;01melse\u001b[39;00m:\n",
      "File \u001b[0;32m~/University/NLP-LSS/.venv/lib/python3.8/site-packages/transformers/pipelines/text_classification.py:137\u001b[0m, in \u001b[0;36mTextClassificationPipeline._forward\u001b[0;34m(self, model_inputs)\u001b[0m\n\u001b[1;32m    136\u001b[0m \u001b[38;5;28;01mdef\u001b[39;00m \u001b[38;5;21m_forward\u001b[39m(\u001b[38;5;28mself\u001b[39m, model_inputs):\n\u001b[0;32m--> 137\u001b[0m     \u001b[38;5;28;01mreturn\u001b[39;00m \u001b[38;5;28;43mself\u001b[39;49m\u001b[38;5;241;43m.\u001b[39;49m\u001b[43mmodel\u001b[49m\u001b[43m(\u001b[49m\u001b[38;5;241;43m*\u001b[39;49m\u001b[38;5;241;43m*\u001b[39;49m\u001b[43mmodel_inputs\u001b[49m\u001b[43m)\u001b[49m\n",
      "File \u001b[0;32m~/University/NLP-LSS/.venv/lib/python3.8/site-packages/torch/nn/modules/module.py:1102\u001b[0m, in \u001b[0;36mModule._call_impl\u001b[0;34m(self, *input, **kwargs)\u001b[0m\n\u001b[1;32m   1098\u001b[0m \u001b[38;5;66;03m# If we don't have any hooks, we want to skip the rest of the logic in\u001b[39;00m\n\u001b[1;32m   1099\u001b[0m \u001b[38;5;66;03m# this function, and just call forward.\u001b[39;00m\n\u001b[1;32m   1100\u001b[0m \u001b[38;5;28;01mif\u001b[39;00m \u001b[38;5;129;01mnot\u001b[39;00m (\u001b[38;5;28mself\u001b[39m\u001b[38;5;241m.\u001b[39m_backward_hooks \u001b[38;5;129;01mor\u001b[39;00m \u001b[38;5;28mself\u001b[39m\u001b[38;5;241m.\u001b[39m_forward_hooks \u001b[38;5;129;01mor\u001b[39;00m \u001b[38;5;28mself\u001b[39m\u001b[38;5;241m.\u001b[39m_forward_pre_hooks \u001b[38;5;129;01mor\u001b[39;00m _global_backward_hooks\n\u001b[1;32m   1101\u001b[0m         \u001b[38;5;129;01mor\u001b[39;00m _global_forward_hooks \u001b[38;5;129;01mor\u001b[39;00m _global_forward_pre_hooks):\n\u001b[0;32m-> 1102\u001b[0m     \u001b[38;5;28;01mreturn\u001b[39;00m \u001b[43mforward_call\u001b[49m\u001b[43m(\u001b[49m\u001b[38;5;241;43m*\u001b[39;49m\u001b[38;5;28;43minput\u001b[39;49m\u001b[43m,\u001b[49m\u001b[43m \u001b[49m\u001b[38;5;241;43m*\u001b[39;49m\u001b[38;5;241;43m*\u001b[39;49m\u001b[43mkwargs\u001b[49m\u001b[43m)\u001b[49m\n\u001b[1;32m   1103\u001b[0m \u001b[38;5;66;03m# Do not call functions when jit is used\u001b[39;00m\n\u001b[1;32m   1104\u001b[0m full_backward_hooks, non_full_backward_hooks \u001b[38;5;241m=\u001b[39m [], []\n",
      "File \u001b[0;32m~/University/NLP-LSS/.venv/lib/python3.8/site-packages/transformers/models/distilbert/modeling_distilbert.py:727\u001b[0m, in \u001b[0;36mDistilBertForSequenceClassification.forward\u001b[0;34m(self, input_ids, attention_mask, head_mask, inputs_embeds, labels, output_attentions, output_hidden_states, return_dict)\u001b[0m\n\u001b[1;32m    719\u001b[0m \u001b[38;5;124mr\u001b[39m\u001b[38;5;124;03m\"\"\"\u001b[39;00m\n\u001b[1;32m    720\u001b[0m \u001b[38;5;124;03mlabels (`torch.LongTensor` of shape `(batch_size,)`, *optional*):\u001b[39;00m\n\u001b[1;32m    721\u001b[0m \u001b[38;5;124;03m    Labels for computing the sequence classification/regression loss. Indices should be in `[0, ...,\u001b[39;00m\n\u001b[1;32m    722\u001b[0m \u001b[38;5;124;03m    config.num_labels - 1]`. If `config.num_labels == 1` a regression loss is computed (Mean-Square loss), If\u001b[39;00m\n\u001b[1;32m    723\u001b[0m \u001b[38;5;124;03m    `config.num_labels > 1` a classification loss is computed (Cross-Entropy).\u001b[39;00m\n\u001b[1;32m    724\u001b[0m \u001b[38;5;124;03m\"\"\"\u001b[39;00m\n\u001b[1;32m    725\u001b[0m return_dict \u001b[38;5;241m=\u001b[39m return_dict \u001b[38;5;28;01mif\u001b[39;00m return_dict \u001b[38;5;129;01mis\u001b[39;00m \u001b[38;5;129;01mnot\u001b[39;00m \u001b[38;5;28;01mNone\u001b[39;00m \u001b[38;5;28;01melse\u001b[39;00m \u001b[38;5;28mself\u001b[39m\u001b[38;5;241m.\u001b[39mconfig\u001b[38;5;241m.\u001b[39muse_return_dict\n\u001b[0;32m--> 727\u001b[0m distilbert_output \u001b[38;5;241m=\u001b[39m \u001b[38;5;28;43mself\u001b[39;49m\u001b[38;5;241;43m.\u001b[39;49m\u001b[43mdistilbert\u001b[49m\u001b[43m(\u001b[49m\n\u001b[1;32m    728\u001b[0m \u001b[43m    \u001b[49m\u001b[43minput_ids\u001b[49m\u001b[38;5;241;43m=\u001b[39;49m\u001b[43minput_ids\u001b[49m\u001b[43m,\u001b[49m\n\u001b[1;32m    729\u001b[0m \u001b[43m    \u001b[49m\u001b[43mattention_mask\u001b[49m\u001b[38;5;241;43m=\u001b[39;49m\u001b[43mattention_mask\u001b[49m\u001b[43m,\u001b[49m\n\u001b[1;32m    730\u001b[0m \u001b[43m    \u001b[49m\u001b[43mhead_mask\u001b[49m\u001b[38;5;241;43m=\u001b[39;49m\u001b[43mhead_mask\u001b[49m\u001b[43m,\u001b[49m\n\u001b[1;32m    731\u001b[0m \u001b[43m    \u001b[49m\u001b[43minputs_embeds\u001b[49m\u001b[38;5;241;43m=\u001b[39;49m\u001b[43minputs_embeds\u001b[49m\u001b[43m,\u001b[49m\n\u001b[1;32m    732\u001b[0m \u001b[43m    \u001b[49m\u001b[43moutput_attentions\u001b[49m\u001b[38;5;241;43m=\u001b[39;49m\u001b[43moutput_attentions\u001b[49m\u001b[43m,\u001b[49m\n\u001b[1;32m    733\u001b[0m \u001b[43m    \u001b[49m\u001b[43moutput_hidden_states\u001b[49m\u001b[38;5;241;43m=\u001b[39;49m\u001b[43moutput_hidden_states\u001b[49m\u001b[43m,\u001b[49m\n\u001b[1;32m    734\u001b[0m \u001b[43m    \u001b[49m\u001b[43mreturn_dict\u001b[49m\u001b[38;5;241;43m=\u001b[39;49m\u001b[43mreturn_dict\u001b[49m\u001b[43m,\u001b[49m\n\u001b[1;32m    735\u001b[0m \u001b[43m\u001b[49m\u001b[43m)\u001b[49m\n\u001b[1;32m    736\u001b[0m hidden_state \u001b[38;5;241m=\u001b[39m distilbert_output[\u001b[38;5;241m0\u001b[39m]  \u001b[38;5;66;03m# (bs, seq_len, dim)\u001b[39;00m\n\u001b[1;32m    737\u001b[0m pooled_output \u001b[38;5;241m=\u001b[39m hidden_state[:, \u001b[38;5;241m0\u001b[39m]  \u001b[38;5;66;03m# (bs, dim)\u001b[39;00m\n",
      "File \u001b[0;32m~/University/NLP-LSS/.venv/lib/python3.8/site-packages/torch/nn/modules/module.py:1102\u001b[0m, in \u001b[0;36mModule._call_impl\u001b[0;34m(self, *input, **kwargs)\u001b[0m\n\u001b[1;32m   1098\u001b[0m \u001b[38;5;66;03m# If we don't have any hooks, we want to skip the rest of the logic in\u001b[39;00m\n\u001b[1;32m   1099\u001b[0m \u001b[38;5;66;03m# this function, and just call forward.\u001b[39;00m\n\u001b[1;32m   1100\u001b[0m \u001b[38;5;28;01mif\u001b[39;00m \u001b[38;5;129;01mnot\u001b[39;00m (\u001b[38;5;28mself\u001b[39m\u001b[38;5;241m.\u001b[39m_backward_hooks \u001b[38;5;129;01mor\u001b[39;00m \u001b[38;5;28mself\u001b[39m\u001b[38;5;241m.\u001b[39m_forward_hooks \u001b[38;5;129;01mor\u001b[39;00m \u001b[38;5;28mself\u001b[39m\u001b[38;5;241m.\u001b[39m_forward_pre_hooks \u001b[38;5;129;01mor\u001b[39;00m _global_backward_hooks\n\u001b[1;32m   1101\u001b[0m         \u001b[38;5;129;01mor\u001b[39;00m _global_forward_hooks \u001b[38;5;129;01mor\u001b[39;00m _global_forward_pre_hooks):\n\u001b[0;32m-> 1102\u001b[0m     \u001b[38;5;28;01mreturn\u001b[39;00m \u001b[43mforward_call\u001b[49m\u001b[43m(\u001b[49m\u001b[38;5;241;43m*\u001b[39;49m\u001b[38;5;28;43minput\u001b[39;49m\u001b[43m,\u001b[49m\u001b[43m \u001b[49m\u001b[38;5;241;43m*\u001b[39;49m\u001b[38;5;241;43m*\u001b[39;49m\u001b[43mkwargs\u001b[49m\u001b[43m)\u001b[49m\n\u001b[1;32m   1103\u001b[0m \u001b[38;5;66;03m# Do not call functions when jit is used\u001b[39;00m\n\u001b[1;32m   1104\u001b[0m full_backward_hooks, non_full_backward_hooks \u001b[38;5;241m=\u001b[39m [], []\n",
      "File \u001b[0;32m~/University/NLP-LSS/.venv/lib/python3.8/site-packages/transformers/models/distilbert/modeling_distilbert.py:549\u001b[0m, in \u001b[0;36mDistilBertModel.forward\u001b[0;34m(self, input_ids, attention_mask, head_mask, inputs_embeds, output_attentions, output_hidden_states, return_dict)\u001b[0m\n\u001b[1;32m    547\u001b[0m \u001b[38;5;28;01mif\u001b[39;00m inputs_embeds \u001b[38;5;129;01mis\u001b[39;00m \u001b[38;5;28;01mNone\u001b[39;00m:\n\u001b[1;32m    548\u001b[0m     inputs_embeds \u001b[38;5;241m=\u001b[39m \u001b[38;5;28mself\u001b[39m\u001b[38;5;241m.\u001b[39membeddings(input_ids)  \u001b[38;5;66;03m# (bs, seq_length, dim)\u001b[39;00m\n\u001b[0;32m--> 549\u001b[0m \u001b[38;5;28;01mreturn\u001b[39;00m \u001b[38;5;28;43mself\u001b[39;49m\u001b[38;5;241;43m.\u001b[39;49m\u001b[43mtransformer\u001b[49m\u001b[43m(\u001b[49m\n\u001b[1;32m    550\u001b[0m \u001b[43m    \u001b[49m\u001b[43mx\u001b[49m\u001b[38;5;241;43m=\u001b[39;49m\u001b[43minputs_embeds\u001b[49m\u001b[43m,\u001b[49m\n\u001b[1;32m    551\u001b[0m \u001b[43m    \u001b[49m\u001b[43mattn_mask\u001b[49m\u001b[38;5;241;43m=\u001b[39;49m\u001b[43mattention_mask\u001b[49m\u001b[43m,\u001b[49m\n\u001b[1;32m    552\u001b[0m \u001b[43m    \u001b[49m\u001b[43mhead_mask\u001b[49m\u001b[38;5;241;43m=\u001b[39;49m\u001b[43mhead_mask\u001b[49m\u001b[43m,\u001b[49m\n\u001b[1;32m    553\u001b[0m \u001b[43m    \u001b[49m\u001b[43moutput_attentions\u001b[49m\u001b[38;5;241;43m=\u001b[39;49m\u001b[43moutput_attentions\u001b[49m\u001b[43m,\u001b[49m\n\u001b[1;32m    554\u001b[0m \u001b[43m    \u001b[49m\u001b[43moutput_hidden_states\u001b[49m\u001b[38;5;241;43m=\u001b[39;49m\u001b[43moutput_hidden_states\u001b[49m\u001b[43m,\u001b[49m\n\u001b[1;32m    555\u001b[0m \u001b[43m    \u001b[49m\u001b[43mreturn_dict\u001b[49m\u001b[38;5;241;43m=\u001b[39;49m\u001b[43mreturn_dict\u001b[49m\u001b[43m,\u001b[49m\n\u001b[1;32m    556\u001b[0m \u001b[43m\u001b[49m\u001b[43m)\u001b[49m\n",
      "File \u001b[0;32m~/University/NLP-LSS/.venv/lib/python3.8/site-packages/torch/nn/modules/module.py:1102\u001b[0m, in \u001b[0;36mModule._call_impl\u001b[0;34m(self, *input, **kwargs)\u001b[0m\n\u001b[1;32m   1098\u001b[0m \u001b[38;5;66;03m# If we don't have any hooks, we want to skip the rest of the logic in\u001b[39;00m\n\u001b[1;32m   1099\u001b[0m \u001b[38;5;66;03m# this function, and just call forward.\u001b[39;00m\n\u001b[1;32m   1100\u001b[0m \u001b[38;5;28;01mif\u001b[39;00m \u001b[38;5;129;01mnot\u001b[39;00m (\u001b[38;5;28mself\u001b[39m\u001b[38;5;241m.\u001b[39m_backward_hooks \u001b[38;5;129;01mor\u001b[39;00m \u001b[38;5;28mself\u001b[39m\u001b[38;5;241m.\u001b[39m_forward_hooks \u001b[38;5;129;01mor\u001b[39;00m \u001b[38;5;28mself\u001b[39m\u001b[38;5;241m.\u001b[39m_forward_pre_hooks \u001b[38;5;129;01mor\u001b[39;00m _global_backward_hooks\n\u001b[1;32m   1101\u001b[0m         \u001b[38;5;129;01mor\u001b[39;00m _global_forward_hooks \u001b[38;5;129;01mor\u001b[39;00m _global_forward_pre_hooks):\n\u001b[0;32m-> 1102\u001b[0m     \u001b[38;5;28;01mreturn\u001b[39;00m \u001b[43mforward_call\u001b[49m\u001b[43m(\u001b[49m\u001b[38;5;241;43m*\u001b[39;49m\u001b[38;5;28;43minput\u001b[39;49m\u001b[43m,\u001b[49m\u001b[43m \u001b[49m\u001b[38;5;241;43m*\u001b[39;49m\u001b[38;5;241;43m*\u001b[39;49m\u001b[43mkwargs\u001b[49m\u001b[43m)\u001b[49m\n\u001b[1;32m   1103\u001b[0m \u001b[38;5;66;03m# Do not call functions when jit is used\u001b[39;00m\n\u001b[1;32m   1104\u001b[0m full_backward_hooks, non_full_backward_hooks \u001b[38;5;241m=\u001b[39m [], []\n",
      "File \u001b[0;32m~/University/NLP-LSS/.venv/lib/python3.8/site-packages/transformers/models/distilbert/modeling_distilbert.py:327\u001b[0m, in \u001b[0;36mTransformer.forward\u001b[0;34m(self, x, attn_mask, head_mask, output_attentions, output_hidden_states, return_dict)\u001b[0m\n\u001b[1;32m    324\u001b[0m \u001b[38;5;28;01mif\u001b[39;00m output_hidden_states:\n\u001b[1;32m    325\u001b[0m     all_hidden_states \u001b[38;5;241m=\u001b[39m all_hidden_states \u001b[38;5;241m+\u001b[39m (hidden_state,)\n\u001b[0;32m--> 327\u001b[0m layer_outputs \u001b[38;5;241m=\u001b[39m \u001b[43mlayer_module\u001b[49m\u001b[43m(\u001b[49m\n\u001b[1;32m    328\u001b[0m \u001b[43m    \u001b[49m\u001b[43mx\u001b[49m\u001b[38;5;241;43m=\u001b[39;49m\u001b[43mhidden_state\u001b[49m\u001b[43m,\u001b[49m\u001b[43m \u001b[49m\u001b[43mattn_mask\u001b[49m\u001b[38;5;241;43m=\u001b[39;49m\u001b[43mattn_mask\u001b[49m\u001b[43m,\u001b[49m\u001b[43m \u001b[49m\u001b[43mhead_mask\u001b[49m\u001b[38;5;241;43m=\u001b[39;49m\u001b[43mhead_mask\u001b[49m\u001b[43m[\u001b[49m\u001b[43mi\u001b[49m\u001b[43m]\u001b[49m\u001b[43m,\u001b[49m\u001b[43m \u001b[49m\u001b[43moutput_attentions\u001b[49m\u001b[38;5;241;43m=\u001b[39;49m\u001b[43moutput_attentions\u001b[49m\n\u001b[1;32m    329\u001b[0m \u001b[43m\u001b[49m\u001b[43m)\u001b[49m\n\u001b[1;32m    330\u001b[0m hidden_state \u001b[38;5;241m=\u001b[39m layer_outputs[\u001b[38;5;241m-\u001b[39m\u001b[38;5;241m1\u001b[39m]\n\u001b[1;32m    332\u001b[0m \u001b[38;5;28;01mif\u001b[39;00m output_attentions:\n",
      "File \u001b[0;32m~/University/NLP-LSS/.venv/lib/python3.8/site-packages/torch/nn/modules/module.py:1102\u001b[0m, in \u001b[0;36mModule._call_impl\u001b[0;34m(self, *input, **kwargs)\u001b[0m\n\u001b[1;32m   1098\u001b[0m \u001b[38;5;66;03m# If we don't have any hooks, we want to skip the rest of the logic in\u001b[39;00m\n\u001b[1;32m   1099\u001b[0m \u001b[38;5;66;03m# this function, and just call forward.\u001b[39;00m\n\u001b[1;32m   1100\u001b[0m \u001b[38;5;28;01mif\u001b[39;00m \u001b[38;5;129;01mnot\u001b[39;00m (\u001b[38;5;28mself\u001b[39m\u001b[38;5;241m.\u001b[39m_backward_hooks \u001b[38;5;129;01mor\u001b[39;00m \u001b[38;5;28mself\u001b[39m\u001b[38;5;241m.\u001b[39m_forward_hooks \u001b[38;5;129;01mor\u001b[39;00m \u001b[38;5;28mself\u001b[39m\u001b[38;5;241m.\u001b[39m_forward_pre_hooks \u001b[38;5;129;01mor\u001b[39;00m _global_backward_hooks\n\u001b[1;32m   1101\u001b[0m         \u001b[38;5;129;01mor\u001b[39;00m _global_forward_hooks \u001b[38;5;129;01mor\u001b[39;00m _global_forward_pre_hooks):\n\u001b[0;32m-> 1102\u001b[0m     \u001b[38;5;28;01mreturn\u001b[39;00m \u001b[43mforward_call\u001b[49m\u001b[43m(\u001b[49m\u001b[38;5;241;43m*\u001b[39;49m\u001b[38;5;28;43minput\u001b[39;49m\u001b[43m,\u001b[49m\u001b[43m \u001b[49m\u001b[38;5;241;43m*\u001b[39;49m\u001b[38;5;241;43m*\u001b[39;49m\u001b[43mkwargs\u001b[49m\u001b[43m)\u001b[49m\n\u001b[1;32m   1103\u001b[0m \u001b[38;5;66;03m# Do not call functions when jit is used\u001b[39;00m\n\u001b[1;32m   1104\u001b[0m full_backward_hooks, non_full_backward_hooks \u001b[38;5;241m=\u001b[39m [], []\n",
      "File \u001b[0;32m~/University/NLP-LSS/.venv/lib/python3.8/site-packages/transformers/models/distilbert/modeling_distilbert.py:287\u001b[0m, in \u001b[0;36mTransformerBlock.forward\u001b[0;34m(self, x, attn_mask, head_mask, output_attentions)\u001b[0m\n\u001b[1;32m    284\u001b[0m sa_output \u001b[38;5;241m=\u001b[39m \u001b[38;5;28mself\u001b[39m\u001b[38;5;241m.\u001b[39msa_layer_norm(sa_output \u001b[38;5;241m+\u001b[39m x)  \u001b[38;5;66;03m# (bs, seq_length, dim)\u001b[39;00m\n\u001b[1;32m    286\u001b[0m \u001b[38;5;66;03m# Feed Forward Network\u001b[39;00m\n\u001b[0;32m--> 287\u001b[0m ffn_output \u001b[38;5;241m=\u001b[39m \u001b[38;5;28;43mself\u001b[39;49m\u001b[38;5;241;43m.\u001b[39;49m\u001b[43mffn\u001b[49m\u001b[43m(\u001b[49m\u001b[43msa_output\u001b[49m\u001b[43m)\u001b[49m  \u001b[38;5;66;03m# (bs, seq_length, dim)\u001b[39;00m\n\u001b[1;32m    288\u001b[0m ffn_output \u001b[38;5;241m=\u001b[39m \u001b[38;5;28mself\u001b[39m\u001b[38;5;241m.\u001b[39moutput_layer_norm(ffn_output \u001b[38;5;241m+\u001b[39m sa_output)  \u001b[38;5;66;03m# (bs, seq_length, dim)\u001b[39;00m\n\u001b[1;32m    290\u001b[0m output \u001b[38;5;241m=\u001b[39m (ffn_output,)\n",
      "File \u001b[0;32m~/University/NLP-LSS/.venv/lib/python3.8/site-packages/torch/nn/modules/module.py:1102\u001b[0m, in \u001b[0;36mModule._call_impl\u001b[0;34m(self, *input, **kwargs)\u001b[0m\n\u001b[1;32m   1098\u001b[0m \u001b[38;5;66;03m# If we don't have any hooks, we want to skip the rest of the logic in\u001b[39;00m\n\u001b[1;32m   1099\u001b[0m \u001b[38;5;66;03m# this function, and just call forward.\u001b[39;00m\n\u001b[1;32m   1100\u001b[0m \u001b[38;5;28;01mif\u001b[39;00m \u001b[38;5;129;01mnot\u001b[39;00m (\u001b[38;5;28mself\u001b[39m\u001b[38;5;241m.\u001b[39m_backward_hooks \u001b[38;5;129;01mor\u001b[39;00m \u001b[38;5;28mself\u001b[39m\u001b[38;5;241m.\u001b[39m_forward_hooks \u001b[38;5;129;01mor\u001b[39;00m \u001b[38;5;28mself\u001b[39m\u001b[38;5;241m.\u001b[39m_forward_pre_hooks \u001b[38;5;129;01mor\u001b[39;00m _global_backward_hooks\n\u001b[1;32m   1101\u001b[0m         \u001b[38;5;129;01mor\u001b[39;00m _global_forward_hooks \u001b[38;5;129;01mor\u001b[39;00m _global_forward_pre_hooks):\n\u001b[0;32m-> 1102\u001b[0m     \u001b[38;5;28;01mreturn\u001b[39;00m \u001b[43mforward_call\u001b[49m\u001b[43m(\u001b[49m\u001b[38;5;241;43m*\u001b[39;49m\u001b[38;5;28;43minput\u001b[39;49m\u001b[43m,\u001b[49m\u001b[43m \u001b[49m\u001b[38;5;241;43m*\u001b[39;49m\u001b[38;5;241;43m*\u001b[39;49m\u001b[43mkwargs\u001b[49m\u001b[43m)\u001b[49m\n\u001b[1;32m   1103\u001b[0m \u001b[38;5;66;03m# Do not call functions when jit is used\u001b[39;00m\n\u001b[1;32m   1104\u001b[0m full_backward_hooks, non_full_backward_hooks \u001b[38;5;241m=\u001b[39m [], []\n",
      "File \u001b[0;32m~/University/NLP-LSS/.venv/lib/python3.8/site-packages/transformers/models/distilbert/modeling_distilbert.py:238\u001b[0m, in \u001b[0;36mFFN.forward\u001b[0;34m(self, input)\u001b[0m\n\u001b[1;32m    237\u001b[0m \u001b[38;5;28;01mdef\u001b[39;00m \u001b[38;5;21mforward\u001b[39m(\u001b[38;5;28mself\u001b[39m, \u001b[38;5;28minput\u001b[39m):\n\u001b[0;32m--> 238\u001b[0m     \u001b[38;5;28;01mreturn\u001b[39;00m \u001b[43mapply_chunking_to_forward\u001b[49m\u001b[43m(\u001b[49m\u001b[38;5;28;43mself\u001b[39;49m\u001b[38;5;241;43m.\u001b[39;49m\u001b[43mff_chunk\u001b[49m\u001b[43m,\u001b[49m\u001b[43m \u001b[49m\u001b[38;5;28;43mself\u001b[39;49m\u001b[38;5;241;43m.\u001b[39;49m\u001b[43mchunk_size_feed_forward\u001b[49m\u001b[43m,\u001b[49m\u001b[43m \u001b[49m\u001b[38;5;28;43mself\u001b[39;49m\u001b[38;5;241;43m.\u001b[39;49m\u001b[43mseq_len_dim\u001b[49m\u001b[43m,\u001b[49m\u001b[43m \u001b[49m\u001b[38;5;28;43minput\u001b[39;49m\u001b[43m)\u001b[49m\n",
      "File \u001b[0;32m~/University/NLP-LSS/.venv/lib/python3.8/site-packages/transformers/modeling_utils.py:2438\u001b[0m, in \u001b[0;36mapply_chunking_to_forward\u001b[0;34m(forward_fn, chunk_size, chunk_dim, *input_tensors)\u001b[0m\n\u001b[1;32m   2435\u001b[0m     \u001b[38;5;66;03m# concatenate output at same dimension\u001b[39;00m\n\u001b[1;32m   2436\u001b[0m     \u001b[38;5;28;01mreturn\u001b[39;00m torch\u001b[38;5;241m.\u001b[39mcat(output_chunks, dim\u001b[38;5;241m=\u001b[39mchunk_dim)\n\u001b[0;32m-> 2438\u001b[0m \u001b[38;5;28;01mreturn\u001b[39;00m \u001b[43mforward_fn\u001b[49m\u001b[43m(\u001b[49m\u001b[38;5;241;43m*\u001b[39;49m\u001b[43minput_tensors\u001b[49m\u001b[43m)\u001b[49m\n",
      "File \u001b[0;32m~/University/NLP-LSS/.venv/lib/python3.8/site-packages/transformers/models/distilbert/modeling_distilbert.py:243\u001b[0m, in \u001b[0;36mFFN.ff_chunk\u001b[0;34m(self, input)\u001b[0m\n\u001b[1;32m    241\u001b[0m x \u001b[38;5;241m=\u001b[39m \u001b[38;5;28mself\u001b[39m\u001b[38;5;241m.\u001b[39mlin1(\u001b[38;5;28minput\u001b[39m)\n\u001b[1;32m    242\u001b[0m x \u001b[38;5;241m=\u001b[39m \u001b[38;5;28mself\u001b[39m\u001b[38;5;241m.\u001b[39mactivation(x)\n\u001b[0;32m--> 243\u001b[0m x \u001b[38;5;241m=\u001b[39m \u001b[38;5;28;43mself\u001b[39;49m\u001b[38;5;241;43m.\u001b[39;49m\u001b[43mlin2\u001b[49m(x)\n\u001b[1;32m    244\u001b[0m x \u001b[38;5;241m=\u001b[39m \u001b[38;5;28mself\u001b[39m\u001b[38;5;241m.\u001b[39mdropout(x)\n\u001b[1;32m    245\u001b[0m \u001b[38;5;28;01mreturn\u001b[39;00m x\n",
      "File \u001b[0;32m~/University/NLP-LSS/.venv/lib/python3.8/site-packages/torch/nn/modules/module.py:1164\u001b[0m, in \u001b[0;36mModule.__getattr__\u001b[0;34m(self, name)\u001b[0m\n\u001b[1;32m   1161\u001b[0m     \u001b[38;5;28;01mif\u001b[39;00m \u001b[38;5;124m'\u001b[39m\u001b[38;5;124m_is_full_backward_hook\u001b[39m\u001b[38;5;124m'\u001b[39m \u001b[38;5;129;01mnot\u001b[39;00m \u001b[38;5;129;01min\u001b[39;00m \u001b[38;5;28mself\u001b[39m\u001b[38;5;241m.\u001b[39m\u001b[38;5;18m__dict__\u001b[39m:\n\u001b[1;32m   1162\u001b[0m         \u001b[38;5;28mself\u001b[39m\u001b[38;5;241m.\u001b[39m_is_full_backward_hook \u001b[38;5;241m=\u001b[39m \u001b[38;5;28;01mNone\u001b[39;00m\n\u001b[0;32m-> 1164\u001b[0m \u001b[38;5;28;01mdef\u001b[39;00m \u001b[38;5;21m__getattr__\u001b[39m(\u001b[38;5;28mself\u001b[39m, name: \u001b[38;5;28mstr\u001b[39m) \u001b[38;5;241m-\u001b[39m\u001b[38;5;241m>\u001b[39m Union[Tensor, \u001b[38;5;124m'\u001b[39m\u001b[38;5;124mModule\u001b[39m\u001b[38;5;124m'\u001b[39m]:\n\u001b[1;32m   1165\u001b[0m     \u001b[38;5;28;01mif\u001b[39;00m \u001b[38;5;124m'\u001b[39m\u001b[38;5;124m_parameters\u001b[39m\u001b[38;5;124m'\u001b[39m \u001b[38;5;129;01min\u001b[39;00m \u001b[38;5;28mself\u001b[39m\u001b[38;5;241m.\u001b[39m\u001b[38;5;18m__dict__\u001b[39m:\n\u001b[1;32m   1166\u001b[0m         _parameters \u001b[38;5;241m=\u001b[39m \u001b[38;5;28mself\u001b[39m\u001b[38;5;241m.\u001b[39m\u001b[38;5;18m__dict__\u001b[39m[\u001b[38;5;124m'\u001b[39m\u001b[38;5;124m_parameters\u001b[39m\u001b[38;5;124m'\u001b[39m]\n",
      "\u001b[0;31mKeyboardInterrupt\u001b[0m: "
     ]
    }
   ],
   "source": [
    "from torch.utils.data import Dataset\n",
    "from tqdm.auto import tqdm\n",
    "\n",
    "class MyDataset(Dataset):\n",
    "    def __init__(self, df):\n",
    "        super().__init__()\n",
    "        self.df = df\n",
    "    def __len__(self):\n",
    "        return len(df)\n",
    "\n",
    "    def __getitem__(self, i):\n",
    "        return \"This is a test\"\n",
    "\n",
    "\n",
    "dataset = MyDataset()\n",
    "\n",
    "for batch_size in [1, 8, 64, 256]:\n",
    "    print(\"-\" * 30)\n",
    "    print(f\"Streaming batch_size={batch_size}\")\n",
    "    for out in tqdm(pipe(dataset, batch_size=batch_size), total=len(dataset)):\n",
    "        pass\n"
   ]
  },
  {
   "cell_type": "markdown",
   "metadata": {},
   "source": [
    "## StopWords"
   ]
  },
  {
   "cell_type": "code",
   "execution_count": 32,
   "metadata": {
    "scrolled": true
   },
   "outputs": [
    {
     "name": "stdout",
     "output_type": "stream",
     "text": [
      "{'most', 'wherever', 'became', 'via', 'down', 'thence', 'part', 'last', 'regarding', 'between', 'take', 'nine', 'four', 'latter', 'no', 'all', 'already', 'during', 'nor', 'off', 'your', 'across', 'what', 'before', 'do', 'myself', 'forty', 'whereas', 'this', '’m', 'beforehand', 'now', 'also', 'himself', 'due', 'besides', 'thru', 'and', 'next', 'they', 'without', 'above', 'bottom', 'per', 'are', 'third', 'a', 'meanwhile', 'top', 'might', '‘d', 'nothing', 'the', 'say', 'get', 'well', 'ever', 'everywhere', 'various', '‘ve', 'fifteen', 'anywhere', 'n’t', 'while', 'latterly', 'one', 'few', 'other', 'every', 'back', 'if', 'elsewhere', 'through', 'nowhere', 'each', 're', 'seemed', 'that', 'however', 'their', 'were', 'thereafter', 'behind', 'along', 'much', 'formerly', 'three', 'unless', 'seeming', 'it', 'anything', 'sometimes', 'too', 'own', 'whence', 'enough', 'keep', 'noone', 'upon', 'first', 'fifty', 'hereby', 'otherwise', 'to', 'i', 'whose', \"n't\", 'because', 'out', 'of', 'except', 'could', 'even', 'empty', 'alone', 'call', 'can', 'hereupon', 'than', 'yet', 'beyond', 'anyone', 'must', 'on', '‘ll', 'below', 'within', 'some', 'does', 'me', 'rather', 'seem', 'where', 'whole', \"'d\", \"'ll\", 'why', 'for', 'after', 'but', 'may', 'none', 'whatever', 'against', 'herself', 'almost', 'amongst', 'throughout', 'really', 'whether', 'should', 'until', 'used', 'see', 'we', 'ca', 'he', 'them', 'therefore', 'when', 'herein', 'beside', 'towards', 'ourselves', 'thereupon', 'yourselves', 'or', 'both', \"'ve\", 'ten', 'about', 'yourself', 'just', 'others', '‘re', 'am', 'else', 'has', 'hereafter', 'nobody', '’ll', 'up', 'his', 'its', 'thus', 'with', 'have', 'then', 'any', 'eleven', 'together', 'two', 'only', 'which', '’d', 'again', 'anyway', 'please', 'she', 'there', 'these', 'using', 'put', 'something', 'five', 'though', 'neither', 'under', 'further', 'several', 'whither', 'who', 'whoever', '‘s', 'an', 'cannot', 'anyhow', 'hundred', 'often', 'ours', 'full', 'whenever', 'whereby', 'not', 'least', 'be', 'more', 'side', 'yours', 'twelve', 'namely', '’ve', 'become', 'had', 'hers', 'very', 'twenty', 'becoming', 'such', 'wherein', 'as', 'nevertheless', 'whereupon', 'former', 'themselves', 'those', \"'re\", 'my', 'make', 'afterwards', 'serious', 'since', 'from', 'us', 'mine', 'whereafter', 'whom', 'someone', 'was', 'although', 'did', 'him', 'doing', 'done', 'how', 'less', 'you', 'n‘t', \"'s\", 'sixty', 'quite', 'somehow', 'at', 'in', 'eight', 'itself', 'move', 'always', 'being', 'perhaps', 'show', 'around', 'same', 'thereby', 'will', 'never', '’re', 'sometime', 'mostly', 'therein', 'go', 'amount', 'give', 'indeed', 'here', 'made', 'once', \"'m\", 'her', 'into', 'among', 'everyone', 'front', '‘m', '’s', 'six', 'either', 'been', 'onto', 'our', 'still', 'seems', 'is', 'many', 'another', 'name', 'everything', 'so', 'becomes', 'by', 'would', 'toward', 'somewhere', 'moreover', 'hence', 'over'}\n"
     ]
    }
   ],
   "source": [
    "#from nltk.corpus import stopwords\n",
    "#stopwords = set(stopwords.words('english'))\n",
    "#stopwords\n",
    "from spacy.lang.en import stop_words\n",
    "print (stop_words.STOP_WORDS)"
   ]
  },
  {
   "cell_type": "code",
   "execution_count": 33,
   "metadata": {},
   "outputs": [
    {
     "data": {
      "text/plain": [
       "191526"
      ]
     },
     "execution_count": 33,
     "metadata": {},
     "output_type": "execute_result"
    }
   ],
   "source": [
    "#stopfreq = np.sum([freqs[x] for x in stopwords])\n",
    "#stopfreq # 174132 for NLTK stopwords\n",
    "stopwords = stop_words.STOP_WORDS\n",
    "stopfreq = np.sum([freqs[x] for x in stopwords])\n",
    "stopfreq"
   ]
  },
  {
   "cell_type": "code",
   "execution_count": 34,
   "metadata": {},
   "outputs": [
    {
     "data": {
      "text/plain": [
       "306516"
      ]
     },
     "execution_count": 34,
     "metadata": {},
     "output_type": "execute_result"
    }
   ],
   "source": [
    "otherfreq = np.sum([freqs[x] for x in freqs if x not in stopwords])\n",
    "otherfreq"
   ]
  },
  {
   "cell_type": "markdown",
   "metadata": {},
   "source": [
    "## RegEx"
   ]
  },
  {
   "cell_type": "markdown",
   "metadata": {},
   "source": [
    "Please refer to [RegExOne Regular Expressions Lessons](regexone.com) and [the python documentation](https://docs.python.org/3/howto/regex.html)."
   ]
  },
  {
   "cell_type": "code",
   "execution_count": 35,
   "metadata": {},
   "outputs": [
    {
     "name": "stdout",
     "output_type": "stream",
     "text": [
      "['Justice Thomas ', 'Justice Souter ', 'justice system ']\n",
      "['Justice Souter ', 'justice so ', 'Justice Kennedy ', 'justice to ', 'justice so ']\n",
      "['Justice Stevensdelivered ', 'justice shall ']\n",
      "['JUSTICE STEVENS ', 'JUSTICE SCALIA ', 'Justice Clifford ']\n",
      "['Justice Breyer ']\n"
     ]
    }
   ],
   "source": [
    "import re\n",
    "\n",
    "docs = dfs[:5]['opinion_text']\n",
    "\n",
    "# Extract words after justice.\n",
    "for doc in docs:    \n",
    "    print(re.findall(r'Justice \\w+ ', # pattern to match. always put 'r' in front of string so that backslashes are treated literally.\n",
    "                     doc,            # string\n",
    "                     re.IGNORECASE))  # ignore upper/lowercase (optional)"
   ]
  },
  {
   "cell_type": "code",
   "execution_count": 36,
   "metadata": {},
   "outputs": [
    {
     "name": "stdout",
     "output_type": "stream",
     "text": [
      "['month-old', 'first-degree', 'first-degree', 'third-party', 'state-court', 'death-eligible', 'death-eligible', 'death-eligible', 'death-eligible', 'Furman-type', 'well-established', 'guilt-phase', 'Bedau-Radelet', 'bright-line']\n",
      "['first-degree', 'mental-health', 'first-degree', 'two-part', 'two-part', 'side-by', 'Anglo-American', 'product-of', 'mental-illness', 'irresistible-impulse', 'irresistible-impulse', 'product-of', 'mental-illness', 'Anglo-American', 'two-part', 'product-of', 'mental-illness', 'mental-health', 'irresistible-impulse', 'two-part', 'long-accepted', 'mental-disease', 'mental-disease', 'mental-disease', 'mental-disease', 'mental-disease', 'mental-disease', 'mental-disease', 'mental-disease', 'mental-illness', 'CA-CR', 'mental-disease', 'mental-disease', 'mental-disease', 'mental-disease', 'well-established', 'mental-disease', 'mental-disease', 'stand-alone', 'mental-disease', 'mental-disease', 'mental-disease', 'DSM-IV', 'DSM-IV', 'DSM-IV', 'DSM-IV', 'mental-disease', 'mental-disease', 'mental-disease', 'mental-state', 'DSM-IV', 'xxxii-xxxiii', 'DSM-IV', 'DSM-IV', 'DSM-IV', 'mental-disease', 'mental-disease', 'DSM-IV', 'xxxii-xxxiii', 'wide-ranging', 'mental-disease', 'mental-disease', 'mental-disease', 'mental-disease', 'mental-disease']\n",
      "['high-speed', 'year-old', 'year-old', 'first-degree', 'cross-examination', 'tape-recorded', 'Post-Conviction', 'Petitioner-Appellant', 'state-law', 'post-conviction', 're-statements', 'post-conviction', 'post-conviction', 'state-court', 'ineffective-assistance', 'of-counsel', 'state-court', 'state-law', 'pre-existing', 'post-conviction', 'Petitioner-Appellant', 'state-court', 'second-guess', 'self-reported', 'first-degree']\n",
      "['second-degree', 'second-degree', 'African-American', 'all-white', 'first-degree', 'second-degree', 'third-degree', 'fourth-degree', 'second-degree', 'third-degree', 'second-degree', 'third-degree', 'third-degree', 'second-degree', 'African-Americans', 'penalty-enhancing', 'Almendarez-Torres', 'Almendarez-Torres', 'post-Winship', 'Almendarez-Torres', 'common-law', 'sanction-specific', 'flat-out', 'common-law', 'common-law', 'th-century', 'fixed-term', 'common-law', 'discre-tion', 'Almendarez-Torres', 'heat-of', 'second-degree', 'second-degree', 'Almendarez-Torres', 'Almendarez-Torres', 'Almendarez-Torres', 'Almendarez-Torres', 'Almendarez-Torres', 'Almendarez-Torres', 'Almendarez-Torres', 'Almendarez-Torres', 'Almendarez-Torres', 'Almendarez-Torres', 'Almendarez-Torres', 'Almendarez-Torres', 'recidivism-based', 'Almendarez-Torres', 'burden-of', 'second-degree', 'Almendarez-Torres', 'status-based', 'second-degree', 'Almendarez-Torres', 'Almendarez-Torres', 'cocaine-only']\n",
      "['fact-based', 'Arguelles-Olivares', 'Dulal-Whiteway', 'circumstance-specific', 'firearm-law', 'five-word', 'circumstance-specific', 'Estrada-Espinoza', 'circumstance-specific', 'circumstance-specific', 'circumstance-specific', 'tax-evasion', 'circumstance-specific', 'circumstance-specific', 'judge-approved', 'judge-made', 'sentencing-related']\n"
     ]
    }
   ],
   "source": [
    "# Extract hyphenated words\n",
    "for doc in docs:    \n",
    "    print(re.findall(r'[a-z]+-[a-z]+', \n",
    "                     doc,            \n",
    "                     re.IGNORECASE))  "
   ]
  },
  {
   "cell_type": "code",
   "execution_count": 37,
   "metadata": {
    "scrolled": true
   },
   "outputs": [
    {
     "name": "stdout",
     "output_type": "stream",
     "text": [
      "0 (2389, 2401) 278 Kan. 520\n",
      "0 (2412, 2420) 102 P. 3\n",
      "0 (2796, 2804) 102 P. 3\n",
      "0 (3370, 3383) 544 U.S. 1060\n",
      "0 (3899, 3911) 420 U.S. 469\n",
      "0 (4073, 4086) 544 U.S. 1060\n",
      "0 (6128, 6140) 466 U.S. 380\n",
      "0 (6220, 6232) 459 U.S. 553\n",
      "0 (6296, 6308) 467 U.S. 649\n",
      "0 (6751, 6763) 272 Kan. 894\n",
      "0 (6765, 6776) 40 P.3d 139\n",
      "0 (7858, 7871) 463 U.S. 1032\n",
      "0 (7980, 7992) 497 U.S. 639\n",
      "0 (8080, 8092) 536 U.S. 584\n",
      "0 (8597, 8610) 159 Ariz. 571\n",
      "0 (8612, 8625) 769 P.2d 1017\n",
      "0 (8759, 8772) 865 F.2d 1011\n",
      "0 (10835, 10847) 494 U.S. 299\n",
      "0 (11235, 11247) 494 U.S. 370\n",
      "0 (11539, 11551) 428 U.S. 280\n",
      "0 (11638, 11650) 428 U.S. 325\n",
      "0 (14639, 14652) 191 Ariz. 372\n",
      "0 (14659, 14671) 956 P.2d 499\n",
      "0 (14713, 14725) 135 Ariz. 42\n",
      "0 (14731, 14741) 659 P.2d 1\n",
      "0 (16698, 16710) 408 U.S. 238\n",
      "0 (16785, 16797) 428 U.S. 153\n",
      "0 (17522, 17534) 487 U.S. 164\n",
      "0 (17627, 17639) 462 U.S. 862\n",
      "0 (17816, 17828) 506 U.S. 461\n",
      "0 (17978, 17990) 438 U.S. 586\n",
      "0 (18590, 18602) 337 U.S. 241\n",
      "0 (19087, 19099) 455 U.S. 104\n",
      "0 (19340, 19350) 476 U.S. 1\n",
      "0 (20227, 20239) 481 U.S. 279\n",
      "0 (26924, 26936) 428 U.S. 280\n",
      "0 (27005, 27017) 428 U.S. 325\n",
      "0 (28944, 28956) 494 U.S. 370\n",
      "0 (29035, 29047) 271 U.S. 104\n",
      "0 (29551, 29563) 479 U.S. 538\n",
      "0 (29967, 29980) 206 -207, 165\n",
      "0 (33210, 33220) 185 Ill. 2\n",
      "0 (33232, 33246) 708 N.E.2d 365\n",
      "1 (5143, 5156) 187 Ariz. 536\n",
      "1 (5158, 5171) 931 P.2d 1046\n",
      "1 (5196, 5209) 520 U.S. 1234\n",
      "1 (5347, 5355) 931 P. 2\n",
      "1 (9802, 9815) 546 U.S. 1060\n",
      "1 (11371, 11385) 502 (West 1978\n",
      "1 (11554, 11566) 98 Ariz. 200\n",
      "1 (11573, 11585) 403 P.2d 521\n",
      "1 (11628, 11641) 382 U.S. 1015\n",
      "1 (13270, 13282) 432 U.S. 197\n",
      "1 (13356, 13368) 357 U.S. 513\n",
      "1 (13442, 13454) 343 U.S. 790\n",
      "1 (13560, 13571) 518 U.S. 37\n",
      "1 (13966, 13977) 504 U.S. 71\n",
      "1 (15237, 15248) 81 Ala. 577\n",
      "1 (15250, 15259) 2 So. 854\n",
      "1 (16942, 16955) 25 (West 1999\n",
      "1 (17103, 17112) 806 So. 2\n",
      "1 (17125, 17141) 1051 (Miss. 2001\n",
      "1 (17192, 17204) 263 Neb. 814\n",
      "1 (17215, 17229) 643 N.W.2d 359\n",
      "1 (17297, 17309) 117 Nev. 548\n",
      "1 (17320, 17327) 27 P. 3\n",
      "1 (17371, 17383) 1 (West 2005\n",
      "1 (17412, 17425) 15 (West 2004\n",
      "1 (17531, 17543) 640 P.2d 533\n",
      "1 (18664, 18678) 502 (West 2001\n",
      "1 (18739, 18751) 6 (West 2004\n",
      "1 (18787, 18799) 2 (West 2004\n",
      "1 (18822, 18835) 14 (West 1997\n",
      "1 (19050, 19063) 01 (West 2003\n",
      "1 (19781, 19793) 767 A.2d 267\n",
      "1 (19913, 19927) 020 (West 2003\n",
      "1 (19960, 19975) 109 (Lexis 2001\n",
      "1 (20005, 20018) 431 Mass. 506\n",
      "1 (20025, 20039) 729 N.E.2d 252\n",
      "1 (20105, 20118) 651 A.2d 1189\n",
      "1 (20483, 20495) 565 P.2d 658\n",
      "1 (20702, 20715) 594 A.2d 1279\n",
      "1 (21152, 21164) 2 (West 2004\n",
      "1 (21210, 21222) 3 (West 2004\n",
      "1 (21251, 21265) 130 (West 2003\n",
      "1 (21342, 21354) 3 (2000); 18\n",
      "1 (21780, 21795) 207 (Lexis 2004\n",
      "1 (21902, 21917) 305 (Lexis 2003\n",
      "1 (22203, 22218) 104 (Lexis 2003\n",
      "1 (23234, 23243) 774 - 775\n",
      "1 (26120, 26133) 143 Ariz. 238\n",
      "1 (26140, 26152) 693 P.2d 893\n",
      "1 (27630, 27642) 533 U.S. 167\n",
      "1 (27725, 27737) 348 U.S. 528\n",
      "1 (28026, 28038) 463 U.S. 354\n",
      "1 (28896, 28904) 403 P. 2\n",
      "1 (29237, 29247) 3 (Mar. 18\n",
      "1 (30971, 30984) 187 Ariz. 536\n",
      "1 (30986, 30999) 931 P.2d 1046\n",
      "1 (31024, 31037) 520 U.S. 1234\n",
      "1 (31424, 31432) 931 P. 2\n",
      "1 (31549, 31557) 931 P. 2\n",
      "1 (31645, 31653) 931 P. 2\n",
      "1 (32396, 32404) 931 P. 2\n",
      "1 (33697, 33709) 228 (Aug. 20\n",
      "1 (34008, 34019) 60 (Aug. 21\n",
      "1 (34268, 34280) 132 (Aug. 20\n",
      "1 (34300, 34311) 25 (Aug. 21\n",
      "1 (36008, 36021) 117 Ariz. 369\n",
      "1 (36028, 36039) 573 P.2d 60\n",
      "1 (36713, 36725) 185 F.3d 393\n",
      "1 (36727, 36740) 400 (CA5 1999\n",
      "1 (37536, 37549) 150 Ariz. 112\n",
      "1 (37556, 37568) 722 P.2d 280\n",
      "1 (37878, 37890) 193 Ariz. 72\n",
      "1 (37896, 37909) 969 P.2d 1184\n",
      "1 (38033, 38041) 722 P. 2\n",
      "1 (38080, 38092) 136 Ariz. 93\n",
      "1 (38099, 38111) 664 P.2d 637\n",
      "1 (40213, 40221) 931 P. 2\n",
      "1 (43823, 43831) 931 P. 2\n",
      "1 (43875, 43887) 129 Ariz. 32\n",
      "1 (43889, 43901) 628 P.2d 580\n",
      "1 (43932, 43945) 140 Ariz. 349\n",
      "1 (43947, 43960) 681 P.2d 1368\n",
      "1 (46425, 46438) 463 U.S. 1032\n",
      "1 (50393, 50405) 482 U.S. 730\n",
      "1 (50478, 50490) 462 U.S. 213\n",
      "1 (51716, 51728) 397 U.S. 358\n",
      "1 (51983, 51995) 166 U.S. 481\n",
      "1 (52022, 52036) 1085 (1897); 4\n",
      "1 (53248, 53260) 160 U.S. 469\n",
      "1 (54320, 54332) 328 U.S. 463\n",
      "1 (54509, 54521) 442 U.S. 510\n",
      "1 (55024, 55036) 882 A.2d 574\n",
      "1 (55132, 55144) 343 U.S. 790\n",
      "1 (56578, 56590) 392 U.S. 514\n",
      "1 (58021, 58033) 463 U.S. 354\n",
      "1 (58936, 58949) 429 Mass. 843\n",
      "1 (58956, 58969) 712 N.E.2d 65\n",
      "1 (59769, 59780) 518 U.S. 37\n",
      "1 (61188, 61200) 547 U.S. 319\n",
      "1 (61271, 61283) 476 U.S. 683\n",
      "1 (61485, 61497) 475 U.S. 673\n",
      "1 (61565, 61576) 518 U.S. 37\n",
      "1 (61637, 61649) 410 U.S. 284\n",
      "1 (66695, 66708) 18 Cal.3d 509\n",
      "1 (66735, 66747) 556 P.2d 777\n",
      "1 (66788, 66801) 70 Cal.2d 264\n",
      "1 (66827, 66839) 449 P.2d 449\n",
      "1 (66927, 66940) 29 (West 1999\n",
      "1 (67206, 67214) 931 P. 2\n",
      "1 (67702, 67714) 328 U.S. 463\n",
      "1 (71375, 71387) 350 U.S. 366\n",
      "1 (71449, 71461) 392 U.S. 514\n",
      "2 (349, 360) 427 U.S. 97\n",
      "2 (441, 452) 295 U.S. 78\n",
      "2 (520, 531) 373 U.S. 83\n",
      "2 (1442, 1454) 492 F.3d 743\n",
      "2 (1456, 1465) 760 (CA 6\n",
      "2 (2380, 2392) 554 U.S. 916\n",
      "2 (6289, 6302) 1645 (Apr. 20\n",
      "2 (9456, 9469) 2084 (Apr. 22\n",
      "2 (10505, 10518) 2068 (Apr. 22\n",
      "2 (12967, 12980) 665 S.W.2d 87\n",
      "2 (13392, 13405) 665 S.W.2d 87\n",
      "2 (14414, 14428) 747 S.W.2d 353\n",
      "2 (16560, 16574) 749 S.W.2d 731\n",
      "2 (16576, 16591) 734 (Tenn. 1988\n",
      "2 (17679, 17692) 1992 WL 12217\n",
      "2 (20791, 20805) 927 S.W.2d 579\n",
      "2 (21171, 21183) 519 U.S. 934\n",
      "2 (24222, 24234) 243 F.3d 961\n",
      "2 (25510, 25522) 535 U.S. 685\n",
      "2 (25786, 25798) 359 F.3d 785\n",
      "2 (25968, 25980) 543 U.S. 447\n",
      "2 (28176, 28188) 505 F.3d 610\n",
      "2 (28222, 28234) 554 U.S. 916\n",
      "2 (29753, 29765) 501 U.S. 722\n",
      "2 (29829, 29841) 534 U.S. 362\n",
      "2 (31426, 31438) 380 U.S. 415\n",
      "2 (33261, 33273) 501 U.S. 797\n",
      "2 (33814, 33826) 501 U.S. 797\n",
      "2 (34000, 34012) 343 F.3d 901\n",
      "2 (34014, 34027) 907 (CA7 2003\n",
      "2 (34052, 34064) 41 F.3d 1343\n",
      "2 (34066, 34081) 1358 (CA10 1994\n",
      "2 (34104, 34116) 41 F.3d 1581\n",
      "2 (34118, 34132) 1582 (CA5 1994\n",
      "2 (34161, 34173) 706 F.2d 361\n",
      "2 (34175, 34188) 368 (CA2 1983\n",
      "2 (34223, 34236) 241 F.3d 1201\n",
      "2 (34238, 34252) 1206 (CA9 2001\n",
      "2 (36113, 36127) 927 S.W.2d 579\n",
      "2 (40808, 40820) 473 U.S. 667\n",
      "2 (41332, 41344) 514 U.S. 419\n",
      "2 (41419, 41431) 540 U.S. 668\n",
      "2 (41507, 41519) 527 U.S. 263\n",
      "2 (42874, 42886) 473 U.S. 667\n",
      "2 (42991, 43002) 427 U.S. 97\n",
      "2 (44941, 44954) 1920 (Apr. 22\n",
      "2 (46649, 46661) 545 U.S. 374\n",
      "2 (46807, 46819) 466 U.S. 668\n",
      "2 (46882, 46894) 539 U.S. 510\n",
      "2 (48865, 48876) 226 Md. 422\n",
      "2 (50015, 50028) 2040 (Apr. 22\n",
      "2 (50472, 50486) 547 S.W.2d 531\n",
      "2 (50488, 50503) 543 (Tenn. 1977\n",
      "3 (866, 875) 10 and 20\n",
      "3 (1100, 1108) 10 to 20\n",
      "3 (1751, 1761) 159 N.J. 7\n",
      "3 (1767, 1779) 731 A.2d 485\n",
      "3 (2298, 2306) 3 and 18\n",
      "3 (2638, 2645) 5 to 10\n",
      "3 (2728, 2735) 3 and 5\n",
      "3 (5546, 5558) 397 U.S. 358\n",
      "3 (5725, 5738) 698 A.2d 1265\n",
      "3 (5800, 5811) 477 U.S. 79\n",
      "3 (6996, 7006) 159 N.J. 7\n",
      "3 (7008, 7020) 731 A.2d 485\n",
      "3 (8501, 8513) 526 U.S. 227\n",
      "3 (8734, 8746) 523 U.S. 224\n",
      "3 (11463, 11476) 528 U.S. 1018\n",
      "3 (11826, 11834) 3 and 18\n",
      "3 (12530, 12538) 3 and 22\n",
      "3 (13001, 13013) 508 U.S. 476\n",
      "3 (14250, 14262) 421 U.S. 684\n",
      "3 (14326, 14338) 442 U.S. 510\n",
      "3 (14498, 14510) 432 U.S. 197\n",
      "3 (14970, 14982) 526 U.S. 227\n",
      "3 (17097, 17109) 391 U.S. 145\n",
      "3 (17251, 17263) 397 U.S. 358\n",
      "3 (17519, 17531) 523 U.S. 224\n",
      "3 (17867, 17879) 515 U.S. 506\n",
      "3 (17960, 17972) 508 U.S. 275\n",
      "3 (19051, 19063) 391 U.S. 145\n",
      "3 (20293, 20309) 4 Blackstone 368\n",
      "3 (22082, 22094) 526 U.S. 227\n",
      "3 (22690, 22706) 4 Blackstone 238\n",
      "3 (22993, 23009) 4 Blackstone 343\n",
      "3 (24161, 24177) 3 Blackstone 396\n",
      "3 (24307, 24321) 4 Blackstone 5\n",
      "3 (27243, 27255) 337 U.S. 241\n",
      "3 (28180, 28192) 404 U.S. 443\n",
      "3 (34931, 34943) 421 U.S. 684\n",
      "3 (36520, 36532) 432 U.S. 197\n",
      "3 (37803, 37814) 477 U.S. 79\n",
      "3 (40957, 40969) 523 U.S. 224\n",
      "3 (44178, 44190) 524 U.S. 721\n",
      "3 (46594, 46605) 92 U.S. 214\n",
      "3 (50424, 50436) 421 U.S. 684\n",
      "3 (50594, 50606) 480 U.S. 228\n",
      "3 (53799, 53811) 1137 (rev. 4\n",
      "3 (55749, 55759) 159 N.J. 7\n",
      "3 (55765, 55777) 731 A.2d 485\n",
      "3 (63242, 63254) 497 U.S. 639\n",
      "3 (63295, 63311) 3047 (1990); 497\n",
      "3 (64570, 64582) 523 U.S. 511\n",
      "4 (1012, 1024) 495 U.S. 575\n",
      "4 (2669, 2681) 523 F.3d 387\n",
      "4 (3248, 3259) 461 F.3d 45\n",
      "4 (3261, 3273) 55 (CA1 2006\n",
      "4 (3298, 3310) 523 F.3d 387\n",
      "4 (3363, 3375) 526 F.3d 171\n",
      "4 (3377, 3390) 178 (CA5 2008\n",
      "4 (3461, 3473) 501 F.3d 116\n",
      "4 (3475, 3488) 131 (CA2 2007\n",
      "4 (3537, 3550) 530 F.3d 1111\n",
      "4 (3552, 3566) 1117 (CA9 2008\n",
      "4 (3614, 3626) 479 F.3d 785\n",
      "4 (3628, 3642) 791 (CA11 2007\n",
      "4 (4129, 4141) 555 U.S. 122\n",
      "4 (5037, 5049) 550 U.S. 192\n",
      "4 (7597, 7610) 16 (West 2006\n",
      "4 (8181, 8192) 544 U.S. 13\n",
      "4 (10589, 10602) 546 F.3d 1147\n",
      "4 (10604, 10618) 1152 (CA9 2008\n",
      "4 (10704, 10716) 383 F.3d 144\n",
      "4 (10718, 10731) 164 (CA3 2004\n",
      "4 (10761, 10773) 436 F.3d 323\n",
      "4 (10795, 10807) 51 (CA2 2005\n",
      "4 (10926, 10937) 339 F.3d 91\n",
      "4 (10942, 10954) 96 (CA2 2003\n",
      "4 (11011, 11023) 544 F.3d 862\n",
      "4 (11029, 11042) 872 (CA7 2008\n",
      "4 (11072, 11084) 236 F.3d 130\n",
      "4 (11086, 11099) 136 (CA3 2001\n",
      "4 (13133, 13146) 2421 and 2422\n",
      "4 (13225, 13237) 544 F.3d 137\n",
      "4 (13243, 13256) 145 (CA2 2008\n",
      "4 (14825, 14836) 546 U.S. 21\n",
      "4 (16559, 16573) 110 Stat. 3009\n",
      "4 (17100, 17112) 555 U.S. 415\n",
      "4 (21331, 21342) 456 F.3d 88\n",
      "4 (21344, 21357) 107 (CA3 2006\n",
      "4 (21513, 21525) 429 F.3d 733\n",
      "4 (21531, 21544) 740 (CA7 2005\n",
      "4 (25566, 25578) 1585 or 1588\n",
      "4 (25888, 25900) 2381 or 2382\n",
      "4 (29681, 29694) 21 U.S.C. 801\n",
      "4 (29754, 29767) 21 U.S.C. 951\n",
      "4 (30109, 30122) 21 U.S.C. 802\n",
      "4 (31173, 31187) 110 Stat. 3009\n",
      "4 (31823, 31838) 103 (Supp. 1995\n",
      "4 (31846, 31859) 203 (1993), 5\n",
      "4 (31941, 31955) 487 (West 1985\n",
      "4 (32163, 32179) 2403 (Lexis 1987\n",
      "4 (32371, 32383) 1 (West 1997\n",
      "4 (33175, 33188) 20 (West 1996\n",
      "4 (33267, 33281) 13 (Lexis 1993\n",
      "4 (33331, 33346) 1451 (West 1991\n",
      "4 (33393, 33405) 3 (West 1991\n",
      "4 (33519, 33536) 4111 (1983), 4117\n",
      "4 (33736, 33749) 29 (1994), 11\n",
      "4 (33753, 33767) 30 (Supp. 1999\n",
      "4 (33911, 33925) 17 (Supp. 1997\n",
      "4 (34000, 34016) 1801 (Lexis 1996\n",
      "4 (34168, 34183) 195 (Lexis 1996\n",
      "4 (34235, 34248) 020 (1994), 9\n",
      "4 (34253, 34268) 030 (Supp. 2005\n",
      "4 (35227, 35242) 2109 (West 2000\n",
      "4 (35432, 35447) 2206 (West 1989\n",
      "4 (35564, 35579) 401 (Supp. 1996\n",
      "4 (36008, 36021) 5 (Lexis 1994\n",
      "4 (36439, 36456) 3 (deception), 35\n",
      "4 (36462, 36474) 4 (West 1993\n",
      "4 (36666, 36681) 3701 (1995), 21\n",
      "4 (36682, 36698) 3707 (Supp. 1996\n",
      "4 (36704, 36719) 3729 (1995), 21\n",
      "4 (36720, 36736) 3846 (Supp. 1996\n",
      "4 (36889, 36902) 17 (West 1995\n",
      "4 (37092, 37104) 6 (1994), 30\n",
      "4 (37108, 37121) 13 (1997), 30\n",
      "4 (37125, 37137) 7 (1989), 30\n",
      "4 (37297, 37310) 05 (West 1988\n",
      "4 (37625, 37639) 48 (Lexis 1996\n",
      "4 (37699, 37712) 02 (West 1994\n",
      "4 (38182, 38196) 122 (West 1994\n",
      "4 (38334, 38349) 012 (1994), 812\n",
      "4 (38564, 38576) 1 (West 1995\n",
      "4 (38873, 38885) 2 (West 1993\n",
      "4 (38892, 38904) 8 (West 1993\n",
      "4 (38936, 38948) 9 (West 1993\n",
      "4 (39235, 39249) 05 (Lexis 1997\n",
      "4 (39445, 39458) 1991 and 1995\n"
     ]
    }
   ],
   "source": [
    "# extract citations\n",
    "for i, doc in enumerate(docs):\n",
    "    finder = re.finditer('\\d+ [^\\s]+ \\d+', # pattern to match ([^\\s] means non-white-space)\n",
    "                     doc)            # string\n",
    "    for m in finder: \n",
    "        print(i, m.span(),m.group()) # location (start,end) and matching string"
   ]
  },
  {
   "cell_type": "code",
   "execution_count": 38,
   "metadata": {},
   "outputs": [],
   "source": [
    "# baker-bloom economic uncertainty\n",
    "pattern1 = r'(\\b)uncertain[a-z]*'\n",
    "pattern2 = r'(\\b)econom[a-z]*'\n",
    "pattern3 = r'(\\b)congress(\\b)|(\\b)deficit(\\b)|(\\b)federal reserve(\\b)|(\\b)legislation(\\b)|(\\b)regulation(\\b)|(\\b)white house(\\b)'"
   ]
  },
  {
   "cell_type": "code",
   "execution_count": 39,
   "metadata": {},
   "outputs": [
    {
     "data": {
      "text/plain": [
       "<_sre.SRE_Match object; span=(30, 41), match='uncertainty'>"
      ]
     },
     "execution_count": 39,
     "metadata": {},
     "output_type": "execute_result"
    }
   ],
   "source": [
    "re.search(pattern1,'The White House tried to calm uncertainty in the markets.')"
   ]
  },
  {
   "cell_type": "code",
   "execution_count": 40,
   "metadata": {},
   "outputs": [
    {
     "data": {
      "text/plain": [
       "<_sre.SRE_Match object; span=(46, 53), match='economy'>"
      ]
     },
     "execution_count": 40,
     "metadata": {},
     "output_type": "execute_result"
    }
   ],
   "source": [
    "re.search(pattern2,'The Congress tried to calm uncertainty in the economy.')"
   ]
  },
  {
   "cell_type": "code",
   "execution_count": 41,
   "metadata": {},
   "outputs": [],
   "source": [
    "re.search(pattern3,'The Congress tried to calm uncertainty in the markets.')"
   ]
  },
  {
   "cell_type": "code",
   "execution_count": 42,
   "metadata": {},
   "outputs": [
    {
     "data": {
      "text/plain": [
       "<_sre.SRE_Match object; span=(4, 12), match='Congress'>"
      ]
     },
     "execution_count": 42,
     "metadata": {},
     "output_type": "execute_result"
    }
   ],
   "source": [
    "re.search(pattern3,'The Congress tried to calm uncertainty in the markets.', re.IGNORECASE)"
   ]
  },
  {
   "cell_type": "code",
   "execution_count": 43,
   "metadata": {},
   "outputs": [],
   "source": [
    "def indicates_uncertainty(doc):\n",
    "    m1 = re.search(pattern1, doc, re.IGNORECASE)\n",
    "    m2 = re.search(pattern2, doc, re.IGNORECASE)\n",
    "    m3 = re.search(pattern3, doc, re.IGNORECASE)\n",
    "    if m1 and m2 and m3:\n",
    "        return True\n",
    "    else:\n",
    "        return False"
   ]
  },
  {
   "cell_type": "code",
   "execution_count": 44,
   "metadata": {},
   "outputs": [
    {
     "data": {
      "text/plain": [
       "True"
      ]
     },
     "execution_count": 44,
     "metadata": {},
     "output_type": "execute_result"
    }
   ],
   "source": [
    "indicates_uncertainty('The White House tried to calm uncertainty in the economy.')"
   ]
  },
  {
   "cell_type": "code",
   "execution_count": 45,
   "metadata": {},
   "outputs": [
    {
     "data": {
      "text/plain": [
       "False"
      ]
     },
     "execution_count": 45,
     "metadata": {},
     "output_type": "execute_result"
    }
   ],
   "source": [
    "indicates_uncertainty('The White House tried to calm uncertainty in the markets.')"
   ]
  },
  {
   "cell_type": "code",
   "execution_count": 46,
   "metadata": {},
   "outputs": [],
   "source": [
    "df['uncertainty'] = df['opinion_text'].apply(indicates_uncertainty)"
   ]
  },
  {
   "cell_type": "code",
   "execution_count": 47,
   "metadata": {},
   "outputs": [
    {
     "data": {
      "text/plain": [
       "0.057291666666666664"
      ]
     },
     "execution_count": 47,
     "metadata": {},
     "output_type": "execute_result"
    }
   ],
   "source": [
    "df.uncertainty.mean()"
   ]
  },
  {
   "cell_type": "code",
   "execution_count": 48,
   "metadata": {},
   "outputs": [
    {
     "data": {
      "text/plain": [
       "<AxesSubplot:xlabel='year'>"
      ]
     },
     "execution_count": 48,
     "metadata": {},
     "output_type": "execute_result"
    },
    {
     "data": {
      "image/png": "[encoded data removed]",
      "text/plain": [
       "<Figure size 432x288 with 1 Axes>"
      ]
     },
     "metadata": {
      "needs_background": "light"
     },
     "output_type": "display_data"
    }
   ],
   "source": [
    "df.groupby('year')['uncertainty'].mean().plot()"
   ]
  },
  {
   "cell_type": "markdown",
   "metadata": {},
   "source": [
    "## WordNet"
   ]
  },
  {
   "cell_type": "markdown",
   "metadata": {},
   "source": [
    "These examples are based on the [NLTK tutorial](https://www.nltk.org/howto/wordnet.html)."
   ]
  },
  {
   "cell_type": "code",
   "execution_count": 49,
   "metadata": {},
   "outputs": [],
   "source": [
    "# nltk.download('wordnet')\n",
    "from nltk.corpus import wordnet as wn"
   ]
  },
  {
   "cell_type": "code",
   "execution_count": 50,
   "metadata": {},
   "outputs": [
    {
     "data": {
      "text/plain": [
       "[Synset('judge.n.01'),\n",
       " Synset('evaluator.n.01'),\n",
       " Synset('judge.v.01'),\n",
       " Synset('evaluate.v.02'),\n",
       " Synset('estimate.v.01'),\n",
       " Synset('pronounce.v.02'),\n",
       " Synset('judge.v.05')]"
      ]
     },
     "execution_count": 50,
     "metadata": {},
     "output_type": "execute_result"
    }
   ],
   "source": [
    "wn.synsets('judge')"
   ]
  },
  {
   "cell_type": "code",
   "execution_count": 51,
   "metadata": {},
   "outputs": [
    {
     "data": {
      "text/plain": [
       "[Synset('judge.v.01'),\n",
       " Synset('evaluate.v.02'),\n",
       " Synset('estimate.v.01'),\n",
       " Synset('pronounce.v.02'),\n",
       " Synset('judge.v.05')]"
      ]
     },
     "execution_count": 51,
     "metadata": {},
     "output_type": "execute_result"
    }
   ],
   "source": [
    "wn.synsets('judge', pos='v') # can filter on part of speech"
   ]
  },
  {
   "cell_type": "code",
   "execution_count": 52,
   "metadata": {},
   "outputs": [
    {
     "data": {
      "text/plain": [
       "Synset('judge.n.01')"
      ]
     },
     "execution_count": 52,
     "metadata": {},
     "output_type": "execute_result"
    }
   ],
   "source": [
    "judge = wn.synset('judge.n.01')\n",
    "judge"
   ]
  },
  {
   "cell_type": "code",
   "execution_count": 53,
   "metadata": {},
   "outputs": [
    {
     "data": {
      "text/plain": [
       "'a public official authorized to decide questions brought before a court of justice'"
      ]
     },
     "execution_count": 53,
     "metadata": {},
     "output_type": "execute_result"
    }
   ],
   "source": [
    "judge.definition()"
   ]
  },
  {
   "cell_type": "code",
   "execution_count": 54,
   "metadata": {},
   "outputs": [
    {
     "data": {
      "text/plain": [
       "[]"
      ]
     },
     "execution_count": 54,
     "metadata": {},
     "output_type": "execute_result"
    }
   ],
   "source": [
    "judge.examples()"
   ]
  },
  {
   "cell_type": "code",
   "execution_count": 55,
   "metadata": {},
   "outputs": [
    {
     "data": {
      "text/plain": [
       "['I estimate this chicken to weigh three pounds']"
      ]
     },
     "execution_count": 55,
     "metadata": {},
     "output_type": "execute_result"
    }
   ],
   "source": [
    "wn.synset('estimate.v.01').examples()"
   ]
  },
  {
   "cell_type": "code",
   "execution_count": 56,
   "metadata": {},
   "outputs": [
    {
     "data": {
      "text/plain": [
       "[Synset('adjudicator.n.01'), Synset('official.n.01')]"
      ]
     },
     "execution_count": 56,
     "metadata": {},
     "output_type": "execute_result"
    }
   ],
   "source": [
    "# categories to which \"judge.n.01\" belongs\n",
    "judge.hypernyms()"
   ]
  },
  {
   "cell_type": "code",
   "execution_count": 57,
   "metadata": {},
   "outputs": [
    {
     "data": {
      "text/plain": [
       "[Synset('entity.n.01')]"
      ]
     },
     "execution_count": 57,
     "metadata": {},
     "output_type": "execute_result"
    }
   ],
   "source": [
    "# the root category of \"judge.n.01\"\n",
    "judge.root_hypernyms()"
   ]
  },
  {
   "cell_type": "code",
   "execution_count": 58,
   "metadata": {},
   "outputs": [
    {
     "data": {
      "text/plain": [
       "[Synset('think.v.03')]"
      ]
     },
     "execution_count": 58,
     "metadata": {},
     "output_type": "execute_result"
    }
   ],
   "source": [
    "wn.synset('estimate.v.01').root_hypernyms()"
   ]
  },
  {
   "cell_type": "code",
   "execution_count": 59,
   "metadata": {},
   "outputs": [
    {
     "data": {
      "text/plain": [
       "[Synset('alcalde.n.01'),\n",
       " Synset('chief_justice.n.01'),\n",
       " Synset('daniel.n.02'),\n",
       " Synset('doge.n.01'),\n",
       " Synset('justiciar.n.01'),\n",
       " Synset('magistrate.n.01'),\n",
       " Synset('ordinary.n.01'),\n",
       " Synset('praetor.n.01'),\n",
       " Synset('qadi.n.01'),\n",
       " Synset('recorder.n.03'),\n",
       " Synset('trial_judge.n.01'),\n",
       " Synset('trier.n.01')]"
      ]
     },
     "execution_count": 59,
     "metadata": {},
     "output_type": "execute_result"
    }
   ],
   "source": [
    "# members of the \"judge.n.01\" category\n",
    "judge.hyponyms()"
   ]
  },
  {
   "cell_type": "code",
   "execution_count": 60,
   "metadata": {},
   "outputs": [
    {
     "data": {
      "text/plain": [
       "[Synset('jury.n.01')]"
      ]
     },
     "execution_count": 60,
     "metadata": {},
     "output_type": "execute_result"
    }
   ],
   "source": [
    "# \"holonym\" is a part of a whole\n",
    "juror = wn.synset('juror.n.01')\n",
    "juror.member_holonyms()"
   ]
  },
  {
   "cell_type": "code",
   "execution_count": 61,
   "metadata": {},
   "outputs": [
    {
     "data": {
      "text/plain": [
       "[Synset('person.n.01')]"
      ]
     },
     "execution_count": 61,
     "metadata": {},
     "output_type": "execute_result"
    }
   ],
   "source": [
    "# can find \"lowest common hypernyms\":\n",
    "judge.lowest_common_hypernyms(juror)"
   ]
  },
  {
   "cell_type": "code",
   "execution_count": 62,
   "metadata": {},
   "outputs": [
    {
     "data": {
      "text/plain": [
       "[Lemma('judge.n.01.judge'),\n",
       " Lemma('judge.n.01.justice'),\n",
       " Lemma('judge.n.01.jurist')]"
      ]
     },
     "execution_count": 62,
     "metadata": {},
     "output_type": "execute_result"
    }
   ],
   "source": [
    "# \"lemmas\" are specific senses of a specific word.\n",
    "judge.lemmas()"
   ]
  },
  {
   "cell_type": "code",
   "execution_count": 63,
   "metadata": {},
   "outputs": [
    {
     "data": {
      "text/plain": [
       "['judge', 'justice', 'jurist']"
      ]
     },
     "execution_count": 63,
     "metadata": {},
     "output_type": "execute_result"
    }
   ],
   "source": [
    "[lemma.name() for lemma in judge.lemmas()]"
   ]
  },
  {
   "cell_type": "code",
   "execution_count": 64,
   "metadata": {},
   "outputs": [
    {
     "data": {
      "text/plain": [
       "[Lemma('judicial.s.01.judicial'),\n",
       " Lemma('judicial.a.02.judicial'),\n",
       " Lemma('judicial.a.03.judicial'),\n",
       " Lemma('judgeship.n.01.judgeship'),\n",
       " Lemma('judge.v.05.judge'),\n",
       " Lemma('judge.v.05.adjudicate'),\n",
       " Lemma('decide.v.02.adjudicate')]"
      ]
     },
     "execution_count": 64,
     "metadata": {},
     "output_type": "execute_result"
    }
   ],
   "source": [
    "# lemmas have additional properties\n",
    "judge_lemma = judge.lemmas()[0]\n",
    "judge_lemma.derivationally_related_forms()"
   ]
  },
  {
   "cell_type": "code",
   "execution_count": 65,
   "metadata": {},
   "outputs": [
    {
     "data": {
      "text/plain": [
       "[Lemma('bad.a.01.bad')]"
      ]
     },
     "execution_count": 65,
     "metadata": {},
     "output_type": "execute_result"
    }
   ],
   "source": [
    "good = wn.synset('good.a.01').lemmas()[0]\n",
    "good.antonyms()"
   ]
  },
  {
   "cell_type": "code",
   "execution_count": 66,
   "metadata": {},
   "outputs": [
    {
     "data": {
      "text/plain": [
       "[]"
      ]
     },
     "execution_count": 66,
     "metadata": {},
     "output_type": "execute_result"
    }
   ],
   "source": [
    "good.pertainyms()"
   ]
  },
  {
   "cell_type": "code",
   "execution_count": 67,
   "metadata": {},
   "outputs": [
    {
     "data": {
      "text/plain": [
       "['Somebody judge something', 'Somebody judge PP', 'Somebody judge that CLAUSE']"
      ]
     },
     "execution_count": 67,
     "metadata": {},
     "output_type": "execute_result"
    }
   ],
   "source": [
    "# verb frames summarize the different semantic contexts that a verb can be used\n",
    "judge_verb = wn.synset('estimate.v.01').lemmas()[4]\n",
    "judge_verb.frame_strings()"
   ]
  },
  {
   "cell_type": "code",
   "execution_count": 68,
   "metadata": {},
   "outputs": [
    {
     "data": {
      "text/plain": [
       "0.1111111111111111"
      ]
     },
     "execution_count": 68,
     "metadata": {},
     "output_type": "execute_result"
    }
   ],
   "source": [
    "# measure similarity in the dictionary between words\n",
    "judge.path_similarity(juror)"
   ]
  },
  {
   "cell_type": "code",
   "execution_count": 69,
   "metadata": {},
   "outputs": [
    {
     "data": {
      "text/plain": [
       "0.14285714285714285"
      ]
     },
     "execution_count": 69,
     "metadata": {},
     "output_type": "execute_result"
    }
   ],
   "source": [
    "judge.path_similarity(wn.synset('dog.n.01'))"
   ]
  },
  {
   "cell_type": "code",
   "execution_count": 70,
   "metadata": {},
   "outputs": [
    {
     "data": {
      "text/plain": [
       "0.5454545454545454"
      ]
     },
     "execution_count": 70,
     "metadata": {},
     "output_type": "execute_result"
    }
   ],
   "source": [
    "# Wu-Palmer similarity.\n",
    "judge.wup_similarity(juror)"
   ]
  },
  {
   "cell_type": "code",
   "execution_count": 71,
   "metadata": {},
   "outputs": [
    {
     "data": {
      "text/plain": [
       "0.6666666666666666"
      ]
     },
     "execution_count": 71,
     "metadata": {},
     "output_type": "execute_result"
    }
   ],
   "source": [
    "judge.wup_similarity(wn.synset('dog.n.01'))"
   ]
  },
  {
   "cell_type": "code",
   "execution_count": 72,
   "metadata": {},
   "outputs": [
    {
     "name": "stdout",
     "output_type": "stream",
     "text": [
      "Synset('judgeship.n.01')\n",
      "Synset('judgment.n.02')\n",
      "Synset('value_judgment.n.01')\n",
      "Synset('judgment.n.03')\n",
      "Synset('confession_of_judgment.n.01')\n",
      "Synset('default_judgment.n.01')\n",
      "Synset('final_judgment.n.01')\n",
      "Synset('judgment_in_personam.n.01')\n",
      "Synset('judgment_in_rem.n.01')\n",
      "Synset('judgment_of_dismissal.n.01')\n",
      "Synset('judgment_on_the_merits.n.01')\n",
      "Synset('summary_judgment.n.01')\n",
      "Synset('judgment.n.06')\n",
      "Synset('judgment.n.04')\n",
      "Synset('prejudgment.n.01')\n",
      "Synset('judgment.n.01')\n",
      "Synset('judges.n.01')\n",
      "Synset('back_judge.n.01')\n",
      "Synset('field_judge.n.01')\n",
      "Synset('judge.n.01')\n",
      "Synset('judge_advocate.n.02')\n",
      "Synset('judge_advocate.n.01')\n",
      "Synset('judge_advocate_general.n.01')\n",
      "Synset('line_judge.n.01')\n",
      "Synset('side_judge.n.01')\n",
      "Synset('trial_judge.n.01')\n",
      "Synset('judgment_lien.n.01')\n",
      "Synset('judgment_day.n.01')\n"
     ]
    }
   ],
   "source": [
    "# Can iterate over all synsets; e.g., all nouns:\n",
    "for synset in list(wn.all_synsets('n')):\n",
    "    if 'judg' in str(synset):\n",
    "        print(synset)"
   ]
  },
  {
   "cell_type": "markdown",
   "metadata": {},
   "source": [
    "**Exercise**. Use wordnet to expand the set of words in the Baker-Bloom-Davis dictionary and re-compute policy uncertainty scores by year. "
   ]
  },
  {
   "cell_type": "code",
   "execution_count": null,
   "metadata": {},
   "outputs": [],
   "source": []
  }
 ],
 "metadata": {
  "kernelspec": {
   "display_name": "Python 3 (ipykernel)",
   "language": "python",
   "name": "python3"
  },
  "language_info": {
   "codemirror_mode": {
    "name": "ipython",
    "version": 3
   },
   "file_extension": ".py",
   "mimetype": "text/x-python",
   "name": "python",
   "nbconvert_exporter": "python",
   "pygments_lexer": "ipython3",
   "version": "3.8.10"
  },
  "toc": {
   "base_numbering": "1",
   "nav_menu": {},
   "number_sections": true,
   "sideBar": true,
   "skip_h1_title": false,
   "title_cell": "Week 01. Text Data Essentials",
   "title_sidebar": "Contents",
   "toc_cell": true,
   "toc_position": {
    "height": "calc(100% - 180px)",
    "left": "10px",
    "top": "150px",
    "width": "165px"
   },
   "toc_section_display": true,
   "toc_window_display": true
  },
  "toc-autonumbering": false,
  "toc-showcode": false,
  "toc-showmarkdowntxt": false,
  "toc-showtags": false
 },
 "nbformat": 4,
 "nbformat_minor": 4
}
