{
 "cells": [
  {
   "cell_type": "markdown",
   "metadata": {
    "toc": true
   },
   "source": [
    "<h1>Week 01. Text Data Essentials<span class=\"tocSkip\"></span></h1>\n",
    "<div class=\"toc\"><ul class=\"toc-item\"><li><span><a href=\"#Week-01.-Introduction-to-Text-Data\" data-toc-modified-id=\"Week-01.-Introduction-to-Text-Data-1\"><span class=\"toc-item-num\">1&nbsp;&nbsp;</span>Week 01. Introduction to Text Data</a></span></li><li><span><a href=\"#Loading-and-Inspecting-Data-with-Pandas\" data-toc-modified-id=\"Loading-and-Inspecting-Data-with-Pandas-2\"><span class=\"toc-item-num\">2&nbsp;&nbsp;</span>Loading and Inspecting Data with Pandas</a></span><ul class=\"toc-item\"><li><span><a href=\"#Iterating-over-documents-in-a-dataframe\" data-toc-modified-id=\"Iterating-over-documents-in-a-dataframe-2.1\"><span class=\"toc-item-num\">2.1&nbsp;&nbsp;</span>Iterating over documents in a dataframe</a></span></li><li><span><a href=\"#Saving-data\" data-toc-modified-id=\"Saving-data-2.2\"><span class=\"toc-item-num\">2.2&nbsp;&nbsp;</span>Saving data</a></span></li></ul></li><li><span><a href=\"#Web-Scraping\" data-toc-modified-id=\"Web-Scraping-3\"><span class=\"toc-item-num\">3&nbsp;&nbsp;</span>Web Scraping</a></span><ul class=\"toc-item\"><li><span><a href=\"#Downloading-URL's\" data-toc-modified-id=\"Downloading-URL's-3.1\"><span class=\"toc-item-num\">3.1&nbsp;&nbsp;</span>Downloading URL's</a></span></li><li><span><a href=\"#Parsing-HTML\" data-toc-modified-id=\"Parsing-HTML-3.2\"><span class=\"toc-item-num\">3.2&nbsp;&nbsp;</span>Parsing HTML</a></span></li><li><span><a href=\"#Removing-unicode-characters\" data-toc-modified-id=\"Removing-unicode-characters-3.3\"><span class=\"toc-item-num\">3.3&nbsp;&nbsp;</span>Removing unicode characters</a></span></li></ul></li><li><span><a href=\"#Quantity-of-Text\" data-toc-modified-id=\"Quantity-of-Text-4\"><span class=\"toc-item-num\">4&nbsp;&nbsp;</span>Quantity of Text</a></span></li><li><span><a href=\"#Dictionary-/-Matching-Methods\" data-toc-modified-id=\"Dictionary-/-Matching-Methods-5\"><span class=\"toc-item-num\">5&nbsp;&nbsp;</span>Dictionary / Matching Methods</a></span><ul class=\"toc-item\"><li><span><a href=\"#Sentiment-Analysis\" data-toc-modified-id=\"Sentiment-Analysis-5.1\"><span class=\"toc-item-num\">5.1&nbsp;&nbsp;</span>Sentiment Analysis</a></span></li><li><span><a href=\"#Sentiment-Analysis-with-Huggingface\" data-toc-modified-id=\"Sentiment-Analysis-with-Huggingface-5.2\"><span class=\"toc-item-num\">5.2&nbsp;&nbsp;</span>Sentiment Analysis with Huggingface</a></span></li><li><span><a href=\"#StopWords\" data-toc-modified-id=\"StopWords-5.3\"><span class=\"toc-item-num\">5.3&nbsp;&nbsp;</span>StopWords</a></span></li><li><span><a href=\"#RegEx\" data-toc-modified-id=\"RegEx-5.4\"><span class=\"toc-item-num\">5.4&nbsp;&nbsp;</span>RegEx</a></span></li><li><span><a href=\"#WordNet\" data-toc-modified-id=\"WordNet-5.5\"><span class=\"toc-item-num\">5.5&nbsp;&nbsp;</span>WordNet</a></span></li></ul></li></ul></div>"
   ]
  },
  {
   "cell_type": "markdown",
   "metadata": {},
   "source": [
    "# Week 01. Introduction to Text Data\n",
    "\n",
    "Natural Language Processing for Law and Social Science<br>\n",
    "Elliott Ash, ETH Zurich"
   ]
  },
  {
   "cell_type": "code",
   "execution_count": 1,
   "metadata": {
    "ExecuteTime": {
     "end_time": "2022-03-03T18:54:19.066847Z",
     "start_time": "2022-03-03T18:54:18.994527Z"
    }
   },
   "outputs": [],
   "source": [
    "# set random seed\n",
    "import numpy as np\n",
    "np.random.seed(4)"
   ]
  },
  {
   "cell_type": "markdown",
   "metadata": {},
   "source": [
    "# Loading and Inspecting Data with Pandas"
   ]
  },
  {
   "cell_type": "code",
   "execution_count": 2,
   "metadata": {
    "ExecuteTime": {
     "end_time": "2022-03-03T18:54:19.954764Z",
     "start_time": "2022-03-03T18:54:19.506368Z"
    }
   },
   "outputs": [],
   "source": [
    "#import warnings; warnings.simplefilter('ignore')\n",
    "# !pip install pandas\n",
    "import pandas as pd\n",
    "df = pd.read_csv('sc_cases.zip',compression='gzip')"
   ]
  },
  {
   "cell_type": "code",
   "execution_count": 3,
   "metadata": {
    "ExecuteTime": {
     "end_time": "2022-03-03T18:54:19.961024Z",
     "start_time": "2022-03-03T18:54:19.955791Z"
    }
   },
   "outputs": [
    {
     "name": "stdout",
     "output_type": "stream",
     "text": [
      "<class 'pandas.core.frame.DataFrame'>\n",
      "RangeIndex: 820 entries, 0 to 819\n",
      "Data columns (total 10 columns):\n",
      " #   Column          Non-Null Count  Dtype  \n",
      "---  ------          --------------  -----  \n",
      " 0   case_name       786 non-null    object \n",
      " 1   opinion_type    820 non-null    object \n",
      " 2   date_standard   820 non-null    object \n",
      " 3   authorship      820 non-null    object \n",
      " 4   x_republican    803 non-null    float64\n",
      " 5   maj_judges      786 non-null    object \n",
      " 6   dissent_judges  786 non-null    object \n",
      " 7   topic_id        786 non-null    float64\n",
      " 8   cite_count      812 non-null    float64\n",
      " 9   opinion_text    820 non-null    object \n",
      "dtypes: float64(3), object(7)\n",
      "memory usage: 64.2+ KB\n"
     ]
    }
   ],
   "source": [
    "df.info() "
   ]
  },
  {
   "cell_type": "code",
   "execution_count": 4,
   "metadata": {
    "ExecuteTime": {
     "end_time": "2022-03-03T18:54:19.970882Z",
     "start_time": "2022-03-03T18:54:19.961700Z"
    }
   },
   "outputs": [
    {
     "data": {
      "text/html": [
       "<div>\n",
       "<style scoped>\n",
       "    .dataframe tbody tr th:only-of-type {\n",
       "        vertical-align: middle;\n",
       "    }\n",
       "\n",
       "    .dataframe tbody tr th {\n",
       "        vertical-align: top;\n",
       "    }\n",
       "\n",
       "    .dataframe thead th {\n",
       "        text-align: right;\n",
       "    }\n",
       "</style>\n",
       "<table border=\"1\" class=\"dataframe\">\n",
       "  <thead>\n",
       "    <tr style=\"text-align: right;\">\n",
       "      <th></th>\n",
       "      <th>case_name</th>\n",
       "      <th>opinion_type</th>\n",
       "      <th>date_standard</th>\n",
       "      <th>authorship</th>\n",
       "      <th>x_republican</th>\n",
       "      <th>maj_judges</th>\n",
       "      <th>dissent_judges</th>\n",
       "      <th>topic_id</th>\n",
       "      <th>cite_count</th>\n",
       "      <th>opinion_text</th>\n",
       "    </tr>\n",
       "  </thead>\n",
       "  <tbody>\n",
       "    <tr>\n",
       "      <th>0</th>\n",
       "      <td>ERICK CORNELL CLAY v. UNITED STATES</td>\n",
       "      <td>majority</td>\n",
       "      <td>2003-03-04</td>\n",
       "      <td>GINSBURG</td>\n",
       "      <td>0.0</td>\n",
       "      <td>['BREYER, STEPHEN', 'GINSBURG, RUTH', 'KENNEDY...</td>\n",
       "      <td>[]</td>\n",
       "      <td>1.0</td>\n",
       "      <td>2926.0</td>\n",
       "      <td>JUSTICE GINSBURG delivered the opinion of the ...</td>\n",
       "    </tr>\n",
       "    <tr>\n",
       "      <th>1</th>\n",
       "      <td>HILLSIDE DAIRY INC., A&amp;A DAIRY, L&amp;S DAIRY, AND...</td>\n",
       "      <td>majority</td>\n",
       "      <td>2003-06-09</td>\n",
       "      <td>STEVENS</td>\n",
       "      <td>1.0</td>\n",
       "      <td>['BREYER, STEPHEN', 'GINSBURG, RUTH', 'KENNEDY...</td>\n",
       "      <td>['THOMAS, CLARENCE']</td>\n",
       "      <td>8.0</td>\n",
       "      <td>117.0</td>\n",
       "      <td>Justice Stevens delivered the opinion of the C...</td>\n",
       "    </tr>\n",
       "    <tr>\n",
       "      <th>2</th>\n",
       "      <td>CHARLES RUSSELL RHINES v. DOUGLAS WEBER, WARDEN</td>\n",
       "      <td>majority</td>\n",
       "      <td>2005-03-30</td>\n",
       "      <td>O'CONNOR</td>\n",
       "      <td>1.0</td>\n",
       "      <td>['BREYER, STEPHEN', 'GINSBURG, RUTH', 'KENNEDY...</td>\n",
       "      <td>[]</td>\n",
       "      <td>1.0</td>\n",
       "      <td>23364.0</td>\n",
       "      <td>Justice O'Connor delivered the opinion of the ...</td>\n",
       "    </tr>\n",
       "    <tr>\n",
       "      <th>3</th>\n",
       "      <td>NaN</td>\n",
       "      <td>majority</td>\n",
       "      <td>2005-04-15</td>\n",
       "      <td>KENNEDY</td>\n",
       "      <td>1.0</td>\n",
       "      <td>NaN</td>\n",
       "      <td>NaN</td>\n",
       "      <td>NaN</td>\n",
       "      <td>6.0</td>\n",
       "      <td>Justice Kennedy, Circuit Justice. \\n\\n This is...</td>\n",
       "    </tr>\n",
       "    <tr>\n",
       "      <th>4</th>\n",
       "      <td>STATE OF ALASKA v. UNITED STATES OF AMERICA</td>\n",
       "      <td>majority</td>\n",
       "      <td>2005-06-06</td>\n",
       "      <td>KENNEDY</td>\n",
       "      <td>1.0</td>\n",
       "      <td>['BREYER, STEPHEN', 'GINSBURG, RUTH', 'KENNEDY...</td>\n",
       "      <td>['REHNQUIST, WILLIAM', 'SCALIA, ANTONIN', 'THO...</td>\n",
       "      <td>10.0</td>\n",
       "      <td>84.0</td>\n",
       "      <td>Justice Kennedy delivered the opinion of the C...</td>\n",
       "    </tr>\n",
       "  </tbody>\n",
       "</table>\n",
       "</div>"
      ],
      "text/plain": [
       "                                           case_name opinion_type  \\\n",
       "0                ERICK CORNELL CLAY v. UNITED STATES     majority   \n",
       "1  HILLSIDE DAIRY INC., A&A DAIRY, L&S DAIRY, AND...     majority   \n",
       "2    CHARLES RUSSELL RHINES v. DOUGLAS WEBER, WARDEN     majority   \n",
       "3                                                NaN     majority   \n",
       "4        STATE OF ALASKA v. UNITED STATES OF AMERICA     majority   \n",
       "\n",
       "  date_standard authorship  x_republican  \\\n",
       "0    2003-03-04   GINSBURG           0.0   \n",
       "1    2003-06-09    STEVENS           1.0   \n",
       "2    2005-03-30   O'CONNOR           1.0   \n",
       "3    2005-04-15    KENNEDY           1.0   \n",
       "4    2005-06-06    KENNEDY           1.0   \n",
       "\n",
       "                                          maj_judges  \\\n",
       "0  ['BREYER, STEPHEN', 'GINSBURG, RUTH', 'KENNEDY...   \n",
       "1  ['BREYER, STEPHEN', 'GINSBURG, RUTH', 'KENNEDY...   \n",
       "2  ['BREYER, STEPHEN', 'GINSBURG, RUTH', 'KENNEDY...   \n",
       "3                                                NaN   \n",
       "4  ['BREYER, STEPHEN', 'GINSBURG, RUTH', 'KENNEDY...   \n",
       "\n",
       "                                      dissent_judges  topic_id  cite_count  \\\n",
       "0                                                 []       1.0      2926.0   \n",
       "1                               ['THOMAS, CLARENCE']       8.0       117.0   \n",
       "2                                                 []       1.0     23364.0   \n",
       "3                                                NaN       NaN         6.0   \n",
       "4  ['REHNQUIST, WILLIAM', 'SCALIA, ANTONIN', 'THO...      10.0        84.0   \n",
       "\n",
       "                                        opinion_text  \n",
       "0  JUSTICE GINSBURG delivered the opinion of the ...  \n",
       "1  Justice Stevens delivered the opinion of the C...  \n",
       "2  Justice O'Connor delivered the opinion of the ...  \n",
       "3  Justice Kennedy, Circuit Justice. \\n\\n This is...  \n",
       "4  Justice Kennedy delivered the opinion of the C...  "
      ]
     },
     "execution_count": 4,
     "metadata": {},
     "output_type": "execute_result"
    }
   ],
   "source": [
    "df.head()"
   ]
  },
  {
   "cell_type": "code",
   "execution_count": 5,
   "metadata": {
    "ExecuteTime": {
     "end_time": "2022-03-03T18:54:19.979689Z",
     "start_time": "2022-03-03T18:54:19.972244Z"
    }
   },
   "outputs": [
    {
     "data": {
      "text/html": [
       "<div>\n",
       "<style scoped>\n",
       "    .dataframe tbody tr th:only-of-type {\n",
       "        vertical-align: middle;\n",
       "    }\n",
       "\n",
       "    .dataframe tbody tr th {\n",
       "        vertical-align: top;\n",
       "    }\n",
       "\n",
       "    .dataframe thead th {\n",
       "        text-align: right;\n",
       "    }\n",
       "</style>\n",
       "<table border=\"1\" class=\"dataframe\">\n",
       "  <thead>\n",
       "    <tr style=\"text-align: right;\">\n",
       "      <th></th>\n",
       "      <th>case_name</th>\n",
       "      <th>opinion_type</th>\n",
       "      <th>date_standard</th>\n",
       "      <th>authorship</th>\n",
       "      <th>x_republican</th>\n",
       "      <th>maj_judges</th>\n",
       "      <th>dissent_judges</th>\n",
       "      <th>topic_id</th>\n",
       "      <th>cite_count</th>\n",
       "      <th>opinion_text</th>\n",
       "    </tr>\n",
       "  </thead>\n",
       "  <tbody>\n",
       "    <tr>\n",
       "      <th>0</th>\n",
       "      <td>ERICK CORNELL CLAY v. UNITED STATES</td>\n",
       "      <td>majority</td>\n",
       "      <td>2003-03-04</td>\n",
       "      <td>GINSBURG</td>\n",
       "      <td>0.0</td>\n",
       "      <td>['BREYER, STEPHEN', 'GINSBURG, RUTH', 'KENNEDY...</td>\n",
       "      <td>[]</td>\n",
       "      <td>1.0</td>\n",
       "      <td>2926.0</td>\n",
       "      <td>JUSTICE GINSBURG delivered the opinion of the ...</td>\n",
       "    </tr>\n",
       "    <tr>\n",
       "      <th>1</th>\n",
       "      <td>HILLSIDE DAIRY INC., A&amp;A DAIRY, L&amp;S DAIRY, AND...</td>\n",
       "      <td>majority</td>\n",
       "      <td>2003-06-09</td>\n",
       "      <td>STEVENS</td>\n",
       "      <td>1.0</td>\n",
       "      <td>['BREYER, STEPHEN', 'GINSBURG, RUTH', 'KENNEDY...</td>\n",
       "      <td>['THOMAS, CLARENCE']</td>\n",
       "      <td>8.0</td>\n",
       "      <td>117.0</td>\n",
       "      <td>Justice Stevens delivered the opinion of the C...</td>\n",
       "    </tr>\n",
       "    <tr>\n",
       "      <th>2</th>\n",
       "      <td>CHARLES RUSSELL RHINES v. DOUGLAS WEBER, WARDEN</td>\n",
       "      <td>majority</td>\n",
       "      <td>2005-03-30</td>\n",
       "      <td>O'CONNOR</td>\n",
       "      <td>1.0</td>\n",
       "      <td>['BREYER, STEPHEN', 'GINSBURG, RUTH', 'KENNEDY...</td>\n",
       "      <td>[]</td>\n",
       "      <td>1.0</td>\n",
       "      <td>23364.0</td>\n",
       "      <td>Justice O'Connor delivered the opinion of the ...</td>\n",
       "    </tr>\n",
       "    <tr>\n",
       "      <th>4</th>\n",
       "      <td>STATE OF ALASKA v. UNITED STATES OF AMERICA</td>\n",
       "      <td>majority</td>\n",
       "      <td>2005-06-06</td>\n",
       "      <td>KENNEDY</td>\n",
       "      <td>1.0</td>\n",
       "      <td>['BREYER, STEPHEN', 'GINSBURG, RUTH', 'KENNEDY...</td>\n",
       "      <td>['REHNQUIST, WILLIAM', 'SCALIA, ANTONIN', 'THO...</td>\n",
       "      <td>10.0</td>\n",
       "      <td>84.0</td>\n",
       "      <td>Justice Kennedy delivered the opinion of the C...</td>\n",
       "    </tr>\n",
       "    <tr>\n",
       "      <th>5</th>\n",
       "      <td>REGINALD A. WILKINSON, DIRECTOR, OHIO DEPARTME...</td>\n",
       "      <td>majority</td>\n",
       "      <td>2005-06-13</td>\n",
       "      <td>KENNEDY</td>\n",
       "      <td>1.0</td>\n",
       "      <td>['BREYER, STEPHEN', 'GINSBURG, RUTH', 'KENNEDY...</td>\n",
       "      <td>[]</td>\n",
       "      <td>4.0</td>\n",
       "      <td>4230.0</td>\n",
       "      <td>Justice Kennedy delivered the opinion of the C...</td>\n",
       "    </tr>\n",
       "  </tbody>\n",
       "</table>\n",
       "</div>"
      ],
      "text/plain": [
       "                                           case_name opinion_type  \\\n",
       "0                ERICK CORNELL CLAY v. UNITED STATES     majority   \n",
       "1  HILLSIDE DAIRY INC., A&A DAIRY, L&S DAIRY, AND...     majority   \n",
       "2    CHARLES RUSSELL RHINES v. DOUGLAS WEBER, WARDEN     majority   \n",
       "4        STATE OF ALASKA v. UNITED STATES OF AMERICA     majority   \n",
       "5  REGINALD A. WILKINSON, DIRECTOR, OHIO DEPARTME...     majority   \n",
       "\n",
       "  date_standard authorship  x_republican  \\\n",
       "0    2003-03-04   GINSBURG           0.0   \n",
       "1    2003-06-09    STEVENS           1.0   \n",
       "2    2005-03-30   O'CONNOR           1.0   \n",
       "4    2005-06-06    KENNEDY           1.0   \n",
       "5    2005-06-13    KENNEDY           1.0   \n",
       "\n",
       "                                          maj_judges  \\\n",
       "0  ['BREYER, STEPHEN', 'GINSBURG, RUTH', 'KENNEDY...   \n",
       "1  ['BREYER, STEPHEN', 'GINSBURG, RUTH', 'KENNEDY...   \n",
       "2  ['BREYER, STEPHEN', 'GINSBURG, RUTH', 'KENNEDY...   \n",
       "4  ['BREYER, STEPHEN', 'GINSBURG, RUTH', 'KENNEDY...   \n",
       "5  ['BREYER, STEPHEN', 'GINSBURG, RUTH', 'KENNEDY...   \n",
       "\n",
       "                                      dissent_judges  topic_id  cite_count  \\\n",
       "0                                                 []       1.0      2926.0   \n",
       "1                               ['THOMAS, CLARENCE']       8.0       117.0   \n",
       "2                                                 []       1.0     23364.0   \n",
       "4  ['REHNQUIST, WILLIAM', 'SCALIA, ANTONIN', 'THO...      10.0        84.0   \n",
       "5                                                 []       4.0      4230.0   \n",
       "\n",
       "                                        opinion_text  \n",
       "0  JUSTICE GINSBURG delivered the opinion of the ...  \n",
       "1  Justice Stevens delivered the opinion of the C...  \n",
       "2  Justice O'Connor delivered the opinion of the ...  \n",
       "4  Justice Kennedy delivered the opinion of the C...  \n",
       "5  Justice Kennedy delivered the opinion of the C...  "
      ]
     },
     "execution_count": 5,
     "metadata": {},
     "output_type": "execute_result"
    }
   ],
   "source": [
    "# drop missing\n",
    "df = df.dropna()\n",
    "df.head()"
   ]
  },
  {
   "cell_type": "code",
   "execution_count": 6,
   "metadata": {
    "ExecuteTime": {
     "end_time": "2022-03-03T18:54:20.078271Z",
     "start_time": "2022-03-03T18:54:20.075074Z"
    }
   },
   "outputs": [
    {
     "data": {
      "text/plain": [
       "count        781\n",
       "unique        27\n",
       "top       SCALIA\n",
       "freq          86\n",
       "Name: authorship, dtype: object"
      ]
     },
     "execution_count": 6,
     "metadata": {},
     "output_type": "execute_result"
    }
   ],
   "source": [
    "# Number of label categories (e.g. judges)\n",
    "df['authorship'].describe()"
   ]
  },
  {
   "cell_type": "code",
   "execution_count": 7,
   "metadata": {
    "ExecuteTime": {
     "end_time": "2022-03-03T18:54:20.238731Z",
     "start_time": "2022-03-03T18:54:20.227653Z"
    }
   },
   "outputs": [
    {
     "data": {
      "text/plain": [
       "SCALIA                                           86\n",
       "GINSBURG                                         81\n",
       "THOMAS                                           79\n",
       "KENNEDY                                          79\n",
       "BREYER                                           73\n",
       "SOUTER                                           72\n",
       "STEVENS                                          72\n",
       "O'CONNOR                                         52\n",
       "REHNQUIST                                        49\n",
       "ROBERTS                                          28\n",
       "ALITO                                            23\n",
       "Breyer                                           12\n",
       "Roberts                                          10\n",
       "Alito                                             9\n",
       "Scalia                                            8\n",
       "Thomas                                            8\n",
       "Ginsburg                                          8\n",
       "Stevens                                           7\n",
       "Kennedy                                           7\n",
       "SOTOMAYOR                                         6\n",
       "Souter                                            5\n",
       "STEVENS  AND  O'CONNOR ;  REHNQUIST ;  BREYER     2\n",
       "STEVENS  (IN PART),  BREYER  (IN PART)            1\n",
       "JUSTICE  ALITO                                    1\n",
       "BREYER ;                                          1\n",
       "ROBERTS ,  SCALIA ,  THOMAS ,  ALITO              1\n",
       "Sotomayor                                         1\n",
       "Name: authorship, dtype: int64"
      ]
     },
     "execution_count": 7,
     "metadata": {},
     "output_type": "execute_result"
    }
   ],
   "source": [
    "# tabulations of label categories \n",
    "df['authorship'].value_counts()"
   ]
  },
  {
   "cell_type": "code",
   "execution_count": 8,
   "metadata": {
    "ExecuteTime": {
     "end_time": "2022-03-03T18:54:20.382374Z",
     "start_time": "2022-03-03T18:54:20.377383Z"
    }
   },
   "outputs": [],
   "source": [
    "df['authorship'] = df['authorship'].str.upper()"
   ]
  },
  {
   "cell_type": "code",
   "execution_count": 9,
   "metadata": {
    "ExecuteTime": {
     "end_time": "2022-03-03T18:54:20.524682Z",
     "start_time": "2022-03-03T18:54:20.515558Z"
    }
   },
   "outputs": [
    {
     "data": {
      "text/plain": [
       "SCALIA                                           94\n",
       "GINSBURG                                         89\n",
       "THOMAS                                           87\n",
       "KENNEDY                                          86\n",
       "BREYER                                           85\n",
       "STEVENS                                          79\n",
       "SOUTER                                           77\n",
       "O'CONNOR                                         52\n",
       "REHNQUIST                                        49\n",
       "ROBERTS                                          38\n",
       "ALITO                                            32\n",
       "SOTOMAYOR                                         7\n",
       "STEVENS  AND  O'CONNOR ;  REHNQUIST ;  BREYER     2\n",
       "STEVENS  (IN PART),  BREYER  (IN PART)            1\n",
       "JUSTICE  ALITO                                    1\n",
       "BREYER ;                                          1\n",
       "ROBERTS ,  SCALIA ,  THOMAS ,  ALITO              1\n",
       "Name: authorship, dtype: int64"
      ]
     },
     "execution_count": 9,
     "metadata": {},
     "output_type": "execute_result"
    }
   ],
   "source": [
    "df['authorship'].value_counts()"
   ]
  },
  {
   "cell_type": "code",
   "execution_count": 10,
   "metadata": {
    "ExecuteTime": {
     "end_time": "2022-03-03T18:54:20.658055Z",
     "start_time": "2022-03-03T18:54:20.648459Z"
    }
   },
   "outputs": [
    {
     "name": "stdout",
     "output_type": "stream",
     "text": [
      "Index(['SCALIA', 'GINSBURG', 'THOMAS', 'KENNEDY', 'BREYER', 'STEVENS',\n",
      "       'SOUTER', 'O'CONNOR', 'REHNQUIST', 'ROBERTS', 'ALITO'],\n",
      "      dtype='object')\n"
     ]
    }
   ],
   "source": [
    "# keep all judges through ALITO\n",
    "keep_judges = df['authorship'].value_counts().index[:11]\n",
    "print(keep_judges)"
   ]
  },
  {
   "cell_type": "code",
   "execution_count": 11,
   "metadata": {
    "ExecuteTime": {
     "end_time": "2022-03-03T18:54:20.811481Z",
     "start_time": "2022-03-03T18:54:20.796104Z"
    }
   },
   "outputs": [
    {
     "data": {
      "text/plain": [
       "SCALIA       94\n",
       "GINSBURG     89\n",
       "THOMAS       87\n",
       "KENNEDY      86\n",
       "BREYER       85\n",
       "STEVENS      79\n",
       "SOUTER       77\n",
       "O'CONNOR     52\n",
       "REHNQUIST    49\n",
       "ROBERTS      38\n",
       "ALITO        32\n",
       "Name: authorship, dtype: int64"
      ]
     },
     "execution_count": 11,
     "metadata": {},
     "output_type": "execute_result"
    }
   ],
   "source": [
    "df = df[df['authorship'].isin(keep_judges)]\n",
    "df['authorship'].value_counts()"
   ]
  },
  {
   "cell_type": "code",
   "execution_count": 12,
   "metadata": {
    "ExecuteTime": {
     "end_time": "2022-03-03T18:54:20.955563Z",
     "start_time": "2022-03-03T18:54:20.943541Z"
    }
   },
   "outputs": [
    {
     "data": {
      "text/plain": [
       "0      2003-03-04\n",
       "1      2003-06-09\n",
       "2      2005-03-30\n",
       "4      2005-06-06\n",
       "5      2005-06-13\n",
       "          ...    \n",
       "815    2001-04-18\n",
       "816    2001-04-24\n",
       "817    2001-04-24\n",
       "818    2001-05-14\n",
       "819    2001-05-14\n",
       "Name: date_standard, Length: 768, dtype: object"
      ]
     },
     "execution_count": 12,
     "metadata": {},
     "output_type": "execute_result"
    }
   ],
   "source": [
    "df.date_standard"
   ]
  },
  {
   "cell_type": "code",
   "execution_count": 13,
   "metadata": {
    "ExecuteTime": {
     "end_time": "2022-03-03T18:54:21.096221Z",
     "start_time": "2022-03-03T18:54:21.080282Z"
    }
   },
   "outputs": [
    {
     "data": {
      "text/plain": [
       "0     2003-03-04\n",
       "1     2003-06-09\n",
       "2     2005-03-30\n",
       "4     2005-06-06\n",
       "5     2005-06-13\n",
       "         ...    \n",
       "815   2001-04-18\n",
       "816   2001-04-24\n",
       "817   2001-04-24\n",
       "818   2001-05-14\n",
       "819   2001-05-14\n",
       "Name: date_standard, Length: 768, dtype: datetime64[ns]"
      ]
     },
     "execution_count": 13,
     "metadata": {},
     "output_type": "execute_result"
    }
   ],
   "source": [
    "df['date_standard'] = pd.to_datetime(df['date_standard'])\n",
    "df['date_standard']"
   ]
  },
  {
   "cell_type": "code",
   "execution_count": 14,
   "metadata": {
    "ExecuteTime": {
     "end_time": "2022-03-03T18:54:21.243003Z",
     "start_time": "2022-03-03T18:54:21.229193Z"
    }
   },
   "outputs": [
    {
     "data": {
      "text/plain": [
       "2001    77\n",
       "2000    76\n",
       "2009    74\n",
       "2002    74\n",
       "2004    73\n",
       "2003    70\n",
       "2005    70\n",
       "2007    65\n",
       "2010    64\n",
       "2006    63\n",
       "2008    62\n",
       "Name: year, dtype: int64"
      ]
     },
     "execution_count": 14,
     "metadata": {},
     "output_type": "execute_result"
    }
   ],
   "source": [
    "df['year'] = df['date_standard'].dt.year\n",
    "df['year'].value_counts()"
   ]
  },
  {
   "cell_type": "code",
   "execution_count": 15,
   "metadata": {
    "ExecuteTime": {
     "end_time": "2022-03-03T18:54:21.830847Z",
     "start_time": "2022-03-03T18:54:21.364628Z"
    }
   },
   "outputs": [
    {
     "data": {
      "text/plain": [
       "<AxesSubplot:>"
      ]
     },
     "execution_count": 15,
     "metadata": {},
     "output_type": "execute_result"
    },
    {
     "data": {
      "image/png": "[encoded data removed]",
      "text/plain": [
       "<Figure size 432x288 with 1 Axes>"
      ]
     },
     "metadata": {
      "needs_background": "light"
     },
     "output_type": "display_data"
    }
   ],
   "source": [
    "df['cite_count'].hist()"
   ]
  },
  {
   "cell_type": "code",
   "execution_count": 16,
   "metadata": {
    "ExecuteTime": {
     "end_time": "2022-03-03T18:54:21.882734Z",
     "start_time": "2022-03-03T18:54:21.831876Z"
    }
   },
   "outputs": [
    {
     "data": {
      "text/plain": [
       "<AxesSubplot:>"
      ]
     },
     "execution_count": 16,
     "metadata": {},
     "output_type": "execute_result"
    },
    {
     "data": {
      "image/png": "[encoded data removed]",
      "text/plain": [
       "<Figure size 432x288 with 1 Axes>"
      ]
     },
     "metadata": {
      "needs_background": "light"
     },
     "output_type": "display_data"
    }
   ],
   "source": [
    "import numpy as np\n",
    "df['log_cite_count'] = np.log(df['cite_count'])\n",
    "df['log_cite_count'].hist()"
   ]
  },
  {
   "cell_type": "markdown",
   "metadata": {},
   "source": [
    "Save what we have done so far."
   ]
  },
  {
   "cell_type": "code",
   "execution_count": 17,
   "metadata": {
    "ExecuteTime": {
     "end_time": "2022-03-03T18:54:23.031287Z",
     "start_time": "2022-03-03T18:54:21.883786Z"
    }
   },
   "outputs": [
    {
     "name": "stdout",
     "output_type": "stream",
     "text": [
      "                                             case_name opinion_type  \\\n",
      "0                  ERICK CORNELL CLAY v. UNITED STATES     majority   \n",
      "1    HILLSIDE DAIRY INC., A&A DAIRY, L&S DAIRY, AND...     majority   \n",
      "2      CHARLES RUSSELL RHINES v. DOUGLAS WEBER, WARDEN     majority   \n",
      "4          STATE OF ALASKA v. UNITED STATES OF AMERICA     majority   \n",
      "5    REGINALD A. WILKINSON, DIRECTOR, OHIO DEPARTME...     majority   \n",
      "..                                                 ...          ...   \n",
      "815  MICHAEL F. EASLEY, * GOVERNOR OF NORTH CAROLIN...     majority   \n",
      "816  GAIL ATWATER, et al. v. CITY OF LAGO VISTA et al.     majority   \n",
      "817  JAMES ALEXANDER, DIRECTOR, ALABAMA DEPARTMENT ...     majority   \n",
      "818  UNITED STATES v. OAKLAND CANNABIS BUYERS' COOP...     majority   \n",
      "819                     WILBERT K. ROGERS v. TENNESSEE     majority   \n",
      "\n",
      "    date_standard authorship  x_republican  \\\n",
      "0      2003-03-04   GINSBURG           0.0   \n",
      "1      2003-06-09    STEVENS           1.0   \n",
      "2      2005-03-30   O'CONNOR           1.0   \n",
      "4      2005-06-06    KENNEDY           1.0   \n",
      "5      2005-06-13    KENNEDY           1.0   \n",
      "..            ...        ...           ...   \n",
      "815    2001-04-18     BREYER           0.0   \n",
      "816    2001-04-24     SOUTER           1.0   \n",
      "817    2001-04-24     SCALIA           1.0   \n",
      "818    2001-05-14     THOMAS           1.0   \n",
      "819    2001-05-14   O'CONNOR           1.0   \n",
      "\n",
      "                                            maj_judges  \\\n",
      "0    ['BREYER, STEPHEN', 'GINSBURG, RUTH', 'KENNEDY...   \n",
      "1    ['BREYER, STEPHEN', 'GINSBURG, RUTH', 'KENNEDY...   \n",
      "2    ['BREYER, STEPHEN', 'GINSBURG, RUTH', 'KENNEDY...   \n",
      "4    ['BREYER, STEPHEN', 'GINSBURG, RUTH', 'KENNEDY...   \n",
      "5    ['BREYER, STEPHEN', 'GINSBURG, RUTH', 'KENNEDY...   \n",
      "..                                                 ...   \n",
      "815  ['BREYER, STEPHEN', 'GINSBURG, RUTH', \"O'CONNO...   \n",
      "816  ['KENNEDY, ANTHONY', 'REHNQUIST, WILLIAM', 'SC...   \n",
      "817  ['KENNEDY, ANTHONY', \"O'CONNOR, SANDRA\", 'REHN...   \n",
      "818  ['BREYER, STEPHEN', 'GINSBURG, RUTH', 'KENNEDY...   \n",
      "819  ['GINSBURG, RUTH', 'KENNEDY, ANTHONY', \"O'CONN...   \n",
      "\n",
      "                                        dissent_judges  topic_id  cite_count  \\\n",
      "0                                                   []       1.0      2926.0   \n",
      "1                                 ['THOMAS, CLARENCE']       8.0       117.0   \n",
      "2                                                   []       1.0     23364.0   \n",
      "4    ['REHNQUIST, WILLIAM', 'SCALIA, ANTONIN', 'THO...      10.0        84.0   \n",
      "5                                                   []       4.0      4230.0   \n",
      "..                                                 ...       ...         ...   \n",
      "815  ['KENNEDY, ANTHONY', 'REHNQUIST, WILLIAM', 'SC...       2.0      1236.0   \n",
      "816  ['BREYER, STEPHEN', 'GINSBURG, RUTH', \"O'CONNO...       1.0      3120.0   \n",
      "817  ['BREYER, STEPHEN', 'GINSBURG, RUTH', 'SOUTER,...       9.0      4986.0   \n",
      "818                                                 []       1.0       736.0   \n",
      "819  ['BREYER, STEPHEN', 'SCALIA, ANTONIN', 'STEVEN...       4.0      2100.0   \n",
      "\n",
      "                                          opinion_text  year  log_cite_count  \n",
      "0    JUSTICE GINSBURG delivered the opinion of the ...  2003        7.981392  \n",
      "1    Justice Stevens delivered the opinion of the C...  2003        4.762174  \n",
      "2    Justice O'Connor delivered the opinion of the ...  2005       10.058952  \n",
      "4    Justice Kennedy delivered the opinion of the C...  2005        4.430817  \n",
      "5    Justice Kennedy delivered the opinion of the C...  2005        8.349957  \n",
      "..                                                 ...   ...             ...  \n",
      "815  JUSTICE BREYER delivered the opinion of the Co...  2001        7.119636  \n",
      "816  JUSTICE SOUTER delivered the opinion of the Co...  2001        8.045588  \n",
      "817  JUSTICE SCALIA delivered the opinion of the Co...  2001        8.514389  \n",
      "818  JUSTICE THOMAS delivered the opinion of the Co...  2001        6.601230  \n",
      "819  JUSTICE O'CONNOR delivered the opinion of the ...  2001        7.649693  \n",
      "\n",
      "[768 rows x 12 columns]\n"
     ]
    }
   ],
   "source": [
    "df.to_pickle('sc_cases_cleaned.pkl',compression='gzip')\n",
    "print(df)"
   ]
  },
  {
   "cell_type": "markdown",
   "metadata": {},
   "source": [
    "## Iterating over documents in a dataframe"
   ]
  },
  {
   "cell_type": "markdown",
   "metadata": {},
   "source": [
    "In the following, we show how to iterate over a dataframe and three different ways of how to tokenize documents."
   ]
  },
  {
   "cell_type": "code",
   "execution_count": 18,
   "metadata": {
    "ExecuteTime": {
     "end_time": "2022-03-03T18:54:24.535487Z",
     "start_time": "2022-03-03T18:54:23.692986Z"
    }
   },
   "outputs": [],
   "source": [
    "import spacy\n",
    "# more infos at https://spacy.io/\n",
    "nlp = spacy.load('en_core_web_sm')"
   ]
  },
  {
   "cell_type": "code",
   "execution_count": 19,
   "metadata": {
    "ExecuteTime": {
     "end_time": "2022-03-03T18:54:34.516885Z",
     "start_time": "2022-03-03T18:54:24.536688Z"
    }
   },
   "outputs": [],
   "source": [
    "processed = {} # empty python dictionary for processed data\n",
    "# iterate over rows\n",
    "for i, row in df.iterrows():\n",
    "    if i >= 10:\n",
    "        break\n",
    "    docid = i # make document identifier\n",
    "    text = row['opinion_text']     # get text snippet\n",
    "    document = nlp(text) # get sentences/tokens\n",
    "    processed[docid] = document # add to dictionary    "
   ]
  },
  {
   "cell_type": "code",
   "execution_count": 20,
   "metadata": {
    "ExecuteTime": {
     "end_time": "2022-03-03T18:54:34.519332Z",
     "start_time": "2022-03-03T18:54:34.517544Z"
    }
   },
   "outputs": [
    {
     "name": "stdout",
     "output_type": "stream",
     "text": [
      "opinion 1: JUSTICE GINSBURG delivered the opinion of the Court.\n",
      "\n",
      " A motion by a federal prisoner for postconviction relief under 28 U.S.C. § 2255 is subject to a one-year time limitation that generally runs from \"the date on which the judgment of conviction becomes final.\" \n",
      "\n",
      " opinion 2: Justice Stevens delivered the opinion of the Court. \n",
      "\n",
      "In most of the United States, not including California, the minimum price paid to dairy farmers producing raw milk is regulated pursuant to federal marketing orders.  Those orders guarantee a uniform price for the producers,\n"
     ]
    }
   ],
   "source": [
    "# first and second opinions\n",
    "print (\"opinion 1:\", processed[0][:50], \"\\n\\n\", \"opinion 2:\", processed[1][:50])"
   ]
  },
  {
   "cell_type": "markdown",
   "metadata": {},
   "source": [
    "Let's see in more detail what information we can extract from documents procesesd using spaCy: "
   ]
  },
  {
   "cell_type": "code",
   "execution_count": 21,
   "metadata": {
    "ExecuteTime": {
     "end_time": "2022-03-03T18:54:34.525070Z",
     "start_time": "2022-03-03T18:54:34.521139Z"
    }
   },
   "outputs": [
    {
     "name": "stdout",
     "output_type": "stream",
     "text": [
      "JUSTICE PROPN compound\n",
      "GINSBURG PROPN nsubj\n",
      "delivered VERB ROOT\n",
      "the DET det\n",
      "opinion NOUN dobj\n",
      "of ADP prep\n",
      "the DET det\n",
      "Court PROPN pobj\n",
      ". PUNCT punct\n",
      "\n",
      "\n",
      "  SPACE dep\n",
      "A DET det\n",
      "motion NOUN nsubj\n",
      "by ADP prep\n",
      "a DET det\n",
      "federal ADJ amod\n",
      "prisoner NOUN pobj\n",
      "for ADP prep\n",
      "postconviction NOUN compound\n",
      "relief NOUN pobj\n",
      "under ADP prep\n",
      "28 NUM nummod\n",
      "U.S.C. PROPN compound\n",
      "§ PROPN pobj\n",
      "2255 NUM nummod\n",
      "is AUX ROOT\n",
      "subject ADJ acomp\n",
      "to ADP prep\n",
      "a DET det\n",
      "one NUM nummod\n",
      "- PUNCT punct\n",
      "year NOUN compound\n",
      "time NOUN compound\n",
      "limitation NOUN pobj\n",
      "that PRON nsubj\n",
      "generally ADV advmod\n",
      "runs VERB relcl\n",
      "from ADP prep\n",
      "\" PUNCT punct\n",
      "the DET det\n",
      "date NOUN pobj\n",
      "on ADP prep\n",
      "which PRON pobj\n",
      "the DET det\n",
      "judgment NOUN nsubj\n",
      "of ADP prep\n",
      "conviction NOUN pobj\n",
      "becomes VERB relcl\n",
      "final ADJ acomp\n",
      ". PUNCT punct\n",
      "\" PUNCT punct\n"
     ]
    }
   ],
   "source": [
    "for token in processed[0][:50]:\n",
    "       print(token.text, token.pos_, token.dep_)"
   ]
  },
  {
   "cell_type": "markdown",
   "metadata": {},
   "source": [
    "alternatively, we can preprocess with gensim"
   ]
  },
  {
   "cell_type": "code",
   "execution_count": 22,
   "metadata": {
    "ExecuteTime": {
     "end_time": "2022-03-03T18:54:35.152483Z",
     "start_time": "2022-03-03T18:54:34.525947Z"
    }
   },
   "outputs": [
    {
     "name": "stdout",
     "output_type": "stream",
     "text": [
      "opinion 1: ['justice', 'ginsburg', 'delivered', 'the', 'opinion', 'of', 'the', 'court', 'motion', 'by', 'federal', 'prisoner', 'for', 'postconviction', 'relief', 'under', 'is', 'subject', 'to', 'one', 'year', 'time', 'limitation', 'that', 'generally', 'runs', 'from', 'the', 'date', 'on', 'which', 'the', 'judgment', 'of', 'conviction', 'becomes', 'final', 'this', 'case', 'concerns', 'the', 'starting', 'date', 'for', 'the', 'one', 'year', 'limitation', 'it', 'presents'] \n",
      "\n",
      " opinion 2: ['justice', 'stevens', 'delivered', 'the', 'opinion', 'of', 'the', 'court', 'in', 'most', 'of', 'the', 'united', 'states', 'not', 'including', 'california', 'the', 'minimum', 'price', 'paid', 'to', 'dairy', 'farmers', 'producing', 'raw', 'milk', 'is', 'regulated', 'pursuant', 'to', 'federal', 'marketing', 'orders', 'those', 'orders', 'guarantee', 'uniform', 'price', 'for', 'the', 'producers', 'but', 'through', 'pooling', 'mechanisms', 'require', 'the', 'processors', 'of']\n"
     ]
    }
   ],
   "source": [
    "from gensim.utils import simple_preprocess\n",
    "\n",
    "processed = {} # empty python dictionary for processed data\n",
    "# iterate over rows\n",
    "for i, row in df.iterrows():\n",
    "    docid = i # make document identifier\n",
    "    text = row['opinion_text']     # get text snippet\n",
    "    document = simple_preprocess(text) # get sentences/tokens\n",
    "    processed[docid] = document # add to dictionary    \n",
    "    if i > 100:\n",
    "        break\n",
    "# first and second opinions\n",
    "print (\"opinion 1:\", processed[0][:50], \"\\n\\n\", \"opinion 2:\", processed[1][:50]) # note how simple preprocess drops punctuation"
   ]
  },
  {
   "cell_type": "markdown",
   "metadata": {},
   "source": [
    "or with nltk"
   ]
  },
  {
   "cell_type": "code",
   "execution_count": 23,
   "metadata": {
    "ExecuteTime": {
     "end_time": "2022-03-03T18:54:37.494062Z",
     "start_time": "2022-03-03T18:54:35.153364Z"
    }
   },
   "outputs": [
    {
     "name": "stdout",
     "output_type": "stream",
     "text": [
      "opinion 1: ['justice', 'ginsburg', 'delivered', 'the', 'opinion', 'of', 'the', 'court', '.', 'a', 'motion', 'by', 'a', 'federal', 'prisoner', 'for', 'postconviction', 'relief', 'under', '28', 'u.s.c', '.', '§', '2255', 'is', 'subject', 'to', 'a', 'one-year', 'time', 'limitation', 'that', 'generally', 'runs', 'from', '``', 'the', 'date', 'on', 'which', 'the', 'judgment', 'of', 'conviction', 'becomes', 'final', '.', \"''\", '§', '2255'] \n",
      "\n",
      " opinion 2: ['justice', 'stevens', 'delivered', 'the', 'opinion', 'of', 'the', 'court', '.', 'in', 'most', 'of', 'the', 'united', 'states', ',', 'not', 'including', 'california', ',', 'the', 'minimum', 'price', 'paid', 'to', 'dairy', 'farmers', 'producing', 'raw', 'milk', 'is', 'regulated', 'pursuant', 'to', 'federal', 'marketing', 'orders', '.', 'those', 'orders', 'guarantee', 'a', 'uniform', 'price', 'for', 'the', 'producers', ',', 'but', 'through']\n"
     ]
    }
   ],
   "source": [
    "from nltk.tokenize import word_tokenize\n",
    "processed = {} # empty python dictionary for processed data\n",
    "# iterate over rows\n",
    "for i, row in df.iterrows():\n",
    "    docid = i # make document identifier\n",
    "    text = row['opinion_text']     # get text snippet\n",
    "    document = word_tokenize(text.lower()) # get sentences/tokens\n",
    "    processed[docid] = document # add to dictionary    \n",
    "    if i > 100:\n",
    "        break\n",
    "# first and second opinions\n",
    "print (\"opinion 1:\", processed[0][:50], \"\\n\\n\", \"opinion 2:\", processed[1][:50]) # note that we just tokenize and keep all tokens\n"
   ]
  },
  {
   "cell_type": "markdown",
   "metadata": {},
   "source": [
    "## Saving data"
   ]
  },
  {
   "cell_type": "code",
   "execution_count": 24,
   "metadata": {
    "ExecuteTime": {
     "end_time": "2022-03-03T18:54:37.554721Z",
     "start_time": "2022-03-03T18:54:37.494841Z"
    }
   },
   "outputs": [],
   "source": [
    "# save as python pickle\n",
    "pd.to_pickle(processed, 'processed_corpus.pkl')\n",
    "# delete it\n",
    "import os \n",
    "os.remove('processed_corpus.pkl')"
   ]
  },
  {
   "cell_type": "code",
   "execution_count": 25,
   "metadata": {
    "ExecuteTime": {
     "end_time": "2022-03-03T18:54:37.557086Z",
     "start_time": "2022-03-03T18:54:37.555589Z"
    }
   },
   "outputs": [],
   "source": [
    "# Merging Data-frames Example\n",
    "# Perform a left join:\n",
    "# df_merged = pd.merge(df1,df2,on='id', how='left', validation='m:1')"
   ]
  },
  {
   "cell_type": "markdown",
   "metadata": {},
   "source": [
    "# Web Scraping"
   ]
  },
  {
   "cell_type": "markdown",
   "metadata": {},
   "source": [
    "## Downloading URL's"
   ]
  },
  {
   "cell_type": "code",
   "execution_count": 26,
   "metadata": {
    "ExecuteTime": {
     "end_time": "2022-03-03T18:54:39.084595Z",
     "start_time": "2022-03-03T18:54:37.557840Z"
    }
   },
   "outputs": [
    {
     "name": "stdout",
     "output_type": "stream",
     "text": [
      "b'\\n<!DOCTYPE html>\\n<html lang=\"en\">\\n<head>\\n  <meta charset=\"utf-8\"/>\\n  <meta http-equiv=\"Content-Language\" content=\"en\"/>\\n  <meta name=\"language\" content=\"en_us\"/>\\n  <meta name=\"viewport\" content=\"width=device-width,initial-scale=1\"/>\\n\\n  \\n  <meta name=\"description\" content=\"Opinion for People v. Germany, 674 P.2d 345 \\xe2\\x80\\x94 Brought to you by Free Law Project, a non-profit dedicated to creating high qua'\n",
      "\n",
      "b'    s = d.getElementsByTagName(\\'script\\')[0];\\n      g.type = \\'text/javascript\\';\\n      g.async = true;\\n      g.defer = true;\\n      g.src = u + \\'matomo.js\\';\\n      s.parentNode.insertBefore(g, s);\\n    })();\\n  </script>\\n  <noscript><p><img src=\"//matomo.courtlistener.com//piwik.php?idsite=1&rec=1\"\\n                    style=\"border:0;\" alt=\"\"/></p></noscript>\\n  <!-- End Matomo Code -->\\n\\n</body>\\n</html>\\n'\n",
      "\n",
      "78512 characters in string.\n"
     ]
    }
   ],
   "source": [
    "import urllib.request as urllib # Python's module for accessing web pages\n",
    "url = 'https://goo.gl/VRF8Xs' # shortened URL for court case\n",
    "page = urllib.urlopen(url) # open the web page\n",
    "\n",
    "html = page.read() # read web page contents as a string\n",
    "print(html[:400])  # print first 400 characters\n",
    "print()\n",
    "print(html[-400:]) # print last 400 characters\n",
    "print()\n",
    "print(len(html),'characters in string.')   # print length of string"
   ]
  },
  {
   "cell_type": "markdown",
   "metadata": {},
   "source": [
    "## Parsing HTML"
   ]
  },
  {
   "cell_type": "code",
   "execution_count": 291,
   "metadata": {
    "ExecuteTime": {
     "end_time": "2022-02-25T09:32:09.647832Z",
     "start_time": "2022-02-25T09:32:09.602699Z"
    }
   },
   "outputs": [
    {
     "name": "stdout",
     "output_type": "stream",
     "text": [
      "<title>People v. Germany, 674 P.2d 345 – CourtListener.com</title>\n"
     ]
    }
   ],
   "source": [
    "# Parse raw HTML\n",
    "# !pip install beautifulsoup4\n",
    "from bs4 import BeautifulSoup # package for parsing HTML\n",
    "soup = BeautifulSoup(html, 'lxml') # parse html of web page\n",
    "print(soup.title) # example usage: print title item"
   ]
  },
  {
   "cell_type": "code",
   "execution_count": 292,
   "metadata": {
    "ExecuteTime": {
     "end_time": "2022-02-25T09:32:18.769526Z",
     "start_time": "2022-02-25T09:32:18.758006Z"
    }
   },
   "outputs": [
    {
     "name": "stdout",
     "output_type": "stream",
     "text": [
      "519\n"
     ]
    }
   ],
   "source": [
    "# extract text\n",
    "text = soup.get_text() # get text (remove HTML markup)\n",
    "lines = text.splitlines() # split string into separate lines\n",
    "print(len(lines)) # print number of lines"
   ]
  },
  {
   "cell_type": "code",
   "execution_count": 293,
   "metadata": {
    "ExecuteTime": {
     "end_time": "2022-02-25T09:32:26.434807Z",
     "start_time": "2022-02-25T09:32:26.422384Z"
    }
   },
   "outputs": [
    {
     "name": "stdout",
     "output_type": "stream",
     "text": [
      "187\n"
     ]
    }
   ],
   "source": [
    "lines = [line for line in lines if line != ''] # drop empty lines\n",
    "print(len(lines)) # print number of lines"
   ]
  },
  {
   "cell_type": "code",
   "execution_count": 294,
   "metadata": {
    "ExecuteTime": {
     "end_time": "2022-02-25T09:32:30.847356Z",
     "start_time": "2022-02-25T09:32:30.839684Z"
    }
   },
   "outputs": [
    {
     "name": "stdout",
     "output_type": "stream",
     "text": [
      "['People v. Germany, 674 P.2d 345 – CourtListener.com', 'Toggle navigation', 'About', 'FAQ', 'Donate', 'Sign in / Register', 'From Free Law Project, a 501(c)(3) non-profit.', 'Opinions\\xa0', 'Advanced Search', 'Citation Look Up', 'Citation Visualizations', 'RECAP Archive', 'Oral Arguments', 'Judges', 'Financial Disclosures', '\\xa0Donate', 'Your Notes', '                    (edit)', '                     ', '                    (none)']\n"
     ]
    }
   ],
   "source": [
    "print(lines[:20]) # print first 20 lines"
   ]
  },
  {
   "cell_type": "markdown",
   "metadata": {},
   "source": [
    "## Removing unicode characters"
   ]
  },
  {
   "cell_type": "code",
   "execution_count": 295,
   "metadata": {
    "ExecuteTime": {
     "end_time": "2022-02-25T09:32:53.962331Z",
     "start_time": "2022-02-25T09:32:53.952376Z"
    }
   },
   "outputs": [
    {
     "name": "stdout",
     "output_type": "stream",
     "text": [
      "['Visualizations\\xa0'] ['Visualizations ']\n"
     ]
    }
   ],
   "source": [
    "# !pip install unidecode\n",
    "from unidecode import unidecode # package for removing unicode\n",
    "uncode_str = 'Visualizations\\xa0'\n",
    "fixed = unidecode(uncode_str) # example usage\n",
    "print([uncode_str],[fixed]) # print cleaned string (replaced with a space)"
   ]
  },
  {
   "cell_type": "markdown",
   "metadata": {},
   "source": [
    "# Quantity of Text"
   ]
  },
  {
   "cell_type": "markdown",
   "metadata": {},
   "source": [
    "Count words per document."
   ]
  },
  {
   "cell_type": "code",
   "execution_count": 301,
   "metadata": {
    "ExecuteTime": {
     "end_time": "2022-02-25T09:35:39.259306Z",
     "start_time": "2022-02-25T09:35:39.016620Z"
    }
   },
   "outputs": [
    {
     "data": {
      "text/plain": [
       "<AxesSubplot:>"
      ]
     },
     "execution_count": 301,
     "metadata": {},
     "output_type": "execute_result"
    },
    {
     "data": {
      "image/png": "[encoded data removed]",
      "text/plain": [
       "<Figure size 432x288 with 1 Axes>"
      ]
     },
     "metadata": {
      "needs_background": "light"
     },
     "output_type": "display_data"
    }
   ],
   "source": [
    "def get_words_per_doc(txt):\n",
    "    # split text into words and count them.\n",
    "    return len(txt.split()) \n",
    "\n",
    "# apply to our dataframe\n",
    "df['num_words'] = df['opinion_text'].apply(get_words_per_doc)\n",
    "df['num_words'].hist()"
   ]
  },
  {
   "cell_type": "code",
   "execution_count": 302,
   "metadata": {
    "ExecuteTime": {
     "end_time": "2022-02-25T09:35:42.316770Z",
     "start_time": "2022-02-25T09:35:42.234336Z"
    }
   },
   "outputs": [
    {
     "data": {
      "image/png": "[encoded data removed]",
      "text/plain": [
       "<Figure size 432x288 with 1 Axes>"
      ]
     },
     "metadata": {
      "needs_background": "light"
     },
     "output_type": "display_data"
    }
   ],
   "source": [
    "# plot length by year\n",
    "ax = df.groupby('year')['num_words'].mean().plot()\n",
    "ax.set_ylabel('Average Opinion Length')\n",
    "import matplotlib.pyplot as plt\n",
    "plt.show()"
   ]
  },
  {
   "cell_type": "code",
   "execution_count": 303,
   "metadata": {
    "ExecuteTime": {
     "end_time": "2022-02-25T09:35:44.161062Z",
     "start_time": "2022-02-25T09:35:43.959415Z"
    }
   },
   "outputs": [
    {
     "data": {
      "text/plain": [
       "<seaborn.axisgrid.JointGrid at 0x32c9c65b0>"
      ]
     },
     "execution_count": 303,
     "metadata": {},
     "output_type": "execute_result"
    },
    {
     "data": {
      "image/png": "[encoded data removed]",
      "text/plain": [
       "<Figure size 432x432 with 3 Axes>"
      ]
     },
     "metadata": {
      "needs_background": "light"
     },
     "output_type": "display_data"
    }
   ],
   "source": [
    "df['log_words'] = np.log(df['num_words'])\n",
    "import seaborn as sns\n",
    "sns.jointplot(data=df,x='year', y='log_words',kind='hex')"
   ]
  },
  {
   "cell_type": "markdown",
   "metadata": {},
   "source": [
    "Build a frequency distribution over words with `Counter`."
   ]
  },
  {
   "cell_type": "code",
   "execution_count": 304,
   "metadata": {
    "ExecuteTime": {
     "end_time": "2022-02-25T09:37:22.448696Z",
     "start_time": "2022-02-25T09:37:22.317909Z"
    }
   },
   "outputs": [
    {
     "data": {
      "text/plain": [
       "[('the', 32485),\n",
       " ('of', 16429),\n",
       " ('to', 12675),\n",
       " ('a', 9144),\n",
       " ('that', 8737),\n",
       " ('in', 8484),\n",
       " ('and', 7815),\n",
       " ('at', 5172),\n",
       " ('for', 4569),\n",
       " ('is', 4115),\n",
       " ('not', 3658),\n",
       " ('l.', 3297),\n",
       " ('ed.', 3273),\n",
       " ('as', 3108),\n",
       " ('or', 2956),\n",
       " ('s.', 2904),\n",
       " ('ct.', 2805),\n",
       " ('§', 2752),\n",
       " ('court', 2667),\n",
       " ('on', 2666)]"
      ]
     },
     "execution_count": 304,
     "metadata": {},
     "output_type": "execute_result"
    }
   ],
   "source": [
    "from collections import Counter\n",
    "freqs = Counter()\n",
    "for i, row in df.iterrows():\n",
    "    freqs.update(row['opinion_text'].lower().split())\n",
    "    if i > 100:\n",
    "        break\n",
    "freqs.most_common()[:20] # can use most frequent words as style/function words"
   ]
  },
  {
   "cell_type": "markdown",
   "metadata": {
    "toc-hr-collapsed": false
   },
   "source": [
    "# Dictionary / Matching Methods"
   ]
  },
  {
   "cell_type": "markdown",
   "metadata": {},
   "source": [
    "## Sentiment Analysis"
   ]
  },
  {
   "cell_type": "code",
   "execution_count": 261,
   "metadata": {
    "ExecuteTime": {
     "end_time": "2022-02-25T08:49:07.616803Z",
     "start_time": "2022-02-25T08:49:07.610484Z"
    }
   },
   "outputs": [
    {
     "name": "stdout",
     "output_type": "stream",
     "text": [
      "3.2.2\n"
     ]
    }
   ],
   "source": [
    "import spacy\n",
    "from spacytextblob.spacytextblob import SpacyTextBlob\n",
    "print (spacy.__version__)"
   ]
  },
  {
   "cell_type": "code",
   "execution_count": 262,
   "metadata": {
    "ExecuteTime": {
     "end_time": "2022-02-25T08:49:09.741266Z",
     "start_time": "2022-02-25T08:49:08.751772Z"
    }
   },
   "outputs": [
    {
     "name": "stdout",
     "output_type": "stream",
     "text": [
      "polarity 0.05404135338345859\n",
      "subjectivity 0.5065358709273183\n"
     ]
    }
   ],
   "source": [
    "# Dictionary-Based Sentiment Analysis\n",
    "# nltk.download('vader_lexicon')\n",
    "\n",
    "# textblob sentiment analysis: https://github.com/sloria/TextBlob\n",
    "# pip install spacytextblob\n",
    "\n",
    "import spacy\n",
    "from spacytextblob.spacytextblob import SpacyTextBlob\n",
    "\n",
    "\n",
    "nlp = spacy.load('en_core_web_sm')\n",
    "# spacy_text_blob = SpacyTextBlob()\n",
    "nlp.add_pipe('spacytextblob')\n",
    "doc = nlp(df.iloc[0][\"opinion_text\"])\n",
    "#from nltk.sentiment.vader import SentimentIntensityAnalyzer\n",
    "#sid = SentimentIntensityAnalyzer()\n",
    "#polarity = sid.polarity_scores(text)\n",
    "print(\"polarity\", doc._.polarity) # sentimentintensityanalayzer nltk: {'neg': 0.134, 'neu': 0.785, 'pos': 0.081, 'compound': -0.9999}\n",
    "print (\"subjectivity\", doc._.subjectivity)"
   ]
  },
  {
   "cell_type": "code",
   "execution_count": 263,
   "metadata": {
    "ExecuteTime": {
     "end_time": "2022-02-25T08:50:48.585836Z",
     "start_time": "2022-02-25T08:49:12.565542Z"
    }
   },
   "outputs": [],
   "source": [
    "# sample 10% of the dataset\n",
    "dfs = df.sample(frac=.1) \n",
    "# apply compound sentiment score to data-frame\n",
    "def get_sentiment(snippet):\n",
    "    #return sid.polarity_scores(snippet)['compound']\n",
    "    return nlp(snippet)._.polarity\n",
    "dfs['sentiment'] = dfs['opinion_text'].apply(get_sentiment)"
   ]
  },
  {
   "cell_type": "code",
   "execution_count": 264,
   "metadata": {
    "ExecuteTime": {
     "end_time": "2022-02-25T08:50:48.590377Z",
     "start_time": "2022-02-25T08:50:48.586905Z"
    }
   },
   "outputs": [
    {
     "data": {
      "text/plain": [
       "[' \\n\\n This case presents the question whether uses of patented inventions in preclinical research, the',\n",
       " 't. \\n\\n This case requires us to decide whether the use of race as a factor in student admissions by t',\n",
       " ' \\n\\n  The State of Washington prohibits labor unions from using the agency-shop fees of a nonmember f',\n",
       " ' \\n\\n The question is whether the provision of the Fair Labor Standards Act of 1938 (FLSA or Act), tha',\n",
       " \"t. \\n\\n We granted certiorari to resolve whether the Nevada Supreme Court's refusal to extend full fai\"]"
      ]
     },
     "execution_count": 264,
     "metadata": {},
     "output_type": "execute_result"
    }
   ],
   "source": [
    "dfs.sort_values('sentiment',inplace=True)\n",
    "# print beginning of most positive documents\n",
    "[x[50:150] for x  in dfs[-5:]['opinion_text']]"
   ]
  },
  {
   "cell_type": "code",
   "execution_count": 265,
   "metadata": {
    "ExecuteTime": {
     "end_time": "2022-02-25T08:50:48.593796Z",
     "start_time": "2022-02-25T08:50:48.591101Z"
    }
   },
   "outputs": [
    {
     "data": {
      "text/plain": [
       "['\\n\\nThe False Claims Act (FCA) imposes civil liability on any person who knowingly uses a \"false recor',\n",
       " ' \\n\\nWhen an alien is found ineligible to remain in the United States, the process for selecting the c',\n",
       " 'he Court. \\n\\n Petitioner Josue Leocal, a Haitian citizen who is a lawful permanent resident of the Un',\n",
       " \" \\n\\n Respondent Arturo Recuenco was convicted of assault in the second degree based on the jury's fin\",\n",
       " 'he Court. \\n\\n InTotten v. United States,92 U.S. 105, 23 L. Ed. 605 (1876), we held that public policy']"
      ]
     },
     "execution_count": 265,
     "metadata": {},
     "output_type": "execute_result"
    }
   ],
   "source": [
    "# print beginning of most negative documents\n",
    "[x[50:150] for x  in dfs[:5]['opinion_text']]"
   ]
  },
  {
   "cell_type": "code",
   "execution_count": 266,
   "metadata": {
    "ExecuteTime": {
     "end_time": "2022-02-25T08:51:03.211610Z",
     "start_time": "2022-02-25T08:50:58.841088Z"
    }
   },
   "outputs": [
    {
     "data": {
      "text/plain": [
       "[' Court. \\n\\n  Under the Internal Revenue Code, individuals may subtract from their adjusted gross inco',\n",
       " 't and delivered an opinion, in which Justice Souter, Justice Ginsburg, and Justice Breyer join. \\n\\n T',\n",
       " '.\\n\\nA citizen of Hawaii comes before us claiming that an explicit, race-based voting qualification ha',\n",
       " 't and delivered the opinion of the Court with respect to Parts I, II, III, and VI, an opinion with r',\n",
       " 't. \\n\\n  For private actions brought under 42 U.S.C. § 1983 and other specified measures designed to s']"
      ]
     },
     "execution_count": 266,
     "metadata": {},
     "output_type": "execute_result"
    }
   ],
   "source": [
    "from nltk.sentiment.vader import SentimentIntensityAnalyzer\n",
    "sid = SentimentIntensityAnalyzer()\n",
    "# sample 20% of the dataset\n",
    "dfs = df.sample(frac=.1) \n",
    "\n",
    "# apply compound sentiment score to data-frame\n",
    "def get_sentiment(snippet):\n",
    "    return sid.polarity_scores(snippet)['compound']\n",
    "dfs['sentiment_vader'] = dfs['opinion_text'].apply(get_sentiment)\n",
    "dfs.sort_values('sentiment_vader',inplace=True)\n",
    "# print beginning of most positive documents\n",
    "[x[50:150] for x  in dfs[-5:]['opinion_text']]"
   ]
  },
  {
   "cell_type": "markdown",
   "metadata": {},
   "source": [
    "## Sentiment Analysis with Huggingface "
   ]
  },
  {
   "cell_type": "code",
   "execution_count": 206,
   "metadata": {
    "ExecuteTime": {
     "end_time": "2022-02-25T08:06:44.820739Z",
     "start_time": "2022-02-25T08:06:33.006201Z"
    }
   },
   "outputs": [
    {
     "name": "stderr",
     "output_type": "stream",
     "text": [
      "No model was supplied, defaulted to distilbert-base-uncased-finetuned-sst-2-english (https://huggingface.co/distilbert-base-uncased-finetuned-sst-2-english)\n"
     ]
    }
   ],
   "source": [
    "from transformers import pipeline, AutoModelForTokenClassification, AutoTokenizer\n",
    "pipe = pipeline(\"sentiment-analysis\")"
   ]
  },
  {
   "cell_type": "code",
   "execution_count": 225,
   "metadata": {
    "ExecuteTime": {
     "end_time": "2022-02-25T08:12:48.077724Z",
     "start_time": "2022-02-25T08:12:33.578170Z"
    }
   },
   "outputs": [
    {
     "data": {
      "application/vnd.jupyter.widget-view+json": {
       "model_id": "4a535366d00343c9b7130ea1443f84d1",
       "version_major": 2,
       "version_minor": 0
      },
      "text/plain": [
       "  0%|          | 0/768 [00:00<?, ?it/s]"
      ]
     },
     "metadata": {},
     "output_type": "display_data"
    }
   ],
   "source": [
    "from torch.utils.data import Dataset\n",
    "from tqdm.auto import tqdm\n",
    "\n",
    "class OpinionDataset(Dataset):\n",
    "    def __init__(self, df):\n",
    "        super().__init__()\n",
    "        self.df = df\n",
    "    def __len__(self):\n",
    "        return len(df)\n",
    "\n",
    "    def __getitem__(self, i):\n",
    "        return df.iloc[i][\"opinion_text\"][:512] # BERT max seq length\n",
    "\n",
    "\n",
    "dataset = OpinionDataset(df)\n",
    "sentiments = []\n",
    "\n",
    "for out in tqdm(pipe(dataset, batch_size=16), total=len(dataset)):\n",
    "        if out['label'] == \"NEGATIVE\":\n",
    "            sentiments.append(-1*out['score'])\n",
    "        else:\n",
    "            sentiments.append(out['score'])"
   ]
  },
  {
   "cell_type": "code",
   "execution_count": 213,
   "metadata": {
    "ExecuteTime": {
     "end_time": "2022-02-25T08:08:31.770176Z",
     "start_time": "2022-02-25T08:08:31.762865Z"
    }
   },
   "outputs": [],
   "source": [
    "df['sentiments'] = sentiments"
   ]
  },
  {
   "cell_type": "code",
   "execution_count": 214,
   "metadata": {
    "ExecuteTime": {
     "end_time": "2022-02-25T08:08:32.130342Z",
     "start_time": "2022-02-25T08:08:32.122275Z"
    }
   },
   "outputs": [
    {
     "data": {
      "text/plain": [
       "['. \\n\\nLiberty protects the person from unwarranted government intrusions into a dwelling or other priv',\n",
       " '. \\n\\nPetitioner Edward Jerome Harbison was sentenced to death by a Tennessee court in 1983.  In 1997,',\n",
       " '\\n\\nThis case concerns the timeliness of a complaint filed in a private securities fraud action.  The ',\n",
       " \"\\n\\n When a debtor files a Chapter 7 bankruptcy petition, all of the debtor's assets become property o\",\n",
       " '. \\n\\n The question before us is whether the Controlled Substances Act allows the United States Attorn']"
      ]
     },
     "execution_count": 214,
     "metadata": {},
     "output_type": "execute_result"
    }
   ],
   "source": [
    "df.sort_values('sentiments',inplace=True)\n",
    "# print beginning of most positive documents\n",
    "[x[50:150] for x  in df[-5:]['opinion_text']]"
   ]
  },
  {
   "cell_type": "code",
   "execution_count": 215,
   "metadata": {
    "ExecuteTime": {
     "end_time": "2022-02-25T08:08:40.938052Z",
     "start_time": "2022-02-25T08:08:40.924251Z"
    }
   },
   "outputs": [
    {
     "data": {
      "text/plain": [
       "[\" \\n\\n Officers executing a warrant to search for cocaine in respondent Banks's apartment knocked and a\",\n",
       " ' and delivered the opinion of the Court with respect to Parts I, II, and III-A, and an opinion with ',\n",
       " 't.\\n\\nThe question presented in this case is whether an anonymous tip that a person is carrying a gun ',\n",
       " 't.\\n\\nPetitioner, a nonnamed member of a class certified under Federal Rule of Civil Procedure 23(b)(1',\n",
       " 'The issue is whether the Burma law of the Commonwealth of Massachusetts, restricting the authority o']"
      ]
     },
     "execution_count": 215,
     "metadata": {},
     "output_type": "execute_result"
    }
   ],
   "source": [
    "# print beginning of most negative documents\n",
    "[x[50:150] for x  in df[:5]['opinion_text']]"
   ]
  },
  {
   "cell_type": "markdown",
   "metadata": {},
   "source": [
    "## StopWords"
   ]
  },
  {
   "cell_type": "code",
   "execution_count": 84,
   "metadata": {
    "ExecuteTime": {
     "end_time": "2022-02-21T10:19:55.651335Z",
     "start_time": "2022-02-21T10:19:55.649820Z"
    },
    "scrolled": true
   },
   "outputs": [
    {
     "name": "stdout",
     "output_type": "stream",
     "text": [
      "{'quite', 'herself', 'below', 'on', 'per', 'if', 'from', 'under', 'already', 'rather', 'seemed', 'seeming', 'nine', 'and', 'whither', 'among', 'many', 'can', '‘m', 'hence', 'yourself', 'always', 'some', 'yet', 'whom', 'within', 'sometimes', 'for', 'move', 'eight', '’ve', 'formerly', 'we', 'latterly', 'herein', 'third', 'whose', 'due', 'cannot', 'back', '‘s', 'five', 'used', 'more', 'again', \"'m\", 'or', 'unless', 'during', 'before', 'towards', 'where', 'serious', 'somehow', 'my', 'after', 'itself', 'various', 'the', 'once', 'show', 'whole', 'done', 'hundred', 'mostly', 'onto', 'this', 'yours', 'without', 'above', 'until', 'both', 'its', 'those', 'few', 'say', 'himself', 'then', 'former', 'often', 'doing', 'against', 'beyond', 'else', 'not', 'be', 'all', 'his', 'toward', 'became', 'an', 'indeed', 'who', 'will', 'she', 'would', 'yourselves', 'i', 'only', \"'re\", 'next', \"n't\", 'with', 'him', 'either', 'neither', 'made', 'latter', 'is', 'moreover', 'front', 'none', 'give', 'four', 'top', 'over', 'whereby', 'beside', 'empty', 'might', 'others', 'may', 'therein', 'beforehand', 'hereupon', 'whereupon', 'twenty', 'ca', 'go', 'thereupon', 'no', 'somewhere', \"'ve\", 'now', 'ten', 'six', '‘d', 'become', 'fifty', 'was', 'ours', 'meanwhile', 'anything', 'everywhere', 'whatever', 'into', 'own', 'between', 'forty', 'sometime', 'up', 'seem', 'everything', '’ll', 'been', 'such', 'myself', 'take', 'also', 'eleven', '’m', 'nobody', 'therefore', 'you', 'her', 'our', 'which', 'someone', 'anyone', 'please', 'every', 'same', 'what', 'that', 'of', 'should', 'full', \"'d\", 'alone', 'hereafter', 'three', 'because', 'never', 'something', 'while', 'whenever', 'very', 'here', 'through', 'one', 'whoever', 'why', 'least', 'anyhow', 'nothing', 'had', 'throughout', 'at', 'thereafter', 'hereby', 'me', '’d', 'in', 'although', 'thru', 'two', 'otherwise', 'out', 'regarding', 'via', 'however', 'keep', 'though', 'across', 'see', 'behind', 'thereby', 're', 'everyone', 'sixty', 'their', 'fifteen', 'how', 'perhaps', 'last', 'afterwards', 'n’t', 'other', 'first', 'ever', 'off', 'upon', 'amongst', 'whence', 'well', 'themselves', 'twelve', \"'ll\", 'am', 'thus', 'mine', '‘ve', 'even', 'he', 'whereas', 'did', 'several', '‘ll', 'than', 'really', 'there', 'nevertheless', 'as', 'less', 'besides', 'along', 'any', 'get', 'further', 'so', 'thence', 'name', 'hers', 'have', 'wherein', 'but', 'they', 'nowhere', 'being', 'these', 'most', 'much', '’re', 'about', 'another', 'make', 'do', 'down', '’s', 'seems', 'bottom', 'noone', 'your', 'when', 'elsewhere', 'enough', 'does', 'by', 'namely', 'ourselves', '‘re', 'still', 'becoming', 'each', 'them', 'are', 'around', 'a', 'it', 'us', 'to', 'amount', 'anywhere', 'whereafter', 'must', 'just', 'could', 'n‘t', 'call', 'together', 'were', 'side', 'part', 'almost', 'has', 'anyway', 'using', 'nor', 'since', 'whether', \"'s\", 'becomes', 'too', 'put', 'except', 'wherever'}\n"
     ]
    }
   ],
   "source": [
    "#from nltk.corpus import stopwords\n",
    "#stopwords = set(stopwords.words('english'))\n",
    "#stopwords\n",
    "from spacy.lang.en import stop_words\n",
    "print (stop_words.STOP_WORDS)"
   ]
  },
  {
   "cell_type": "code",
   "execution_count": 85,
   "metadata": {
    "ExecuteTime": {
     "end_time": "2022-02-21T10:19:55.654433Z",
     "start_time": "2022-02-21T10:19:55.652082Z"
    }
   },
   "outputs": [
    {
     "data": {
      "text/plain": [
       "191526"
      ]
     },
     "execution_count": 85,
     "metadata": {},
     "output_type": "execute_result"
    }
   ],
   "source": [
    "#stopfreq = np.sum([freqs[x] for x in stopwords])\n",
    "#stopfreq # 174132 for NLTK stopwords\n",
    "stopwords = stop_words.STOP_WORDS\n",
    "stopfreq = np.sum([freqs[x] for x in stopwords])\n",
    "stopfreq"
   ]
  },
  {
   "cell_type": "code",
   "execution_count": 86,
   "metadata": {
    "ExecuteTime": {
     "end_time": "2022-02-21T10:19:55.663598Z",
     "start_time": "2022-02-21T10:19:55.655124Z"
    }
   },
   "outputs": [
    {
     "data": {
      "text/plain": [
       "306516"
      ]
     },
     "execution_count": 86,
     "metadata": {},
     "output_type": "execute_result"
    }
   ],
   "source": [
    "otherfreq = np.sum([freqs[x] for x in freqs if x not in stopwords])\n",
    "otherfreq"
   ]
  },
  {
   "cell_type": "markdown",
   "metadata": {},
   "source": [
    "## RegEx"
   ]
  },
  {
   "cell_type": "markdown",
   "metadata": {},
   "source": [
    "Please refer to [RegExOne Regular Expressions Lessons](regexone.com) and [the python documentation](https://docs.python.org/3/howto/regex.html)."
   ]
  },
  {
   "cell_type": "code",
   "execution_count": 140,
   "metadata": {
    "ExecuteTime": {
     "end_time": "2022-02-24T19:55:30.599081Z",
     "start_time": "2022-02-24T19:55:30.582719Z"
    }
   },
   "outputs": [
    {
     "name": "stdout",
     "output_type": "stream",
     "text": [
      "['Justice Kennedy ', 'justice that ', 'Justice Alito ']\n",
      "['Justice Breyer ']\n",
      "['Justice Kennedy ', 'Justice Calogero ', 'justice that ', 'Justice Brennan ', 'Justice Marshall ', 'justice is ']\n",
      "['Justice Breyer ', 'Justice Alito ']\n",
      "['Justice Thomas ', 'Justice Souter ', 'justice system ']\n"
     ]
    }
   ],
   "source": [
    "import re\n",
    "\n",
    "docs = dfs[:5]['opinion_text']\n",
    "\n",
    "# Extract words after justice.\n",
    "for doc in docs:    \n",
    "    print(re.findall(r'Justice \\w+ ', # pattern to match. always put 'r' in front of string so that backslashes are treated literally.\n",
    "                     doc,            # string\n",
    "                     re.IGNORECASE))  # ignore upper/lowercase (optional)"
   ]
  },
  {
   "cell_type": "code",
   "execution_count": 141,
   "metadata": {
    "ExecuteTime": {
     "end_time": "2022-02-24T19:55:36.006992Z",
     "start_time": "2022-02-24T19:55:35.971925Z"
    }
   },
   "outputs": [
    {
     "name": "stdout",
     "output_type": "stream",
     "text": [
      "['state-court', 'father-in', 'cross-examination', 'right-side', 'ex-husband', 'blood-type', 'blood-group', 'blood-type', 'O-type', 'blood-type', 'cross-examination', 'ninety-three', 'guilt-phase', 'court-appointed', 'jury-instructions', 'ineffective-assistance', 'state-law', 'six-judge', 'eight-judge', 'actual-innocence', 'real-life', 'who-done', 'state-court', 'miscarriage-of', 'actual-innocence', 'actual-innocence', 'sentencing-related', 'reasonable-doubt', 'guilt-phase', 'blood-caked', 'half-full', 'cross-examination', 'cross-examine', 'post-trial', 'self-described', 'knocked-over', 'eleventh-hour']\n",
      "['state-court', 'one-third', 'ingle-digit', 'error-free', 'error-free']\n",
      "['year-old', 'T-shirt', 'drive-by', 'sixty-five', 'ex-wife', 'first-degree', 'non-homicide', 'bright-line', 'IV-B', 'state-law', 'state-law', 'Thirty-seven', 'Courts-Martial', 'four-Member', 'year-old', 'year-old', 'state-court', 'year-olds', 'year-old', 'Long-Term', 'case-specific', 'Woodson-Lockett', 'first-degree', 'first-degree', 'Inter-University', 'Incident-Based', 'first-degree', 'first-time', 'common-sense', 'cold-blooded', 'III-D', 'IV-A', 'long-term', 'abuse-related', 'year-olds', 'Goodman-Brown', 'consensus-making']\n",
      "['pro-life', 'anti-abortion', 'pro-choice', 'pro-choice', 'pro-life', 'pro-life', 'clinic-related', 'extortion-related', 'extortion-related', 'extortion-related', 'Allied-Bruce', 'Anti-Racketeering', 'Anti-Racketeering', 'non-property', 'Anti-Racketeering', 'bona-fide', 'bona-fide', 'bona-fide', 'bona-fide', 'Anti-Racketeering']\n",
      "['month-old', 'first-degree', 'first-degree', 'third-party', 'state-court', 'death-eligible', 'death-eligible', 'death-eligible', 'death-eligible', 'Furman-type', 'well-established', 'guilt-phase', 'Bedau-Radelet', 'bright-line']\n"
     ]
    }
   ],
   "source": [
    "# Extract hyphenated words\n",
    "for doc in docs:    \n",
    "    print(re.findall(r'[a-z]+-[a-z]+', \n",
    "                     doc,            \n",
    "                     re.IGNORECASE))  "
   ]
  },
  {
   "cell_type": "code",
   "execution_count": 142,
   "metadata": {
    "ExecuteTime": {
     "end_time": "2022-02-24T19:55:55.577176Z",
     "start_time": "2022-02-24T19:55:55.538386Z"
    },
    "scrolled": true
   },
   "outputs": [
    {
     "name": "stdout",
     "output_type": "stream",
     "text": [
      "0 (792, 804) 513 U.S. 298\n",
      "0 (8282, 8290) 9 and 11\n",
      "0 (8535, 8544) 7 Tr. 985\n",
      "0 (10385, 10393) 30 or 10\n",
      "0 (17080, 17089) 6 Tr. 864\n",
      "0 (22356, 22367) 10 Tr. 1410\n",
      "0 (23416, 23430) 743 S.W.2d 141\n",
      "0 (24205, 24217) 498 U.S. 912\n",
      "0 (24917, 24935) 111 (repealed 1995\n",
      "0 (24958, 24972) 911 S.W.2d 705\n",
      "0 (25032, 25045) 517 U.S. 1193\n",
      "0 (25662, 25674) 505 U.S. 333\n",
      "0 (26525, 26537) 311 F.3d 767\n",
      "0 (26666, 26678) 506 U.S. 390\n",
      "0 (27879, 27891) 539 U.S. 937\n",
      "0 (28244, 28256) 386 F.3d 668\n",
      "0 (28857, 28870) 545 U.S. 1151\n",
      "0 (29143, 29155) 477 U.S. 478\n",
      "0 (29218, 29230) 456 U.S. 107\n",
      "0 (29298, 29309) 433 U.S. 72\n",
      "0 (30883, 30895) 499 U.S. 467\n",
      "0 (34597, 34609) 443 U.S. 307\n",
      "0 (35481, 35498) 1996 (AEDPA), 110\n",
      "0 (36519, 36531) 517 U.S. 314\n",
      "0 (39216, 39226) 9 Tr. 1302\n",
      "0 (49546, 49555) 6 Tr. 906\n",
      "0 (55145, 55155) 7 Tr. 1087\n",
      "0 (59905, 59913) 30 to 10\n",
      "1 (1439, 1451) 517 U.S. 559\n",
      "1 (1846, 1858) 538 U.S. 408\n",
      "1 (1904, 1916) 540 U.S. 801\n",
      "1 (4983, 4995) 509 U.S. 443\n",
      "1 (5440, 5451) 340 Ore. 35\n",
      "1 (5460, 5468) 127 P. 3\n",
      "1 (5627, 5635) 127 P. 3\n",
      "1 (6533, 6545) 418 U.S. 323\n",
      "1 (6625, 6637) 453 U.S. 247\n",
      "1 (6728, 6738) 499 U.S. 1\n",
      "1 (7960, 7972) 512 U.S. 415\n",
      "1 (8137, 8149) 532 U.S. 424\n",
      "1 (9380, 9391) 405 U.S. 56\n",
      "1 (14277, 14285) 127 P. 3\n",
      "1 (15546, 15554) 127 P. 3\n",
      "1 (15770, 15778) 127 P. 3\n",
      "1 (15935, 15943) 127 P. 3\n",
      "1 (16749, 16761) 515 U.S. 389\n",
      "1 (17116, 17128) 334 U.S. 728\n",
      "2 (314, 322) 8 and 14\n",
      "2 (353, 365) 370 U.S. 660\n",
      "2 (827, 840) 42 (West 1997\n",
      "2 (2067, 2075) 20 and 9\n",
      "2 (5948, 5956) 30 and 7\n",
      "2 (6821, 6834) 42 (West 1997\n",
      "2 (8024, 8032) 12 to 13\n",
      "2 (8163, 8175) 4 (West 1997\n",
      "2 (9094, 9103) 16 (La. 5\n",
      "2 (9112, 9121) 957 So. 2\n",
      "2 (9908, 9920) 2076 (La. 12\n",
      "2 (9929, 9938) 685 So. 2\n",
      "2 (10079, 10091) 433 U.S. 584\n",
      "2 (10556, 10565) 957 So. 2\n",
      "2 (10893, 10905) 543 U.S. 551\n",
      "2 (10972, 10984) 536 U.S. 304\n",
      "2 (11190, 11199) 957 So. 2\n",
      "2 (12047, 12056) 957 So. 2\n",
      "2 (12508, 12520) 433 U.S. 917\n",
      "2 (12749, 12758) 957 So. 2\n",
      "2 (12795, 12808) 552 U.S. 1087\n",
      "2 (13654, 13666) 217 U.S. 349\n",
      "2 (14092, 14103) 356 U.S. 86\n",
      "2 (14423, 14435) 408 U.S. 238\n",
      "2 (14913, 14925) 501 U.S. 957\n",
      "2 (15855, 15867) 428 U.S. 153\n",
      "2 (16562, 16574) 433 U.S. 584\n",
      "2 (16887, 16899) 458 U.S. 782\n",
      "2 (17196, 17208) 481 U.S. 137\n",
      "2 (19540, 19553) 1930 and 1964\n",
      "2 (19686, 19694) 262 to 5\n",
      "2 (20627, 20639) 428 U.S. 280\n",
      "2 (20808, 20820) 428 U.S. 325\n",
      "2 (20941, 20955) 550 S.W.2d 643\n",
      "2 (20957, 20972) 646 (Tenn. 1977\n",
      "2 (21052, 21061) 403 So. 2\n",
      "2 (21068, 21082) 951 (Fla. 1981\n",
      "2 (21173, 21182) 548 So. 2\n",
      "2 (21193, 21208) 403 (Miss. 1989\n",
      "2 (22581, 22595) 30 (Supp. 2007\n",
      "2 (22928, 22942) 108 Stat. 1972\n",
      "2 (23365, 23376) 243 Ga. 131\n",
      "2 (23387, 23401) 252 S.E.2d 625\n",
      "2 (24079, 24090) 283 Ga. 206\n",
      "2 (24097, 24111) 657 S.E.2d 838\n",
      "2 (24676, 24685) 403 So. 2\n",
      "2 (25248, 25257) 721 So. 2\n",
      "2 (25425, 25434) 453 So. 2\n",
      "2 (26982, 26997) 70 between 1989\n",
      "2 (27134, 27147) 1995 and 2005\n",
      "2 (27535, 27548) 1954 and 1982\n",
      "2 (28910, 28924) 2000 ed.), 920\n",
      "2 (35264, 35273) 685 So. 2\n",
      "2 (35528, 35537) 350 So. 2\n",
      "2 (35545, 35561) 1360 (Miss. 1977\n",
      "2 (35925, 35938) 207 Ariz. 261\n",
      "2 (35951, 35958) 85 P. 3\n",
      "2 (35973, 35985) 8 (App. 2004\n",
      "2 (36331, 36340) 30 Cal. 4\n",
      "2 (36376, 36383) 69 P. 3\n",
      "2 (36737, 36746) 921 So. 2\n",
      "2 (36753, 36767) 526 (Fla. 2005\n",
      "2 (36821, 36830) 695 So. 2\n",
      "2 (36832, 36846) 691 (Fla. 1997\n",
      "2 (36868, 36881) 185 Mont. 299\n",
      "2 (36888, 36901) 605 P.2d 1000\n",
      "2 (37002, 37014) 947 P.2d 630\n",
      "2 (37016, 37030) 653 (Utah 1997\n",
      "2 (37164, 37174) 212 Ill. 2\n",
      "2 (37186, 37200) 816 N.E.2d 322\n",
      "2 (38353, 38362) 403 So. 2\n",
      "2 (38470, 38477) 69 P. 3\n",
      "2 (41783, 41796) 1986 and 2001\n",
      "2 (42064, 42077) 1989 and 2005\n",
      "2 (42483, 42495) 492 U.S. 361\n",
      "2 (42528, 42542) 306 (1989), 12\n",
      "2 (42823, 42832) 16 and 18\n",
      "2 (44657, 44665) 262 to 5\n",
      "2 (44716, 44728) 487 U.S. 815\n",
      "2 (49033, 49045) 479 U.S. 538\n",
      "2 (49250, 49262) 428 U.S. 153\n",
      "2 (49305, 49317) 408 U.S. 238\n",
      "2 (49375, 49387) 446 U.S. 420\n",
      "2 (49981, 49993) 438 U.S. 586\n",
      "2 (50213, 50225) 512 U.S. 967\n",
      "2 (50411, 50423) 497 U.S. 639\n",
      "2 (51219, 51230) 553 U.S. 35\n",
      "2 (51422, 51435) 510 U.S. 1141\n",
      "2 (53625, 53637) 458 U.S. 782\n",
      "2 (58238, 58250) 428 U.S. 262\n",
      "2 (58509, 58521) 507 U.S. 463\n",
      "2 (59651, 59663) 428 U.S. 153\n",
      "2 (63414, 63426) 551 U.S. 930\n",
      "2 (64865, 64877) 121 (Aug. 26\n",
      "2 (66509, 66526) 1989 Through 2003\n",
      "2 (67311, 67322) 480 U.S. 39\n",
      "3 (2982, 2994) 968 F.2d 612\n",
      "3 (3221, 3233) 510 U.S. 249\n",
      "3 (3588, 3600) 267 F.3d 687\n",
      "3 (3689, 3701) 537 U.S. 393\n",
      "3 (9304, 9316) 513 U.S. 265\n",
      "3 (9390, 9402) 471 U.S. 858\n",
      "3 (9621, 9633) 529 U.S. 848\n",
      "3 (10188, 10200) 48 Stat. 979\n",
      "3 (10408, 10420) 48 Stat. 980\n",
      "3 (11187, 11199) 60 Stat. 420\n",
      "3 (11426, 11438) 435 U.S. 371\n",
      "3 (12551, 12563) 60 Stat. 420\n",
      "3 (14046, 14058) 342 U.S. 246\n",
      "3 (14322, 14334) 508 U.S. 200\n",
      "3 (14438, 14450) 353 U.S. 222\n",
      "3 (15638, 15650) 410 U.S. 396\n",
      "3 (16083, 16096) 184 F.3d 1071\n",
      "3 (16134, 16145) 511 F.2d 25\n",
      "3 (16902, 16914) 348 U.S. 528\n",
      "3 (17079, 17091) 107 U.S. 147\n",
      "3 (19939, 19950) 534 U.S. 84\n",
      "3 (20825, 20837) 48 Stat. 979\n",
      "3 (22957, 22969) 60 Stat. 420\n",
      "4 (2389, 2401) 278 Kan. 520\n",
      "4 (2412, 2420) 102 P. 3\n",
      "4 (2796, 2804) 102 P. 3\n",
      "4 (3370, 3383) 544 U.S. 1060\n",
      "4 (3899, 3911) 420 U.S. 469\n",
      "4 (4073, 4086) 544 U.S. 1060\n",
      "4 (6128, 6140) 466 U.S. 380\n",
      "4 (6220, 6232) 459 U.S. 553\n",
      "4 (6296, 6308) 467 U.S. 649\n",
      "4 (6751, 6763) 272 Kan. 894\n",
      "4 (6765, 6776) 40 P.3d 139\n",
      "4 (7858, 7871) 463 U.S. 1032\n",
      "4 (7980, 7992) 497 U.S. 639\n",
      "4 (8080, 8092) 536 U.S. 584\n",
      "4 (8597, 8610) 159 Ariz. 571\n",
      "4 (8612, 8625) 769 P.2d 1017\n",
      "4 (8759, 8772) 865 F.2d 1011\n",
      "4 (10835, 10847) 494 U.S. 299\n",
      "4 (11235, 11247) 494 U.S. 370\n",
      "4 (11539, 11551) 428 U.S. 280\n",
      "4 (11638, 11650) 428 U.S. 325\n",
      "4 (14639, 14652) 191 Ariz. 372\n",
      "4 (14659, 14671) 956 P.2d 499\n",
      "4 (14713, 14725) 135 Ariz. 42\n",
      "4 (14731, 14741) 659 P.2d 1\n",
      "4 (16698, 16710) 408 U.S. 238\n",
      "4 (16785, 16797) 428 U.S. 153\n",
      "4 (17522, 17534) 487 U.S. 164\n",
      "4 (17627, 17639) 462 U.S. 862\n",
      "4 (17816, 17828) 506 U.S. 461\n",
      "4 (17978, 17990) 438 U.S. 586\n",
      "4 (18590, 18602) 337 U.S. 241\n",
      "4 (19087, 19099) 455 U.S. 104\n",
      "4 (19340, 19350) 476 U.S. 1\n",
      "4 (20227, 20239) 481 U.S. 279\n",
      "4 (26924, 26936) 428 U.S. 280\n",
      "4 (27005, 27017) 428 U.S. 325\n",
      "4 (28944, 28956) 494 U.S. 370\n",
      "4 (29035, 29047) 271 U.S. 104\n",
      "4 (29551, 29563) 479 U.S. 538\n",
      "4 (29967, 29980) 206 -207, 165\n",
      "4 (33210, 33220) 185 Ill. 2\n",
      "4 (33232, 33246) 708 N.E.2d 365\n"
     ]
    }
   ],
   "source": [
    "# extract citations\n",
    "for i, doc in enumerate(docs):\n",
    "    finder = re.finditer('\\d+ [^\\s]+ \\d+', # pattern to match ([^\\s] means non-white-space)\n",
    "                     doc)            # string\n",
    "    for m in finder: \n",
    "        print(i, m.span(),m.group()) # location (start,end) and matching string"
   ]
  },
  {
   "cell_type": "code",
   "execution_count": 146,
   "metadata": {
    "ExecuteTime": {
     "end_time": "2022-02-24T19:58:23.470487Z",
     "start_time": "2022-02-24T19:58:23.465391Z"
    }
   },
   "outputs": [],
   "source": [
    "# baker-bloom economic uncertainty\n",
    "pattern1 = r'(\\b)uncertain[a-z]*'\n",
    "pattern2 = r'(\\b)econom[a-z]*'\n",
    "pattern3 = r'(\\b)congress(\\b)|(\\b)deficit(\\b)|(\\b)federal reserve(\\b)|(\\b)legislation(\\b)|(\\b)regulation(\\b)|(\\b)white house(\\b)'\n",
    "\n"
   ]
  },
  {
   "cell_type": "code",
   "execution_count": 144,
   "metadata": {
    "ExecuteTime": {
     "end_time": "2022-02-24T19:57:51.856588Z",
     "start_time": "2022-02-24T19:57:51.848343Z"
    }
   },
   "outputs": [
    {
     "data": {
      "text/plain": [
       "<re.Match object; span=(30, 41), match='uncertainty'>"
      ]
     },
     "execution_count": 144,
     "metadata": {},
     "output_type": "execute_result"
    }
   ],
   "source": [
    "re.search(pattern1,'The White House tried to calm uncertainty in the markets.')"
   ]
  },
  {
   "cell_type": "code",
   "execution_count": 145,
   "metadata": {
    "ExecuteTime": {
     "end_time": "2022-02-24T19:57:57.465095Z",
     "start_time": "2022-02-24T19:57:57.455425Z"
    }
   },
   "outputs": [
    {
     "data": {
      "text/plain": [
       "<re.Match object; span=(46, 53), match='economy'>"
      ]
     },
     "execution_count": 145,
     "metadata": {},
     "output_type": "execute_result"
    }
   ],
   "source": [
    "re.search(pattern2,'The Congress tried to calm uncertainty in the economy.')"
   ]
  },
  {
   "cell_type": "code",
   "execution_count": 147,
   "metadata": {
    "ExecuteTime": {
     "end_time": "2022-02-24T19:58:25.501487Z",
     "start_time": "2022-02-24T19:58:25.495322Z"
    }
   },
   "outputs": [],
   "source": [
    "re.search(pattern3,'The Congress tried to calm uncertainty in the markets.')"
   ]
  },
  {
   "cell_type": "code",
   "execution_count": 148,
   "metadata": {
    "ExecuteTime": {
     "end_time": "2022-02-24T19:58:25.891850Z",
     "start_time": "2022-02-24T19:58:25.885051Z"
    }
   },
   "outputs": [
    {
     "data": {
      "text/plain": [
       "<re.Match object; span=(4, 12), match='Congress'>"
      ]
     },
     "execution_count": 148,
     "metadata": {},
     "output_type": "execute_result"
    }
   ],
   "source": [
    "re.search(pattern3,'The Congress tried to calm uncertainty in the markets.', re.IGNORECASE)"
   ]
  },
  {
   "cell_type": "code",
   "execution_count": 149,
   "metadata": {
    "ExecuteTime": {
     "end_time": "2022-02-24T19:58:27.988977Z",
     "start_time": "2022-02-24T19:58:27.983865Z"
    }
   },
   "outputs": [],
   "source": [
    "def indicates_uncertainty(doc):\n",
    "    m1 = re.search(pattern1, doc, re.IGNORECASE)\n",
    "    m2 = re.search(pattern2, doc, re.IGNORECASE)\n",
    "    m3 = re.search(pattern3, doc, re.IGNORECASE)\n",
    "    if m1 and m2 and m3:\n",
    "        return True\n",
    "    else:\n",
    "        return False"
   ]
  },
  {
   "cell_type": "code",
   "execution_count": 150,
   "metadata": {
    "ExecuteTime": {
     "end_time": "2022-02-24T19:58:31.927254Z",
     "start_time": "2022-02-24T19:58:31.915697Z"
    }
   },
   "outputs": [
    {
     "data": {
      "text/plain": [
       "True"
      ]
     },
     "execution_count": 150,
     "metadata": {},
     "output_type": "execute_result"
    }
   ],
   "source": [
    "indicates_uncertainty('The White House tried to calm uncertainty in the economy.')"
   ]
  },
  {
   "cell_type": "code",
   "execution_count": 151,
   "metadata": {
    "ExecuteTime": {
     "end_time": "2022-02-24T19:59:06.550986Z",
     "start_time": "2022-02-24T19:59:06.537632Z"
    }
   },
   "outputs": [
    {
     "data": {
      "text/plain": [
       "False"
      ]
     },
     "execution_count": 151,
     "metadata": {},
     "output_type": "execute_result"
    }
   ],
   "source": [
    "indicates_uncertainty('The White House tried to calm uncertainty in the markets.')"
   ]
  },
  {
   "cell_type": "code",
   "execution_count": 305,
   "metadata": {
    "ExecuteTime": {
     "end_time": "2022-02-25T09:55:15.135040Z",
     "start_time": "2022-02-25T09:55:13.319551Z"
    }
   },
   "outputs": [],
   "source": [
    "df['uncertainty'] = df['opinion_text'].apply(indicates_uncertainty)"
   ]
  },
  {
   "cell_type": "code",
   "execution_count": 47,
   "metadata": {},
   "outputs": [
    {
     "data": {
      "text/plain": [
       "0.057291666666666664"
      ]
     },
     "execution_count": 47,
     "metadata": {},
     "output_type": "execute_result"
    }
   ],
   "source": [
    "df.uncertainty.mean()"
   ]
  },
  {
   "cell_type": "code",
   "execution_count": 48,
   "metadata": {},
   "outputs": [
    {
     "data": {
      "text/plain": [
       "<AxesSubplot:xlabel='year'>"
      ]
     },
     "execution_count": 48,
     "metadata": {},
     "output_type": "execute_result"
    },
    {
     "data": {
      "image/png": "[encoded data removed]",
      "text/plain": [
       "<Figure size 432x288 with 1 Axes>"
      ]
     },
     "metadata": {
      "needs_background": "light"
     },
     "output_type": "display_data"
    }
   ],
   "source": [
    "df.groupby('year')['uncertainty'].mean().plot()"
   ]
  },
  {
   "cell_type": "markdown",
   "metadata": {},
   "source": [
    "## WordNet"
   ]
  },
  {
   "cell_type": "markdown",
   "metadata": {},
   "source": [
    "These examples are based on the [NLTK tutorial](https://www.nltk.org/howto/wordnet.html)."
   ]
  },
  {
   "cell_type": "code",
   "execution_count": 311,
   "metadata": {
    "ExecuteTime": {
     "end_time": "2022-02-25T09:58:47.493172Z",
     "start_time": "2022-02-25T09:58:47.486145Z"
    }
   },
   "outputs": [],
   "source": [
    "# nltk.download('wordnet')\n",
    "from nltk.corpus import wordnet as wn"
   ]
  },
  {
   "cell_type": "code",
   "execution_count": 156,
   "metadata": {
    "ExecuteTime": {
     "end_time": "2022-02-24T20:02:33.505007Z",
     "start_time": "2022-02-24T20:02:33.498808Z"
    }
   },
   "outputs": [
    {
     "data": {
      "text/plain": [
       "[Synset('judge.n.01'),\n",
       " Synset('evaluator.n.01'),\n",
       " Synset('judge.v.01'),\n",
       " Synset('evaluate.v.02'),\n",
       " Synset('estimate.v.01'),\n",
       " Synset('pronounce.v.02'),\n",
       " Synset('judge.v.05')]"
      ]
     },
     "execution_count": 156,
     "metadata": {},
     "output_type": "execute_result"
    }
   ],
   "source": [
    "wn.synsets('judge')"
   ]
  },
  {
   "cell_type": "code",
   "execution_count": 312,
   "metadata": {
    "ExecuteTime": {
     "end_time": "2022-02-25T09:59:45.313935Z",
     "start_time": "2022-02-25T09:59:45.305618Z"
    }
   },
   "outputs": [
    {
     "data": {
      "text/plain": [
       "[Synset('judge.v.01'),\n",
       " Synset('evaluate.v.02'),\n",
       " Synset('estimate.v.01'),\n",
       " Synset('pronounce.v.02'),\n",
       " Synset('judge.v.05')]"
      ]
     },
     "execution_count": 312,
     "metadata": {},
     "output_type": "execute_result"
    }
   ],
   "source": [
    "wn.synsets('judge', pos='v') # can filter on part of speech"
   ]
  },
  {
   "cell_type": "code",
   "execution_count": 313,
   "metadata": {
    "ExecuteTime": {
     "end_time": "2022-02-25T09:59:55.836509Z",
     "start_time": "2022-02-25T09:59:55.828784Z"
    }
   },
   "outputs": [
    {
     "data": {
      "text/plain": [
       "Synset('judge.n.01')"
      ]
     },
     "execution_count": 313,
     "metadata": {},
     "output_type": "execute_result"
    }
   ],
   "source": [
    "judge = wn.synset('judge.n.01')\n",
    "judge"
   ]
  },
  {
   "cell_type": "code",
   "execution_count": 314,
   "metadata": {
    "ExecuteTime": {
     "end_time": "2022-02-25T10:00:03.911052Z",
     "start_time": "2022-02-25T10:00:03.902438Z"
    }
   },
   "outputs": [
    {
     "data": {
      "text/plain": [
       "'a public official authorized to decide questions brought before a court of justice'"
      ]
     },
     "execution_count": 314,
     "metadata": {},
     "output_type": "execute_result"
    }
   ],
   "source": [
    "judge.definition()"
   ]
  },
  {
   "cell_type": "code",
   "execution_count": 315,
   "metadata": {
    "ExecuteTime": {
     "end_time": "2022-02-25T10:00:10.315766Z",
     "start_time": "2022-02-25T10:00:10.304304Z"
    }
   },
   "outputs": [
    {
     "data": {
      "text/plain": [
       "['I estimate this chicken to weigh three pounds']"
      ]
     },
     "execution_count": 315,
     "metadata": {},
     "output_type": "execute_result"
    }
   ],
   "source": [
    "wn.synset('estimate.v.01').examples()"
   ]
  },
  {
   "cell_type": "code",
   "execution_count": 171,
   "metadata": {
    "ExecuteTime": {
     "end_time": "2022-02-25T07:57:50.442433Z",
     "start_time": "2022-02-25T07:57:50.431143Z"
    }
   },
   "outputs": [
    {
     "data": {
      "text/plain": [
       "[Synset('adjudicator.n.01'), Synset('official.n.01')]"
      ]
     },
     "execution_count": 171,
     "metadata": {},
     "output_type": "execute_result"
    }
   ],
   "source": [
    "# categories to which \"judge.n.01\" belongs\n",
    "judge.hypernyms()"
   ]
  },
  {
   "cell_type": "code",
   "execution_count": 316,
   "metadata": {
    "ExecuteTime": {
     "end_time": "2022-02-25T10:00:48.120317Z",
     "start_time": "2022-02-25T10:00:48.113103Z"
    }
   },
   "outputs": [
    {
     "data": {
      "text/plain": [
       "[Synset('entity.n.01')]"
      ]
     },
     "execution_count": 316,
     "metadata": {},
     "output_type": "execute_result"
    }
   ],
   "source": [
    "# the root category of \"judge.n.01\"\n",
    "judge.root_hypernyms()"
   ]
  },
  {
   "cell_type": "code",
   "execution_count": 317,
   "metadata": {
    "ExecuteTime": {
     "end_time": "2022-02-25T10:00:53.937497Z",
     "start_time": "2022-02-25T10:00:53.928251Z"
    }
   },
   "outputs": [
    {
     "data": {
      "text/plain": [
       "[Synset('think.v.03')]"
      ]
     },
     "execution_count": 317,
     "metadata": {},
     "output_type": "execute_result"
    }
   ],
   "source": [
    "wn.synset('estimate.v.01').root_hypernyms()"
   ]
  },
  {
   "cell_type": "code",
   "execution_count": 318,
   "metadata": {
    "ExecuteTime": {
     "end_time": "2022-02-25T10:01:08.703182Z",
     "start_time": "2022-02-25T10:01:08.696863Z"
    }
   },
   "outputs": [
    {
     "data": {
      "text/plain": [
       "[Synset('alcalde.n.01'),\n",
       " Synset('chief_justice.n.01'),\n",
       " Synset('daniel.n.02'),\n",
       " Synset('doge.n.01'),\n",
       " Synset('justiciar.n.01'),\n",
       " Synset('magistrate.n.01'),\n",
       " Synset('ordinary.n.01'),\n",
       " Synset('praetor.n.01'),\n",
       " Synset('qadi.n.01'),\n",
       " Synset('recorder.n.03'),\n",
       " Synset('trial_judge.n.01'),\n",
       " Synset('trier.n.01')]"
      ]
     },
     "execution_count": 318,
     "metadata": {},
     "output_type": "execute_result"
    }
   ],
   "source": [
    "# members of the \"judge.n.01\" category\n",
    "judge.hyponyms()"
   ]
  },
  {
   "cell_type": "code",
   "execution_count": 178,
   "metadata": {
    "ExecuteTime": {
     "end_time": "2022-02-25T08:02:52.324402Z",
     "start_time": "2022-02-25T08:02:52.314403Z"
    }
   },
   "outputs": [
    {
     "data": {
      "text/plain": [
       "[Synset('jury.n.01')]"
      ]
     },
     "execution_count": 178,
     "metadata": {},
     "output_type": "execute_result"
    }
   ],
   "source": [
    "# \"holonym\" is a part of a whole\n",
    "juror = wn.synset('juror.n.01')\n",
    "juror.member_holonyms()"
   ]
  },
  {
   "cell_type": "code",
   "execution_count": 179,
   "metadata": {
    "ExecuteTime": {
     "end_time": "2022-02-25T08:02:52.486713Z",
     "start_time": "2022-02-25T08:02:52.476865Z"
    }
   },
   "outputs": [
    {
     "data": {
      "text/plain": [
       "[Synset('person.n.01')]"
      ]
     },
     "execution_count": 179,
     "metadata": {},
     "output_type": "execute_result"
    }
   ],
   "source": [
    "# can find \"lowest common hypernyms\":\n",
    "judge.lowest_common_hypernyms(juror)"
   ]
  },
  {
   "cell_type": "code",
   "execution_count": 319,
   "metadata": {
    "ExecuteTime": {
     "end_time": "2022-02-25T10:01:45.760265Z",
     "start_time": "2022-02-25T10:01:45.748916Z"
    }
   },
   "outputs": [
    {
     "data": {
      "text/plain": [
       "[Lemma('judge.n.01.judge'),\n",
       " Lemma('judge.n.01.justice'),\n",
       " Lemma('judge.n.01.jurist')]"
      ]
     },
     "execution_count": 319,
     "metadata": {},
     "output_type": "execute_result"
    }
   ],
   "source": [
    "# \"lemmas\" are specific senses of a specific word.\n",
    "judge.lemmas()"
   ]
  },
  {
   "cell_type": "code",
   "execution_count": 320,
   "metadata": {
    "ExecuteTime": {
     "end_time": "2022-02-25T10:01:57.383094Z",
     "start_time": "2022-02-25T10:01:57.373544Z"
    }
   },
   "outputs": [
    {
     "data": {
      "text/plain": [
       "['judge', 'justice', 'jurist']"
      ]
     },
     "execution_count": 320,
     "metadata": {},
     "output_type": "execute_result"
    }
   ],
   "source": [
    "[lemma.name() for lemma in judge.lemmas()]"
   ]
  },
  {
   "cell_type": "code",
   "execution_count": 182,
   "metadata": {
    "ExecuteTime": {
     "end_time": "2022-02-25T08:02:54.261992Z",
     "start_time": "2022-02-25T08:02:54.251066Z"
    }
   },
   "outputs": [
    {
     "data": {
      "text/plain": [
       "[Lemma('judicial.s.01.judicial'),\n",
       " Lemma('judicial.a.02.judicial'),\n",
       " Lemma('judicial.a.03.judicial'),\n",
       " Lemma('judgeship.n.01.judgeship'),\n",
       " Lemma('judge.v.05.judge'),\n",
       " Lemma('judge.v.05.adjudicate'),\n",
       " Lemma('decide.v.02.adjudicate')]"
      ]
     },
     "execution_count": 182,
     "metadata": {},
     "output_type": "execute_result"
    }
   ],
   "source": [
    "# lemmas have additional properties\n",
    "judge_lemma = judge.lemmas()[0]\n",
    "judge_lemma.derivationally_related_forms()"
   ]
  },
  {
   "cell_type": "code",
   "execution_count": 183,
   "metadata": {
    "ExecuteTime": {
     "end_time": "2022-02-25T08:02:55.555900Z",
     "start_time": "2022-02-25T08:02:55.548222Z"
    }
   },
   "outputs": [
    {
     "data": {
      "text/plain": [
       "[Lemma('bad.a.01.bad')]"
      ]
     },
     "execution_count": 183,
     "metadata": {},
     "output_type": "execute_result"
    }
   ],
   "source": [
    "good = wn.synset('good.a.01').lemmas()[0]\n",
    "good.antonyms()"
   ]
  },
  {
   "cell_type": "code",
   "execution_count": 184,
   "metadata": {
    "ExecuteTime": {
     "end_time": "2022-02-25T08:02:55.928847Z",
     "start_time": "2022-02-25T08:02:55.918782Z"
    }
   },
   "outputs": [
    {
     "data": {
      "text/plain": [
       "['Somebody judge something', 'Somebody judge PP', 'Somebody judge that CLAUSE']"
      ]
     },
     "execution_count": 184,
     "metadata": {},
     "output_type": "execute_result"
    }
   ],
   "source": [
    "# verb frames summarize the different semantic contexts that a verb can be used\n",
    "judge_verb = wn.synset('estimate.v.01').lemmas()[4]\n",
    "judge_verb.frame_strings()"
   ]
  },
  {
   "cell_type": "code",
   "execution_count": 186,
   "metadata": {
    "ExecuteTime": {
     "end_time": "2022-02-25T08:03:04.668594Z",
     "start_time": "2022-02-25T08:03:04.657402Z"
    }
   },
   "outputs": [
    {
     "data": {
      "text/plain": [
       "0.1111111111111111"
      ]
     },
     "execution_count": 186,
     "metadata": {},
     "output_type": "execute_result"
    }
   ],
   "source": [
    "# measure similarity in the dictionary between words\n",
    "judge.path_similarity(wn.synset('juror.n.01'))"
   ]
  },
  {
   "cell_type": "code",
   "execution_count": 203,
   "metadata": {
    "ExecuteTime": {
     "end_time": "2022-02-25T08:05:31.074790Z",
     "start_time": "2022-02-25T08:05:31.062152Z"
    }
   },
   "outputs": [
    {
     "data": {
      "text/plain": [
       "0.08333333333333333"
      ]
     },
     "execution_count": 203,
     "metadata": {},
     "output_type": "execute_result"
    }
   ],
   "source": [
    "judge.path_similarity(wn.synset('cat.n.01'))"
   ]
  },
  {
   "cell_type": "code",
   "execution_count": 204,
   "metadata": {
    "ExecuteTime": {
     "end_time": "2022-02-25T08:05:31.469152Z",
     "start_time": "2022-02-25T08:05:31.458493Z"
    }
   },
   "outputs": [
    {
     "data": {
      "text/plain": [
       "0.5454545454545454"
      ]
     },
     "execution_count": 204,
     "metadata": {},
     "output_type": "execute_result"
    }
   ],
   "source": [
    "# Wu-Palmer similarity.\n",
    "judge.wup_similarity(juror)"
   ]
  },
  {
   "cell_type": "code",
   "execution_count": 205,
   "metadata": {
    "ExecuteTime": {
     "end_time": "2022-02-25T08:05:31.752657Z",
     "start_time": "2022-02-25T08:05:31.741757Z"
    }
   },
   "outputs": [
    {
     "data": {
      "text/plain": [
       "0.5217391304347826"
      ]
     },
     "execution_count": 205,
     "metadata": {},
     "output_type": "execute_result"
    }
   ],
   "source": [
    "judge.wup_similarity(wn.synset('cat.n.01'))"
   ]
  },
  {
   "cell_type": "code",
   "execution_count": 190,
   "metadata": {
    "ExecuteTime": {
     "end_time": "2022-02-25T08:03:26.100296Z",
     "start_time": "2022-02-25T08:03:23.887564Z"
    }
   },
   "outputs": [
    {
     "name": "stdout",
     "output_type": "stream",
     "text": [
      "Synset('judgeship.n.01')\n",
      "Synset('judgment.n.02')\n",
      "Synset('value_judgment.n.01')\n",
      "Synset('judgment.n.03')\n",
      "Synset('confession_of_judgment.n.01')\n",
      "Synset('default_judgment.n.01')\n",
      "Synset('final_judgment.n.01')\n",
      "Synset('judgment_in_personam.n.01')\n",
      "Synset('judgment_in_rem.n.01')\n",
      "Synset('judgment_of_dismissal.n.01')\n",
      "Synset('judgment_on_the_merits.n.01')\n",
      "Synset('summary_judgment.n.01')\n",
      "Synset('judgment.n.06')\n",
      "Synset('judgment.n.04')\n",
      "Synset('prejudgment.n.01')\n",
      "Synset('judgment.n.01')\n",
      "Synset('judges.n.01')\n",
      "Synset('back_judge.n.01')\n",
      "Synset('field_judge.n.01')\n",
      "Synset('judge.n.01')\n",
      "Synset('judge_advocate.n.02')\n",
      "Synset('judge_advocate.n.01')\n",
      "Synset('judge_advocate_general.n.01')\n",
      "Synset('line_judge.n.01')\n",
      "Synset('side_judge.n.01')\n",
      "Synset('trial_judge.n.01')\n",
      "Synset('judgment_lien.n.01')\n",
      "Synset('judgment_day.n.01')\n"
     ]
    }
   ],
   "source": [
    "# Can iterate over all synsets; e.g., all nouns:\n",
    "for synset in list(wn.all_synsets('n')):\n",
    "    if 'judg' in str(synset):\n",
    "        print(synset)"
   ]
  },
  {
   "cell_type": "markdown",
   "metadata": {},
   "source": [
    "**Exercise**. Use wordnet to expand the set of words in the Baker-Bloom-Davis dictionary and re-compute policy uncertainty scores by year. "
   ]
  },
  {
   "cell_type": "code",
   "execution_count": null,
   "metadata": {},
   "outputs": [],
   "source": []
  }
 ],
 "metadata": {
  "kernelspec": {
   "display_name": "Python 3 (ipykernel)",
   "language": "python",
   "name": "python3"
  },
  "language_info": {
   "codemirror_mode": {
    "name": "ipython",
    "version": 3
   },
   "file_extension": ".py",
   "mimetype": "text/x-python",
   "name": "python",
   "nbconvert_exporter": "python",
   "pygments_lexer": "ipython3",
   "version": "3.8.10"
  },
  "toc": {
   "base_numbering": "1",
   "nav_menu": {},
   "number_sections": true,
   "sideBar": true,
   "skip_h1_title": false,
   "title_cell": "Week 01. Text Data Essentials",
   "title_sidebar": "Contents",
   "toc_cell": true,
   "toc_position": {
    "height": "calc(100% - 180px)",
    "left": "10px",
    "top": "150px",
    "width": "165px"
   },
   "toc_section_display": true,
   "toc_window_display": true
  },
  "toc-autonumbering": false,
  "toc-showcode": false,
  "toc-showmarkdowntxt": false,
  "toc-showtags": false
 },
 "nbformat": 4,
 "nbformat_minor": 4
}
